{
 "cells": [
  {
   "cell_type": "markdown",
   "metadata": {
    "id": "AYHuNu_z3JQ1"
   },
   "source": [
    "# 데이터 타입(data type)\n",
    "\n",
    "데이터를 식별하는 분류로 데이터가 가질 수 있는 값을 결정하고 연산을 제어함\n",
    "\n",
    "+ int : 소숫점을 갖지 않는 정수를 갖는 데이타 타입\n",
    "+ float : 소숫점을 갖는 데이타 타입\n",
    "+ bool : True 혹은 False 만을 갖는 타입\n",
    "+ str : 단일인용부호(') 혹은 이중인용부호(\") 를 사용하여 표현하는 문자, 단어 등으로 구성된 문자들의 집합\n",
    "\n",
    "#### **type(변수명) : 변수의 타입 확인**"
   ]
  },
  {
   "cell_type": "markdown",
   "metadata": {
    "id": "HAVIOTDCR3S4"
   },
   "source": [
    "###[실습]1.다음과 같이 변수값이 저장되었을때 아래와 같이 출력되도록 코드를 작성하시오.  \n",
    "\n",
    "x = 10  \n",
    "y = 10.5  \n",
    "z = True  \n",
    "p = 'python'  \n",
    "\n",
    "---\n",
    "(출력)  \n",
    "10의 데이터 타입 => <class 'int'>  \n",
    "10.5의 데이터 타입 => <class 'float'>  \n",
    "True의 데이터 타입 => <class 'bool'>  \n",
    "python의 데이터 타입 => <class 'str'>  "
   ]
  },
  {
   "cell_type": "code",
   "execution_count": null,
   "metadata": {
    "id": "xRHzp-FuVzAK"
   },
   "outputs": [],
   "source": [
    "#[실습]1. 정답을 작성하세요.\n",
    "x = 10\n",
    "y = 10.5\n",
    "z = True\n",
    "p = 'python'\n",
    "print(f\"{x}의 데이터 타입 =>\", type(x))\n",
    "print(f\"{y}의 데이터 타입 =>\", type(y))\n",
    "print(f\"{z}의 데이터 타입 =>\", type(z))\n",
    "print(f\"{p}의 데이터 타입 =>\", type(p))"
   ]
  },
  {
   "cell_type": "markdown",
   "metadata": {
    "id": "rTfUSAqeDpCS"
   },
   "source": []
  },
  {
   "cell_type": "markdown",
   "metadata": {
    "id": "cw6QaTyk4aYz"
   },
   "source": [
    "#연산자\n",
    "자료를 처리하기 위한 수식들을 결합하여 연산 동작을 수행하도록 하는 기호\n",
    "+ **산술연산자**\n",
    " - 수학적 계산을 수행할 때 사용하는 연산자\n",
    " - 사칙연산자(+, -, *, /), 제곱(**), 나머지(%), 나누기 결과 정수(//)\n",
    "+ **비교연산자(관계연산자)**\n",
    " - 비교할 때 사용하는 연산자\n",
    " - 등호(==), 같지 않음(!=), 부등호(<, >, <=, >=)\n",
    "+ **논리연산자**\n",
    " - 주어진 논리식을 판단하여, 참(true)과 거짓(false)을 결정하는 연산자\n",
    " - and(논리곱), or(논리합), not\n",
    "+ **할당연산자**\n",
    " - 변수에 값을 할당하기 위하여 사용하는 연산자\n",
    " - = (Equal Sign)\n",
    " - +=, -=, *=, /=, %=, //= : 산술연산자와 함께 사용되어 할당을 보다 간결히 하기 위해 사용"
   ]
  },
  {
   "cell_type": "code",
   "execution_count": null,
   "metadata": {
    "id": "D7KERWQ94_VM"
   },
   "outputs": [],
   "source": [
    "#할당 연산자\n",
    "x = 7\n",
    "y = 3.5\n",
    "\n",
    "#산술연산자\n",
    "print(f'{x} + {y} = {x+y}')\n",
    "\n",
    "#산술연산자와 함께 사용한 할당연산자\n",
    "x = x + 10\n",
    "x += 10\n",
    "print(f'{x}')\n",
    "\n",
    "#비교연산자\n",
    "print(f'{x} > {y} = {x > y}')\n",
    "\n",
    "#논리연산자\n",
    "print(f'{x} > 5 or {y} > 5 = { x > 5 or y > 5}')\n"
   ]
  },
  {
   "cell_type": "markdown",
   "metadata": {
    "id": "W5kH_mx7U-Ea"
   },
   "source": [
    "###[실습]2. 다음과 같이 변수값이 저장되었을때 아래와 같이 출력되도록 코드를 작성하시오.  \n",
    "\n",
    "x = 10  \n",
    "y = 2.5  \n",
    "\n",
    "---\n",
    "(출력)  \n",
    "x + y = 12.5  \n",
    "x > y  = True  \n",
    "x > 5 or y > 5 = True   "
   ]
  },
  {
   "cell_type": "code",
   "execution_count": null,
   "metadata": {
    "id": "qG3NGa3ZTcP4"
   },
   "outputs": [],
   "source": [
    "# [실습]2. 정답을 작성하세요.\n",
    "x = 10\n",
    "y = 2.5\n",
    "print('x + y =', x + y)\n",
    "print('x > y =', x > y)\n",
    "print('x > 5 or y > 5 =', x > 5 or y > 5)"
   ]
  },
  {
   "cell_type": "markdown",
   "metadata": {
    "id": "4gN2ognUhrhX"
   },
   "source": [
    "#문자열 포매팅\n",
    "#1. 문자열 포맷코드 사용   \n",
    "1) 문자열 포맷코드 종류   \n",
    "%s(문자열: 문자열로 변환), %c(문자),  \n",
    "%d(정수),%f(실수),%o(8진수),%x(16진수),%%(%자체)  \n",
    "```\n",
    "\"I eat %d apples.\" %3         # I eata 3 apples.\n",
    "number = 10\n",
    "day = \"three\"\n",
    "\"I eat %d apples. so I was sick for %s days.\" %(number,day)\n",
    "#\"I eat 10 apples. so I was sick for three days.\n",
    "```\n",
    "\n"
   ]
  },
  {
   "cell_type": "markdown",
   "metadata": {
    "id": "KCHu4h-QVtYW"
   },
   "source": [
    "###[실습]3. 위 코드를 참고하여 [출력]예시와 같이 출력되도록 코드를 작성하시오.  \n",
    "[출력]  \n",
    "\n",
    "I eat 3 apples.  \n",
    "I eat 10 apples. so I was sick for three days.\n"
   ]
  },
  {
   "cell_type": "code",
   "execution_count": 9,
   "metadata": {
    "colab": {
     "base_uri": "https://localhost:8080/"
    },
    "executionInfo": {
     "elapsed": 319,
     "status": "ok",
     "timestamp": 1724653150067,
     "user": {
      "displayName": "곽상미",
      "userId": "10268103871227333801"
     },
     "user_tz": -540
    },
    "id": "9ip-fmB7lNQw",
    "outputId": "991b7a79-b966-4ba5-d8d6-46720292ed88"
   },
   "outputs": [
    {
     "name": "stdout",
     "output_type": "stream",
     "text": [
      "I eat 3 apples.\n",
      "I eat 10 apples. so I was sick for three days.\n"
     ]
    }
   ],
   "source": [
    "#[실습]3.정답코드를 작성하세요.\n",
    "print(\"I eat %d apples.\" %3)         # I eata 3 apples.\n",
    "number = 10\n",
    "day = \"three\"\n",
    "print(\"I eat %d apples. so I was sick for %s days.\" %(number,day))\n",
    "#\"I eat 10 apples. so I was sick for three days."
   ]
  },
  {
   "cell_type": "markdown",
   "metadata": {
    "id": "726HOlxhlN95"
   },
   "source": [
    "   2) 정렬과 공백 : %숫자s (숫자만큼 자리를 확보: 오른쪽 정렬)\n",
    "  \n",
    "\n",
    "```\n",
    "\"%10s\"       % \"hi\"  (10자리 확보하고 오른쪽 정렬)\n",
    "\"%-10sjane\"  % \"hi\"  (10자리 확보하고 왼쪽 정렬)\n",
    "```\n",
    "   3) 소수점 표현\n",
    "   ```\n",
    "   \"%0.4f\" % 3.42134234 (소수점 4자리)\n",
    "   \"%10.4f\" % 3.42134234 (10자리 확보후 소수점 4자리)\n",
    "   ```\n",
    "\n",
    "\n",
    "\n"
   ]
  },
  {
   "cell_type": "markdown",
   "metadata": {
    "id": "UWssK4QKXKkP"
   },
   "source": [
    "###[실습]4. 위 설명을 참고하여 아래와 같은 출력이 되도록 코드를 작성하시오.\n",
    "[출력]\n",
    "```\n",
    "     hello\n",
    "hello     busan\n",
    "8.91347\n",
    "      8.91\n",
    "```"
   ]
  },
  {
   "cell_type": "code",
   "execution_count": 23,
   "metadata": {
    "id": "eMTw8gkQnujN"
   },
   "outputs": [
    {
     "name": "stdout",
     "output_type": "stream",
     "text": [
      "     hello\n",
      "hello     busan\n",
      "8.91347\n",
      "      8.91\n"
     ]
    }
   ],
   "source": [
    "#[실습]4. 정답을 작성하세요.\n",
    "print(\"%10s\"%\"hello\")\n",
    "print(\"%-10sbusan\"  % \"hello\")\n",
    "print(\"%0.5f\"%8.91347)\n",
    "print(\"%10.2f\"%8.91347)\n",
    "#  10자리 확보하고 오른쪽 정렬\n",
    "#  10자리 확보하고 왼쪽 정렬\n",
    "# 소수점 5자리 표현\n",
    "# 10자리 확보후 소수점 2자리"
   ]
  },
  {
   "cell_type": "markdown",
   "metadata": {
    "id": "Bu-IG2XfgtiR"
   },
   "source": []
  },
  {
   "cell_type": "markdown",
   "metadata": {
    "id": "fT_5ntd9n8Uk"
   },
   "source": [
    "#2. format함수를 사용한 포매팅\n",
    "[사용법] \"문자열 {인덱스1}문자열 {인덱스2}\".format(값1, 값2)  \n",
    "[사용법] \"문자열 {변수1}문자열 {변수2}\".format(변수1=값, 변수2=값)\n",
    "```\n",
    "#format함수를 사용한 포매팅\n",
    "\"I eat {0} apples\".format(3)\n",
    "\"I eat {0} apples\".format(\"five\")\n",
    "number = 3\n",
    "\"I eat{0} apples\".format(number)\n",
    "day = \"three\"\n",
    "#인덱스 사용하기\n",
    "\"I eat {0} apples. so I was sick for {1} days.\".format(number,day)\n",
    "#변수  사용하기\n",
    "\"I eat {number} apples. so I was sick for {day} days.\".format(number=5,day=3)\n",
    "#인덱스와 변수이름으로 함께 사용\n",
    "\"I eat {0} apples. so I was sick for {day} days.\".format(10, day=3)\n",
    "```\n",
    "   \n"
   ]
  },
  {
   "cell_type": "markdown",
   "metadata": {
    "id": "7Z1mu_NXYkXp"
   },
   "source": [
    "###[실습]5. 위 예시를 참고하여 아래와 같은 [출력]결과가 되도록 코드를 작성하시오.  \n",
    "[출력]  \n",
    "```\n",
    "I eat 3 apples\n",
    "I eat five apples\n",
    "I eat3 apples\n",
    "I eat 3 apples. so I was sick for three days.\n",
    "I eat 5 apples. so I was sick for 3 days.\n",
    "I eat 10 apples. so I was sick for 3 days.\n",
    "```"
   ]
  },
  {
   "cell_type": "code",
   "execution_count": 24,
   "metadata": {
    "id": "T-GOBSUeqwiI"
   },
   "outputs": [
    {
     "name": "stdout",
     "output_type": "stream",
     "text": [
      "I eat 3 apples\n",
      "I eat five apples\n",
      "I eat3 apples\n",
      "I eat 3 apples. so I was sick for three days.\n",
      "I eat 5 apples. so I was sick for 3 days.\n",
      "I eat 10 apples. so I was sick for 3 days.\n"
     ]
    }
   ],
   "source": [
    "#[실습]5. 코드를 작성하세요.\n",
    "# format함수를 사용한 포매팅\n",
    "\n",
    "number = 3\n",
    "print(\"I eat {0} apples\".format(3))\n",
    "print(\"I eat {0} apples\".format(\"five\"))\n",
    "print(\"I eat{0} apples\".format(number))\n",
    "day = \"three\"\n",
    "# 인덱스 사용하기\n",
    "print(\"I eat {0} apples. so I was sick for {1} days.\".format(number,day))\n",
    "\n",
    "# 변수  사용하기\n",
    "print(\"I eat {number} apples. so I was sick for {day} days.\".format(number=5,day=3))\n",
    "\n",
    "# 인덱스와 변수이름으로 함께 사용\n",
    "print(\"I eat {0} apples. so I was sick for {day} days.\".format(10, day=3))\n"
   ]
  },
  {
   "cell_type": "markdown",
   "metadata": {
    "id": "6-O0pBbYq44E"
   },
   "source": [
    "```\n",
    "#소수점 표현하기\n",
    "y=3.42134234\n",
    "\"{0:0.4f}\".format(y)\n",
    "\"{0:10.4f}\".format(y)\n",
    "#{}문자표현하기\n",
    "\"{{and}}\".format()\n",
    "```"
   ]
  },
  {
   "cell_type": "markdown",
   "metadata": {
    "id": "UQpGDeTqd-01"
   },
   "source": [
    "###[실습]6. 위 예시를 참고하여 아래와 같은 [출력]결과가 되도록 코드를 작성하시오.  \n",
    "[출력]  \n",
    "```\n",
    "3.42\n",
    "     3.421\n",
    "{and}\n",
    "```"
   ]
  },
  {
   "cell_type": "code",
   "execution_count": 26,
   "metadata": {
    "id": "LWnGQYhTeiCT"
   },
   "outputs": [
    {
     "name": "stdout",
     "output_type": "stream",
     "text": [
      "3.42\n",
      "    3.4213\n",
      "{and}\n"
     ]
    }
   ],
   "source": [
    "#[실습]6.코드를 작성하세요.\n",
    "# 소수점 표현하기\n",
    "y=3.42134234\n",
    "print(\"{0:0.2f}\".format(y))\n",
    "print(\"{0:10.4f}\".format(y))\n",
    "# {}문자표현하기\n",
    "print(\"{{and}}\".format())"
   ]
  },
  {
   "cell_type": "markdown",
   "metadata": {
    "id": "fej2ZBE5rpoP"
   },
   "source": [
    "##3. f-스트링  포매팅\n",
    "**[사용법]&nbsp;  f'문자열{변수}문자열'**\n",
    "```\n",
    "age =30\n",
    "f'나이는 {age+1}'\n",
    "#딕셔너리\n",
    "d ={'name':'홍길동','age':30}\n",
    "f'이름은{d[\"name\"], 나이는 {d[\"age\"]}\n",
    "#정렬 (:>,:<,:^)\n",
    "f'{\"hi\":<10}'  #10자리 확보하고 왼쪽 정렬\n",
    "f'{\"hi\":^10}'  #10자리 확보하고 가운데 정렬\n",
    "f'{\"hi\":>10}'  #10자리 확보하고 왼쪽 정렬\n",
    "\n",
    "```"
   ]
  },
  {
   "cell_type": "markdown",
   "metadata": {
    "id": "dypYG9FddBih"
   },
   "source": [
    "###[실습]7. 위 예시를 작성하여 [출력] 결과가 출력되도록 코드를 작성하시오.  \n",
    "[출력]  \n",
    "```\n",
    "나이는 31\n",
    "이름은홍길동, 나이는 30\n",
    "hi        \n",
    "    hi    \n",
    "        hi\n",
    "```\n"
   ]
  },
  {
   "cell_type": "code",
   "execution_count": 30,
   "metadata": {
    "id": "aE-Hwjyrt6hL"
   },
   "outputs": [
    {
     "name": "stdout",
     "output_type": "stream",
     "text": [
      "나이는 31\n",
      "이름은홍길동, 나이는 30\n",
      "hi        \n",
      "    hi    \n",
      "        hi\n"
     ]
    }
   ],
   "source": [
    "#[실습]7. 코드를 작성하고 출력하시오.\n",
    "age = 30\n",
    "print(f'나이는 {age+1}')\n",
    "#딕셔너리\n",
    "d ={'name':'홍길동','age':30}\n",
    "print(f'이름은{d[\"name\"]}, 나이는 {d[\"age\"]}')\n",
    "#정렬 (:>,:<,:^)\n",
    "print(f'{\"hi\":<10}')  #10자리 확보하고 왼쪽 정렬\n",
    "print(f'{\"hi\":^10}')  #10자리 확보하고 가운데 정렬\n",
    "print(f'{\"hi\":>10}')  #10자리 확보하고 왼쪽 정렬"
   ]
  },
  {
   "cell_type": "markdown",
   "metadata": {
    "id": "lDSKDM-xt7fO"
   },
   "source": [
    "```\n",
    "#공백채우기\n",
    "f'{\"hi\":=^10}'    #가운데 정렬하고 =로 채우기\n",
    "f'{\"hi\":!<10}'    #왼쪽 정렬하고 !로 채우기\n",
    "#소수점 표현\n",
    "y=3.42134234\n",
    "f'{y:0.4f}'\n",
    "f'{y:10.4f}'  #총 자리수는 10\n",
    "# {}문자표현하기\n",
    "f'{{and}}'\n",
    "```"
   ]
  },
  {
   "cell_type": "markdown",
   "metadata": {
    "id": "eZc0MZyaftDE"
   },
   "source": [
    "###[실습]8. 위 예시를 작성하여 [출력] 결과가 출력되도록 코드를 작성하시오.  \n",
    "[출력]  \n",
    "```\n",
    "====hi====\n",
    "hi!!!!!!!!\n",
    "3.4213\n",
    "    3.4213\n",
    "{and}\n",
    "```\n"
   ]
  },
  {
   "cell_type": "code",
   "execution_count": 40,
   "metadata": {
    "id": "qQtpZHYqugSz"
   },
   "outputs": [
    {
     "name": "stdout",
     "output_type": "stream",
     "text": [
      "====hi====\n",
      "hi!!!!!!!!\n",
      "3.4213\n",
      "    3.4213\n",
      "{and}\n"
     ]
    }
   ],
   "source": [
    "#[실습]8. 코드를 작성하세요.\n",
    "print(\"====hi====\")\n",
    "print(\"%-s!!!!!!!!\"%'hi')\n",
    "print(\"%.4f\"%3.4213)\n",
    "print(\"%10.4f\"%3.4213)\n",
    "print(f\"{{and}}\")"
   ]
  },
  {
   "cell_type": "markdown",
   "metadata": {
    "id": "-ZNI2mCkrgVD"
   },
   "source": []
  },
  {
   "cell_type": "markdown",
   "metadata": {
    "id": "uk5EQTCn5QFu"
   },
   "source": [
    "## **문자열 연산**\n",
    "+ 문자열 더하기(+)\n",
    "+ 문자열 곱하기(*)\n",
    "+ 문자열 인덱싱\n",
    " -  문자열의 각 문자는 0부터 시작되는 인덱스를 가짐\n",
    " - [인덱스]를 이용하여 인덱스위치의 문자 추출 :  처음위치 [0], 마지막위치 [-1]\n",
    "+ 문자열 슬라이싱\n",
    " - [인덱스1:인덱스2]: 인덱스1 위치에서 인덱스2 -1 위치까지 잘라냄\n",
    " - [인덱스1:] : 인덱스1 위치에서 끝까지 잘라냄\n",
    " - [: 인덱스2] : 처음부터 인덱스2 -1 위치까지 잘라냄"
   ]
  },
  {
   "cell_type": "markdown",
   "metadata": {
    "id": "KhxDbZ8uZkYp"
   },
   "source": [
    "###[실습]9. 아래와 같이 문자열 연산을 했을 경우 코드를 작성하고 결과를 확인해 보자.\n",
    "\n",
    "```\n",
    "z= \"Busan software meister highschool\"\n",
    "print(\"=\"*50)\n",
    " z[1]\n",
    " z[2:4]\n",
    " z[2:]\n",
    " z[:5]\n",
    "```\n",
    "[출력]  \n",
    "```\n",
    "==================================================\n",
    "u\n",
    "sa\n",
    "san software meister highschool\n",
    "Busan\n",
    "```"
   ]
  },
  {
   "cell_type": "code",
   "execution_count": 42,
   "metadata": {
    "id": "C9wvfjUTFDVi"
   },
   "outputs": [
    {
     "name": "stdout",
     "output_type": "stream",
     "text": [
      "==================================================\n",
      "u\n",
      "sa\n",
      "san software meister highschool\n",
      "Busan\n"
     ]
    }
   ],
   "source": [
    "#[실습]9. 코드를 작성하세요.\n",
    "z= \"Busan software meister highschool\"\n",
    "print(\"=\"*50)\n",
    "print(z[1])\n",
    "print(z[2:4])\n",
    "print(z[2:])\n",
    "print(z[:5])"
   ]
  },
  {
   "cell_type": "markdown",
   "metadata": {
    "id": "wNk_LGsLR0m3"
   },
   "source": [
    "###[실습]10. 아래와 같은 문자열이 있을때 아래와 같은 출력결과가 나오도록 코드를 작성하시오.\n",
    "('='은 50번 출력)\n",
    "---\n",
    "[출력]  \n",
    "Hello Python!  \n",
    "\n",
    "==================================================  \n",
    "Hello Python!의 두번째 문자 => e  \n",
    "Hello Python!의 두번째 부터 세번째 문자 => el  \n",
    "Hello Python!의 두번째 부터 마지막 문자 => ello Python!  \n",
    "Hello Python!의 처음부터 세번째 문자 => Hel  \n",
    "\n"
   ]
  },
  {
   "cell_type": "code",
   "execution_count": 48,
   "metadata": {
    "id": "5EBXggj06Ctz"
   },
   "outputs": [
    {
     "name": "stdout",
     "output_type": "stream",
     "text": [
      "==================================================\n",
      "Hello Python!의 두번째 문자 => e\n",
      "Hello Python!의 두번째 부터 세번째 문자 => el\n",
      "Hello Python!의 두번째 부터 마지막 문자 => ello Python!\n",
      "Hello Python!의 처음부터 세번째 문자 => Hel\n"
     ]
    }
   ],
   "source": [
    "#[실습]10. 정답코드를 작성하세요.\n",
    "x = \"Hello \"\n",
    "y = \"Python!\"\n",
    "s = x + y\n",
    "print('='*50)\n",
    "print(f'{s}의 두번째 문자 => {s[1]}')\n",
    "print(f'{s}의 두번째 부터 세번째 문자 => {s[1:3]}')\n",
    "print(f'{s}의 두번째 부터 마지막 문자 => {s[1:]}')\n",
    "print(f'{s}의 처음부터 세번째 문자 => {s[:3]}')"
   ]
  },
  {
   "cell_type": "code",
   "execution_count": null,
   "metadata": {},
   "outputs": [],
   "source": []
  }
 ],
 "metadata": {
  "colab": {
   "provenance": []
  },
  "kernelspec": {
   "display_name": "Python 3 (ipykernel)",
   "language": "python",
   "name": "python3"
  },
  "language_info": {
   "codemirror_mode": {
    "name": "ipython",
    "version": 3
   },
   "file_extension": ".py",
   "mimetype": "text/x-python",
   "name": "python",
   "nbconvert_exporter": "python",
   "pygments_lexer": "ipython3",
   "version": "3.11.8"
  }
 },
 "nbformat": 4,
 "nbformat_minor": 4
}
