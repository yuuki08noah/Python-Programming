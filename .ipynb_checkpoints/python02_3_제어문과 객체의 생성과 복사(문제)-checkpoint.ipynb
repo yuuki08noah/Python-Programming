{
 "cells": [
  {
   "cell_type": "markdown",
   "metadata": {
    "id": "69U_8TnF3-KL"
   },
   "source": [
    "# 객체의 생성과 복사\n",
    "# 기말고사\n",
    "+ 객체를 복사하면 같은 객체의 메모리를 가르킨다.\n",
    "+ 객체의 메모리 주소 출력 :  **id(변수)**  \n",
    "\n",
    "+ 동일한 객체를 가르키는 지 판단하는 명령어:  is\n",
    "\n",
    "\n",
    "## 객체 원본을 변경하지 않고 사본으로 복사하기\n",
    "1. 객체[:], copy(변수) 이용하기\n",
    "2. 모듈 이용하기  \n",
    "\n",
    "## 두 변수의 값 치환하기\n",
    "+   변수1, 변수2 = 변수2, 변수1"
   ]
  },
  {
   "cell_type": "code",
   "execution_count": null,
   "metadata": {
    "id": "TiFUwEML4FzI"
   },
   "outputs": [],
   "source": [
    "# 객체의 복사와 메모리 출력\n",
    "a = [1,2,3]\n",
    "b = [4,5,6]\n",
    "# a와 b의 값을 치환하시오.\n",
    "\n",
    "a, b = b, a\n",
    "\n",
    "print(f'a= {a}, b={b}')\n",
    "\n",
    "b[1] = 4\n",
    "print(f'a= {a}, b={b}')\n",
    "# b 변수에 a를 저장하시오.\n",
    "b = a\n",
    "print(f'a= {a}, b={b}')\n",
    "print(f'a의 주소 : {id(a)}, b의 주소 : {id(b)}') # a,b주소를 출력하시오.\n",
    "# a,b가 같은 객체인지 출력하시오.\n",
    "print(a is b)"
   ]
  },
  {
   "cell_type": "code",
   "execution_count": null,
   "metadata": {
    "id": "0diAHvOr4MRr"
   },
   "outputs": [],
   "source": [
    "# copy를 이용하여 객체의 사본으로 복사\n",
    "from copy import copy\n",
    "e = [7,8,9]\n",
    " #copy 사용하여 e를 f로 복사\n",
    " #[:] 사용하여  e를 g로 복사\n",
    "\n",
    "f = copy(e)\n",
    "g = e[:]\n",
    "\n",
    "e[0] =10\n",
    "g[2] = 100\n",
    "print(e,f,g)\n",
    "# e,f,g 주소를 출력하시오.\n",
    "print(e is f)# e,f가 같은 객체인지 출력하시오.\n",
    "print(e is g)# e,g가 같은 객체인지 출력하시오."
   ]
  },
  {
   "cell_type": "markdown",
   "metadata": {
    "id": "OeoNltmRAdSn"
   },
   "source": [
    "# 조건문\n",
    " - 프로그램의 실행 흐름을 바꾸고자 할 때 사용하는 제어문\n",
    " - 사용자가 지정한 조건에 따라 실행할 문장을 결정함\n",
    "\n",
    "# 조건을 판단하는 if문\n",
    "- if 조건문 뒤에는 반드시 콜론(:)\n",
    "- 바로 아래 문장부터 들여쓰기(indentation)를 해야 함\n",
    "```\n",
    "if 조건문:    \n",
    "    수행할_문장1   \n",
    "    수행할_문장2  \n",
    "    ...  \n",
    "else:  \n",
    "    수행할_문장A  \n",
    "    수행할_문장B  \n",
    "    ...  \n",
    "```  \n",
    "\n",
    "\n",
    "# 다양한 조건을 판단하는 elif 문\n",
    "- switch 문이 존재하지 않음 : if...elif...elif... 문으로 수행\n",
    "- pass  : def 문이나 if 문처럼 코드 블록을 본문으로 갖는 표현에서 본문을 비워 둘 때 사용\n",
    "```\n",
    "if 조건문:\n",
    "    수행할_문장1\n",
    "    수행할_문장2\n",
    "    ...\n",
    "elif 조건문:\n",
    "    수행할_문장1\n",
    "    수행할_문장2\n",
    "    ...\n",
    "elif 조건문:\n",
    "    수행할_문장1\n",
    "    수행할_문장2\n",
    "    ...\n",
    "...\n",
    "else:\n",
    "   수행할_문장1\n",
    "   수행할_문장2\n",
    "   ...\n",
    "```\n",
    "\n"
   ]
  },
  {
   "cell_type": "markdown",
   "metadata": {
    "id": "ugOOyJcZL7C4"
   },
   "source": [
    "\n",
    "### 비교연산자\n",
    "+ < ,  >,  >=, <=, == , !=\n",
    "\n",
    "### 논리연산자\n",
    "+ and, or, not\n"
   ]
  },
  {
   "cell_type": "code",
   "execution_count": 11,
   "metadata": {
    "colab": {
     "base_uri": "https://localhost:8080/",
     "height": 53
    },
    "executionInfo": {
     "elapsed": 3667,
     "status": "ok",
     "timestamp": 1593153952048,
     "user": {
      "displayName": "김경민",
      "photoUrl": "",
      "userId": "16754840959427160571"
     },
     "user_tz": -540
    },
    "id": "aS31_bgaR4dn",
    "outputId": "2bdd7b19-abd3-48e6-f715-6bcba63a8247"
   },
   "outputs": [
    {
     "name": "stdin",
     "output_type": "stream",
     "text": [
      "값입력 :  31\n"
     ]
    },
    {
     "name": "stdout",
     "output_type": "stream",
     "text": [
      "31은 홀수\n"
     ]
    }
   ],
   "source": [
    "# 조건문\n",
    "# 값을 입력받아 짝수 홀수 출력하시오.\n",
    "n = int(input(\"값입력 : \"))\n",
    "print(f\"{n}은 \" + \"홀수\" if n % 2 else \"짝수\")"
   ]
  },
  {
   "cell_type": "code",
   "execution_count": null,
   "metadata": {
    "colab": {
     "base_uri": "https://localhost:8080/",
     "height": 53
    },
    "executionInfo": {
     "elapsed": 6888,
     "status": "ok",
     "timestamp": 1593153970172,
     "user": {
      "displayName": "김경민",
      "photoUrl": "",
      "userId": "16754840959427160571"
     },
     "user_tz": -540
    },
    "id": "SgVs11nGYCeO",
    "outputId": "d5da5d5b-dd7e-42af-8c0c-94585e05ee50"
   },
   "outputs": [],
   "source": [
    "# 성적을 입력받아 70이상은 Pass, 60이상은 재시험, 60미만은 fail출력\n",
    "n = float(input(\"성적 입력\"))\n",
    "if n >= 70:\n",
    "    print(\"Pass\")\n",
    "elif n >= 60:\n",
    "    print(\"재시험\")\n",
    "else:\n",
    "    print(\"fail\")\n"
   ]
  },
  {
   "cell_type": "markdown",
   "metadata": {
    "id": "gmuHwF6h57vH"
   },
   "source": [
    "###[실습] 아래 조건에 맞게 코드를 작성하시오.\n",
    "조건]1. bag에 'money' 가있으면 코드를 실행하지 않고, 'money'가 없으면 \"카드를 꺼내세요\" 룰 출력하는 코드를 작성하시오.  \n",
    "조건]2. in 을 사용하시오.  \n",
    "bag = ['money', 'cellphone', 'paper']\n"
   ]
  },
  {
   "cell_type": "code",
   "execution_count": null,
   "metadata": {
    "id": "cz8yCsafz2zB"
   },
   "outputs": [],
   "source": [
    "bag = ['money', 'cellphone', 'paper']\n",
    "if 'money' in bag:\n",
    "    pass\n",
    "else:\n",
    "    print(\"카드를 꺼내세요\")\n",
    "#코드를 작성하시오."
   ]
  },
  {
   "cell_type": "markdown",
   "metadata": {
    "id": "N5IOpgcLq8Xq"
   },
   "source": [
    "[실습] 공백으로 분리하여 두 정수를 입력받고 아래 결과를 출력하시오.\n",
    "\n",
    "```\n",
    "10 > 20 = False\n",
    "10 < 20 = True\n",
    "10 == 20 = False\n",
    "10 != 20 = True\n",
    "\n",
    "```"
   ]
  },
  {
   "cell_type": "code",
   "execution_count": null,
   "metadata": {
    "id": "ijnkSmAsMJTu"
   },
   "outputs": [],
   "source": [
    "#비교연산자\n",
    "n, m = map(int, input().split())\n",
    "print(f\"{n} > {m} = {n > m}\")\n",
    "print(f\"{n} < {m} = {n < m}\")\n",
    "print(f\"{n} == {m} = {n == m}\")\n",
    "print(f\"{n} != {m} = {n != m}\")\n"
   ]
  },
  {
   "cell_type": "code",
   "execution_count": null,
   "metadata": {
    "id": "EOmmm613M35h"
   },
   "outputs": [],
   "source": [
    "#논리연산자\n",
    "x, y = map(int, input().split())\n",
    "print(f'{x > 10 and  y > 10}') #and 조건\n",
    "print(f'{x > 10 or  y > 10}')#or 조건\n",
    "print(f'{  not x > 10 }') #not 조건"
   ]
  },
  {
   "cell_type": "markdown",
   "metadata": {
    "id": "q445-fSHNofR"
   },
   "source": [
    "# 멤버십 연산자 : in\n",
    "+ 문자열이나 리스트나 튜플과 같이 연속적인 자료구조에 속한 멤버를 확인하기 위한 연산자\n",
    "![image.png](data:image/png;base64,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)"
   ]
  },
  {
   "cell_type": "code",
   "execution_count": null,
   "metadata": {
    "colab": {
     "base_uri": "https://localhost:8080/"
    },
    "executionInfo": {
     "elapsed": 290,
     "status": "ok",
     "timestamp": 1727360167983,
     "user": {
      "displayName": "곽상미",
      "userId": "10268103871227333801"
     },
     "user_tz": -540
    },
    "id": "1tzLShPNNsqe",
    "outputId": "ae5ab1f9-de82-43be-99e9-db05e42c55ed"
   },
   "outputs": [],
   "source": [
    "str = '안녕하세요.'\n",
    "#'안'이 있으면 True출력\n",
    "print('안' in str)\n",
    "\n",
    "lst = list(range(5))\n",
    "print(lst)\n",
    "#5'가 있으면 True출력\n",
    "\n",
    "print(5 in lst)"
   ]
  },
  {
   "cell_type": "code",
   "execution_count": null,
   "metadata": {
    "colab": {
     "base_uri": "https://localhost:8080/",
     "height": 35
    },
    "executionInfo": {
     "elapsed": 642,
     "status": "ok",
     "timestamp": 1593319223369,
     "user": {
      "displayName": "김경민",
      "photoUrl": "",
      "userId": "16754840959427160571"
     },
     "user_tz": -540
    },
    "id": "VPPLu2HjOXNv",
    "outputId": "490a1b70-10e0-4b87-f6cf-6d4656353691"
   },
   "outputs": [],
   "source": [
    "d = {'a' : 1, 'b' : 2}\n",
    "print('a' in d)\n",
    "print(2 in d.values())"
   ]
  },
  {
   "cell_type": "markdown",
   "metadata": {
    "id": "_Ee-q9qx16wB"
   },
   "source": [
    "# if문 한줄로 작성하기\n",
    "```\n",
    "if 조건문: 수행할_문장1\n",
    "else: 수행할 문장\n",
    "```"
   ]
  },
  {
   "cell_type": "markdown",
   "metadata": {
    "id": "P1heFXS_0W1U"
   },
   "source": [
    "#조건부 표현식(condition expression)\n",
    "###**변수 =  참일때_값 if 조건문 else  거짓일때_값**\n",
    "---\n",
    "### score = 50  \n",
    "### msg = \"success if score >=60 else \"failure\"\n",
    "\n",
    "---"
   ]
  },
  {
   "cell_type": "code",
   "execution_count": null,
   "metadata": {
    "id": "ztuYWMEH1ATS"
   },
   "outputs": [],
   "source": [
    "# 조건부 표현식\n",
    "# 변수 = 조건문이_참일때_값 if 조건문 else 조건문이_거짓일때_값\n",
    "score = 50\n",
    "msg = \"success\" if score >= 60 else \"failure\" \n",
    "print(msg)\n",
    "#score가 60이상 이면 \"success\"저장 아니면 failure 저장하여 출력\n"
   ]
  },
  {
   "cell_type": "markdown",
   "metadata": {
    "id": "6vilRTKoO7RK"
   },
   "source": [
    "# **반복문 - for**\n",
    "+ 컬렉션으로부터 하나씩 요소(element)를 가져와, 루프 내의 문장들을 실행\n",
    "```\n",
    "for 변수 in 리스트(또는 튜플, 문자열):\n",
    "    수행할_문장1\n",
    "    수행할_문장2\n",
    "    ...\n",
    "\n",
    "+ continue문을 사용하면 for 문 처음으로 돌아감."
   ]
  },
  {
   "cell_type": "code",
   "execution_count": null,
   "metadata": {
    "id": "6OPLY6uWPMVl"
   },
   "outputs": [],
   "source": [
    "#문자열\n",
    "str = '안녕하세요.'\n",
    "#한줄에 한글자씩 출력하기\n",
    "for item in str:\n",
    "    print(item)\n",
    "#한줄에 모두 출력하기\n",
    "for item in str:\n",
    "    print(item, end='')"
   ]
  },
  {
   "cell_type": "raw",
   "metadata": {
    "id": "FqXfuooAPWsI"
   },
   "source": [
    "#리스트\n",
    "lst = [0,1,2,3,4]\n",
    "#한줄에 요소 하나씩 출력하기\n",
    "for items in lst:\n",
    "    print(items)"
   ]
  },
  {
   "cell_type": "code",
   "execution_count": null,
   "metadata": {
    "executionInfo": {
     "elapsed": 1,
     "status": "ok",
     "timestamp": 1727387502186,
     "user": {
      "displayName": "곽상미",
      "userId": "10268103871227333801"
     },
     "user_tz": -540
    },
    "id": "onHeMmyCPicR"
   },
   "outputs": [],
   "source": [
    "#딕션너리\n",
    "d = {'a' : 1, 'b' : 2}\n",
    "#한줄에 키 하나씩 출력하기\n",
    "for item in d:\n",
    "    print(item)\n",
    "#한줄에 값 하나씩 출력하기\n",
    "for item in d.values():\n",
    "    print(item)\n",
    "#키 값 쌍으로 출력하기\n",
    "for k, v in d.items():\n",
    "    print(k, v)"
   ]
  },
  {
   "cell_type": "code",
   "execution_count": null,
   "metadata": {
    "id": "0hStqM-pczeh"
   },
   "outputs": [],
   "source": [
    "a = [(1,2), (3,4), (5,6)]\n",
    "#튜플 리스트에서 각 튜플요소들을 합하여 출력하기\n",
    "for i, v in a:\n",
    "    print(i + v)"
   ]
  },
  {
   "cell_type": "markdown",
   "metadata": {
    "id": "jSGL8AHSQAQ-"
   },
   "source": [
    "# range( ) 함수\n",
    "### **range(시작숫자, 종료숫자, step)**\n",
    "+ 결과는 시작숫자부터 종료숫자 바로 앞 숫자까지 컬렉션 생성\n",
    "+ 값을 확인하기 위해서는 순서가 있는 리스트나 튜플 컬렉션으로 변환해야 함\n",
    "+ 시작숫자를 생략하면 0부터 생성\n",
    "+ step을 생략하면 1씩 증가"
   ]
  },
  {
   "cell_type": "code",
   "execution_count": null,
   "metadata": {
    "colab": {
     "base_uri": "https://localhost:8080/",
     "height": 71
    },
    "executionInfo": {
     "elapsed": 663,
     "status": "ok",
     "timestamp": 1593319784285,
     "user": {
      "displayName": "김경민",
      "photoUrl": "",
      "userId": "16754840959427160571"
     },
     "user_tz": -540
    },
    "id": "kwRAvaJsQnIK",
    "outputId": "616b26c6-d5c3-4b43-b917-1f7dbbf51493"
   },
   "outputs": [],
   "source": [
    "xlist = range(10)\n",
    "print(type(xlist))\n",
    "print(xlist)\n",
    "\n",
    "for item in xlist:\n",
    "    print(item, end = ' ')"
   ]
  },
  {
   "cell_type": "code",
   "execution_count": null,
   "metadata": {
    "colab": {
     "base_uri": "https://localhost:8080/",
     "height": 71
    },
    "executionInfo": {
     "elapsed": 707,
     "status": "ok",
     "timestamp": 1593319797896,
     "user": {
      "displayName": "김경민",
      "photoUrl": "",
      "userId": "16754840959427160571"
     },
     "user_tz": -540
    },
    "id": "jea71glDQo3v",
    "outputId": "d4144174-8e40-4c73-f66e-907033a37abe"
   },
   "outputs": [],
   "source": [
    "xlist = list(range(10))\n",
    "print(type(xlist))\n",
    "print(xlist)\n",
    "\n",
    "for item in xlist:\n",
    "    print(item, end = ' ')\n"
   ]
  },
  {
   "cell_type": "markdown",
   "metadata": {
    "id": "FDiSSllDRIFI"
   },
   "source": [
    "## **리스트 안에 for문을 포함하는 리스트 컴프리헨션(coprehension)**\n",
    "* ##  리스트 컴프리헨션의 문법   \n",
    "\n",
    ">###  [표현식 for 항목 in 반복객체 if 조건문]\n",
    "\n",
    "* ## for 문을 2개 이상 사용하는 것도 가능\n",
    "\n",
    ">### [ 표현식 for 항목1 in 반복객체1 if 조건문1   \n",
    ">### &nbsp; &nbsp; &nbsp; &nbsp; &nbsp; &nbsp; &nbsp; &nbsp;for 항목2 in 반복_가능_객체2 if 조건문2  \n",
    "&nbsp; &nbsp; &nbsp; &nbsp; &nbsp; &nbsp; &nbsp; &nbsp;....  \n",
    ">### &nbsp; &nbsp; &nbsp; &nbsp; &nbsp; &nbsp; &nbsp; &nbsp;for 항목n in 반복객체 if 조건문n ]\n",
    "\n",
    "        \n",
    "      \n",
    "\n",
    "      \n",
    "\n",
    "####리스트 컴프리헨션을 사용해 간단하게 구현하는 예제\n",
    "\n",
    "```\n",
    "result = [x*y for x in range(2,10) for y in range(1,10)]     \n",
    "print(result)  \n",
    "```"
   ]
  },
  {
   "cell_type": "code",
   "execution_count": 75,
   "metadata": {
    "colab": {
     "base_uri": "https://localhost:8080/"
    },
    "executionInfo": {
     "elapsed": 476,
     "status": "ok",
     "timestamp": 1727233673904,
     "user": {
      "displayName": "곽상미",
      "userId": "10268103871227333801"
     },
     "user_tz": -540
    },
    "id": "MLJDK-xERNKs",
    "outputId": "ce2c3a0d-b842-4a07-9b93-ea0732a81ebd"
   },
   "outputs": [
    {
     "name": "stdout",
     "output_type": "stream",
     "text": [
      "[1, 2]\n",
      "[3.0, 4.0]\n",
      "[6, 12, 18, 24, 30]\n"
     ]
    }
   ],
   "source": [
    "xlist = ['1','2']\n",
    "   #xlist를 순회하며 각 아이템을 정수로 변환하여 리스트에 저장\n",
    "xlist = [int(x) for x in xlist]\n",
    "xlist = list(map(lambda x: int(x), xlist))\n",
    "print(xlist)\n",
    "ylist = [3, 4]\n",
    "ylist = [float(x) for x in ylist]\n",
    "ylist = list(map(lambda x: float(x), ylist))\n",
    "  #ylist를 순회하며 각 아이템을 실수로 변환하여 리스트에 저장\n",
    "print(ylist)\n",
    "a = [1,2,3,4,5,6,7,8,9,10]\n",
    "result = [x*3 if x % 2 == 0 else 0 for x in a]\n",
    "result = list(map(lambda x: x * 3 if x % 2 == 0 else 0, a))\n",
    "   #a를 순회하며 짝수면 3을 곱하여 result에 저장\n",
    "while 0 in result:\n",
    "    result.remove(0)\n",
    "print(result)"
   ]
  },
  {
   "cell_type": "markdown",
   "metadata": {
    "id": "cifEZ-2GejCO"
   },
   "source": [
    "###[실습] a 리스트의 각항목이 홀수이면 제곱승을 한 결과를 저장하는 코드를 리스트 컴프리헨션으로 작성하시오.  \n",
    "```\n",
    "[출력]\n",
    "[1, 9, 25, 49, 81]\n",
    "```\n",
    "\n"
   ]
  },
  {
   "cell_type": "code",
   "execution_count": 76,
   "metadata": {
    "id": "df0e3CeIe4Kf"
   },
   "outputs": [
    {
     "name": "stdout",
     "output_type": "stream",
     "text": [
      "[1, 9, 25, 49, 81]\n"
     ]
    }
   ],
   "source": [
    "a = [1,2,3,4,5,6,7,8,9,10]\n",
    "a = [x*x if x % 2 == 1 else 0 for x in a]\n",
    "while 0 in a:\n",
    "    a.remove(0)\n",
    "print(a)"
   ]
  },
  {
   "cell_type": "code",
   "execution_count": null,
   "metadata": {
    "id": "vWnCp9zPJ27o"
   },
   "outputs": [],
   "source": []
  },
  {
   "cell_type": "markdown",
   "metadata": {
    "id": "dr424pzHW-N1"
   },
   "source": [
    "## **반복문 while**\n",
    "+ while 키워드 다음의 조건식이 참일 경우 계속 while 안의 블럭을 실행\n",
    "```\n",
    "while 조건문:\n",
    "    수행할_문장1\n",
    "    수행할_문장2\n",
    "    수행할_문장3\n",
    "    ...\n"
   ]
  },
  {
   "cell_type": "code",
   "execution_count": 73,
   "metadata": {
    "id": "If3Is_HFXf9y"
   },
   "outputs": [
    {
     "name": "stdout",
     "output_type": "stream",
     "text": [
      "1\n",
      "2\n",
      "3\n",
      "4\n",
      "5\n"
     ]
    }
   ],
   "source": [
    "# 1부터 5까지 출력하기\n",
    "i = 1\n",
    "while i <= 5:\n",
    "    print(i)\n",
    "    i += 1\n"
   ]
  },
  {
   "cell_type": "markdown",
   "metadata": {
    "id": "l72yo2UxX2HS"
   },
   "source": [
    "### **break 문**\n",
    "+ 반복문 안에서 루프를 빠져나오기 위해 을 사용\n",
    "\n",
    "### **continue문**\n",
    "+ 루프 블럭의 나머지 문장들을 실행하지 않고 다음 루프로 직접 돌아가게 함"
   ]
  },
  {
   "cell_type": "code",
   "execution_count": 77,
   "metadata": {
    "colab": {
     "base_uri": "https://localhost:8080/"
    },
    "executionInfo": {
     "elapsed": 317,
     "status": "ok",
     "timestamp": 1727387937264,
     "user": {
      "displayName": "곽상미",
      "userId": "10268103871227333801"
     },
     "user_tz": -540
    },
    "id": "ckVnUsahYJej",
    "outputId": "aa5dfbd8-11c7-46a9-d537-207ac5d7e7ef"
   },
   "outputs": [
    {
     "name": "stdout",
     "output_type": "stream",
     "text": [
      "1\n",
      "3\n",
      "5\n",
      "7\n",
      "9\n"
     ]
    }
   ],
   "source": [
    "i = 0\n",
    "# 아래 실행 결과를 예측해보자.\n",
    "while i <= 10 :\n",
    "    i = i + 1\n",
    "    if i % 2 == 0  : continue\n",
    "    print(i)\n",
    "    if i == 9 : break"
   ]
  },
  {
   "cell_type": "markdown",
   "metadata": {
    "id": "YhEkrMO_Rkh5"
   },
   "source": [
    "1\n",
    "3\n",
    "5\n",
    "7\n",
    "9"
   ]
  },
  {
   "cell_type": "markdown",
   "metadata": {
    "id": "LVQPvS9GJupn"
   },
   "source": [
    "\n",
    "---\n",
    "\n",
    "\n",
    "해결문제) while문을 이용하여 4가 입력되기 전까지 메뉴가 계속 출력되는 코드를  작성하시오.\n"
   ]
  },
  {
   "cell_type": "code",
   "execution_count": 78,
   "metadata": {
    "colab": {
     "base_uri": "https://localhost:8080/"
    },
    "executionInfo": {
     "elapsed": 12931,
     "status": "ok",
     "timestamp": 1725793242744,
     "user": {
      "displayName": "곽상미",
      "userId": "10268103871227333801"
     },
     "user_tz": -540
    },
    "id": "4iZP4nLpR6Pk",
    "outputId": "b55c66b0-79c6-46bb-8f73-08df6c626dd1"
   },
   "outputs": [
    {
     "name": "stdout",
     "output_type": "stream",
     "text": [
      "\n",
      "    1. Add\n",
      "    2. Del\n",
      "    3. List\n",
      "    4. Quit\n",
      " 메뉴번호를 입력하세요.\n"
     ]
    },
    {
     "name": "stdin",
     "output_type": "stream",
     "text": [
      " 5\n"
     ]
    },
    {
     "name": "stdout",
     "output_type": "stream",
     "text": [
      "\n",
      "    1. Add\n",
      "    2. Del\n",
      "    3. List\n",
      "    4. Quit\n",
      " 메뉴번호를 입력하세요.\n"
     ]
    },
    {
     "name": "stdin",
     "output_type": "stream",
     "text": [
      " 2\n"
     ]
    },
    {
     "name": "stdout",
     "output_type": "stream",
     "text": [
      "\n",
      "    1. Add\n",
      "    2. Del\n",
      "    3. List\n",
      "    4. Quit\n",
      " 메뉴번호를 입력하세요.\n"
     ]
    },
    {
     "name": "stdin",
     "output_type": "stream",
     "text": [
      " 1\n"
     ]
    },
    {
     "name": "stdout",
     "output_type": "stream",
     "text": [
      "\n",
      "    1. Add\n",
      "    2. Del\n",
      "    3. List\n",
      "    4. Quit\n",
      " 메뉴번호를 입력하세요.\n"
     ]
    },
    {
     "name": "stdin",
     "output_type": "stream",
     "text": [
      " 2\n"
     ]
    },
    {
     "name": "stdout",
     "output_type": "stream",
     "text": [
      "\n",
      "    1. Add\n",
      "    2. Del\n",
      "    3. List\n",
      "    4. Quit\n",
      " 메뉴번호를 입력하세요.\n"
     ]
    },
    {
     "name": "stdin",
     "output_type": "stream",
     "text": [
      " 3\n"
     ]
    },
    {
     "name": "stdout",
     "output_type": "stream",
     "text": [
      "\n",
      "    1. Add\n",
      "    2. Del\n",
      "    3. List\n",
      "    4. Quit\n",
      " 메뉴번호를 입력하세요.\n"
     ]
    },
    {
     "name": "stdin",
     "output_type": "stream",
     "text": [
      " 4\n"
     ]
    }
   ],
   "source": [
    "action = 0\n",
    "prompt = '''\n",
    "    1. Add\n",
    "    2. Del\n",
    "    3. List\n",
    "    4. Quit\n",
    " 메뉴번호를 입력하세요.'''\n",
    "\n",
    "while action != 4:\n",
    "    print(prompt)\n",
    "    action = int(input())\n"
   ]
  },
  {
   "cell_type": "markdown",
   "metadata": {
    "id": "BLFMjqsaSTGd"
   },
   "source": [
    "---\n",
    "해결문제) 위 예제를 참고하여, while문을 이용하여 메뉴번호를 입력받아, 리스트변수에 데이터를 추가,삭제,출력하는 코드를 작성하시오.  \n",
    "힌트) append,remove메서드 사용  \n",
    "```\n",
    "[입출력]\n",
    " 1. Add\n",
    "    2. Del\n",
    "    3. List\n",
    "    4. Quit\n",
    " 메뉴번호를 입력하세요.\n",
    "1\n",
    "데이터 입력  200\n",
    "\n",
    "    1. Add\n",
    "    2. Del\n",
    "    3. List\n",
    "    4. Quit\n",
    " 메뉴번호를 입력하세요.\n",
    "1\n",
    "데이터 입력  300\n",
    "\n",
    "    1. Add\n",
    "    2. Del\n",
    "    3. List\n",
    "    4. Quit\n",
    " 메뉴번호를 입력하세요.\n",
    "3\n",
    "['200', '300']\n",
    "\n",
    "    1. Add\n",
    "    2. Del\n",
    "    3. List\n",
    "    4. Quit\n",
    " 메뉴번호를 입력하세요.\n",
    "4\n",
    "```"
   ]
  },
  {
   "cell_type": "code",
   "execution_count": 80,
   "metadata": {
    "id": "YGYDKx95Mvdl"
   },
   "outputs": [
    {
     "name": "stdin",
     "output_type": "stream",
     "text": [
      "메뉴 번호 :  1\n",
      "데이터 입력 :  40\n",
      "메뉴 번호 :  3\n"
     ]
    },
    {
     "name": "stdout",
     "output_type": "stream",
     "text": [
      "[40]\n"
     ]
    },
    {
     "name": "stdin",
     "output_type": "stream",
     "text": [
      "메뉴 번호 :  1\n",
      "데이터 입력 :  30\n",
      "메뉴 번호 :  1\n",
      "데이터 입력 :  4040\n",
      "메뉴 번호 :  3\n"
     ]
    },
    {
     "name": "stdout",
     "output_type": "stream",
     "text": [
      "[40, 30, 4040]\n"
     ]
    },
    {
     "name": "stdin",
     "output_type": "stream",
     "text": [
      "메뉴 번호 :  2\n",
      "데이터 입력 :  30\n",
      "메뉴 번호 :  3\n"
     ]
    },
    {
     "name": "stdout",
     "output_type": "stream",
     "text": [
      "[40, 4040]\n"
     ]
    },
    {
     "name": "stdin",
     "output_type": "stream",
     "text": [
      "메뉴 번호 :  4\n"
     ]
    }
   ],
   "source": [
    "action = 0\n",
    "lst =[]\n",
    "prompt = '''\n",
    "    1. Add\n",
    "    2. Del\n",
    "    3. List\n",
    "    4. Quit\n",
    " 메뉴번호를 입력하세요.'''\n",
    "while True:\n",
    "    op = int(input(\"메뉴 번호 : \"))\n",
    "    if op == 1:\n",
    "        lst.append(int(input(\"데이터 입력 : \")))\n",
    "    if op == 2:\n",
    "        lst.remove(int(input(\"데이터 입력 : \")))\n",
    "    if op == 3:\n",
    "        print(lst)\n",
    "    if op == 4:\n",
    "        break\n",
    "# 1. Add\n",
    "# 2. Del\n",
    "# 3. List\n",
    "# 4. Quit\n",
    "\n",
    "# Enter number:\n"
   ]
  },
  {
   "cell_type": "markdown",
   "metadata": {
    "id": "q3lKQhDYRYa1"
   },
   "source": [
    "\n",
    "\n",
    "---\n",
    "\n",
    "\n",
    "해결문제) 5개의 숫자를 입력 받아서 리스트에 저장하고 짝수와 홀수 리스트를 만드시오.  \n",
    "(입출력예시)  \n",
    "숫자 입력 : 1  \n",
    "숫자 입력 : 2  \n",
    "숫자 입력 : 3  \n",
    "숫자 입력 : 4  \n",
    "숫자 입력 : 5  \n",
    "짝수 : [2, 4]  \n",
    "홀수 : [1, 3, 5]  \n",
    "\n",
    "---\n",
    "\n"
   ]
  },
  {
   "cell_type": "code",
   "execution_count": 82,
   "metadata": {
    "id": "bthaAlfrUWzo"
   },
   "outputs": [
    {
     "name": "stdin",
     "output_type": "stream",
     "text": [
      " 1\n",
      " 2\n",
      " 3\n",
      " 4\n",
      " 5\n"
     ]
    },
    {
     "name": "stdout",
     "output_type": "stream",
     "text": [
      "짝수 : [1, 3, 5]\n",
      "홀수 : [2, 4]\n"
     ]
    }
   ],
   "source": [
    "lst_even=list()\n",
    "lst_odd=[]\n",
    "\n",
    "for i in range(5):\n",
    "    n = int(input())\n",
    "    if n % 2:\n",
    "        lst_even.append(n)\n",
    "    else:\n",
    "        lst_odd.append(n)\n",
    "print(\"짝수 :\", lst_even)\n",
    "print(\"홀수 :\", lst_odd)"
   ]
  },
  {
   "cell_type": "markdown",
   "metadata": {
    "id": "7FyVBrC8Rv30"
   },
   "source": [
    "\n",
    "\n",
    "---\n",
    "\n",
    "\n",
    "해결문제) 지역별 식중독 지수와 대응요령 딕션너리를 참고하여 해당 지역을 입력 받아서 대응요령을 출력하시오.\n",
    "\n",
    "\n",
    "+ 위험 : 86 이상\n",
    " - 설사, 구토 등 식중독 의심 증상이 있으면 의료기관을 방문하여 의사 지시에 따름\n",
    "\n",
    "+ 경고:71 이상 86 미만\n",
    " - 조리도구는 세척, 소독 등을 거쳐 세균오염을 방지하고 유통기한, 보관방법 등을 확인하여 음식물 조리. 보관에 각별히 주의하여야 함\n",
    "\n",
    "+ 주의:55 이상 71 미만\n",
    " - 조리음식은 중심부까지 75℃(어패류 85℃)로 1분 이상 완전히 익히고 외부로 운반할 때에는 가급적 아이스박스 등을 이용하여 10℃이하에서 보관 및 운반\n",
    "\n",
    "+ 관심:55 미만\n",
    " - 화장실 사용 후, 귀가 후, 조리 전에 손 씻기를 생활화\n",
    "\n",
    "[입출력]\n",
    "```\n",
    "도시를 입력하세요 세종시\n",
    "주의\n",
    "조리음식은 중심부까지 75℃(어패류 85℃)로 1분 이상 완전히 익히고 외부로 운반할 때에는 가급적 아이스박스 등을 이용하여 10℃이하에서 보관 및 운반\n",
    "```\n",
    "\n",
    "\n",
    "---\n",
    "\n"
   ]
  },
  {
   "cell_type": "code",
   "execution_count": 84,
   "metadata": {
    "id": "dzlWYyo2SinZ"
   },
   "outputs": [],
   "source": [
    "area  = {'서울시':57, '부산시':62, '대구시':59,\n",
    "            '인천시':59, '강화군':58, '서해5도' : 64,\n",
    "            '광주시' :62, '대전시':60, '울산시':53,\n",
    "            '세종시':58\t}\n",
    "\n",
    "report = {'위험': '설사, 구토 등 식중독 의심 증상이 있으면 의료기관을 방문하여 의사 지시에 따름',\n",
    "         '경고': '조리도구는 세척, 소독 등을 거쳐 세균오염을 방지하고 유통기한, 보관방법 등을 확인하여 음식물 조리. 보관에 각별히 주의하여야 함',\n",
    "         '주의': '조리음식은 중심부까지 75℃(어패류 85℃)로 1분 이상 완전히 익히고 외부로 운반할 때에는 가급적 아이스박스 등을 이용하여 10℃이하에서 보관 및 운반',\n",
    "         '관심': '화장실 사용 후, 귀가 후, 조리 전에 손 씻기를 생활화'}\n"
   ]
  },
  {
   "cell_type": "code",
   "execution_count": 86,
   "metadata": {
    "id": "jJnraAWEQPnN"
   },
   "outputs": [
    {
     "name": "stdin",
     "output_type": "stream",
     "text": [
      "도시를 입력하세요  세종시\n"
     ]
    },
    {
     "name": "stdout",
     "output_type": "stream",
     "text": [
      "58\n",
      "조리음식은 중심부까지 75℃(어패류 85℃)로 1분 이상 완전히 익히고 외부로 운반할 때에는 가급적 아이스박스 등을 이용하여 10℃이하에서 보관 및 운반\n"
     ]
    }
   ],
   "source": [
    "area  = {'서울시':57, '부산시':62, '대구시':59,\n",
    "            '인천시':59, '강화군':58, '서해5도' : 64,\n",
    "            '광주시' :62, '대전시':60, '울산시':53,\n",
    "            '세종시':58\t}\n",
    "\n",
    "report = {'위험': '설사, 구토 등 식중독 의심 증상이 있으면 의료기관을 방문하여 의사 지시에 따름',\n",
    "         '경고': '조리도구는 세척, 소독 등을 거쳐 세균오염을 방지하고 유통기한, 보관방법 등을 확인하여 음식물 조리. 보관에 각별히 주의하여야 함',\n",
    "         '주의': '조리음식은 중심부까지 75℃(어패류 85℃)로 1분 이상 완전히 익히고 외부로 운반할 때에는 가급적 아이스박스 등을 이용하여 10℃이하에서 보관 및 운반',\n",
    "         '관심': '화장실 사용 후, 귀가 후, 조리 전에 손 씻기를 생활화'}\n",
    "\n",
    "\n",
    "data = input(\"도시를 입력하세요 \")\n",
    "\n",
    "print(area[data])\n",
    "\n",
    "level = \"위험\" if area[data] >= 86 else \"경고\" if area[data] >= 71 else \"주의\" if area[data] >= 55 else \"관심\"\n",
    "print(report[level])"
   ]
  },
  {
   "cell_type": "code",
   "execution_count": null,
   "metadata": {},
   "outputs": [],
   "source": []
  }
 ],
 "metadata": {
  "colab": {
   "provenance": []
  },
  "kernelspec": {
   "display_name": "Python 3 (ipykernel)",
   "language": "python",
   "name": "python3"
  },
  "language_info": {
   "codemirror_mode": {
    "name": "ipython",
    "version": 3
   },
   "file_extension": ".py",
   "mimetype": "text/x-python",
   "name": "python",
   "nbconvert_exporter": "python",
   "pygments_lexer": "ipython3",
   "version": "3.11.8"
  }
 },
 "nbformat": 4,
 "nbformat_minor": 4
}
