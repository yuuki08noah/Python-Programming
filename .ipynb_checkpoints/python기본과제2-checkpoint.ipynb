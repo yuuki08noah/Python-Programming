{
 "cells": [
  {
   "cell_type": "markdown",
   "metadata": {
    "id": "C9bPoAvoqQOQ"
   },
   "source": [
    "# [2] 파이썬 기본과제2\n"
   ]
  },
  {
   "cell_type": "markdown",
   "metadata": {
    "id": "DY53Ss3dqQOQ"
   },
   "source": [
    "### 1. 기본 자료형\n",
    "* 10, 2.2, \"fun-coding\" 각각을 변수에 넣고, 각 데이터 타입을 출력하세요."
   ]
  },
  {
   "cell_type": "code",
   "execution_count": 2,
   "metadata": {
    "id": "sYgujdmcqQOR"
   },
   "outputs": [
    {
     "name": "stdout",
     "output_type": "stream",
     "text": [
      "<class 'int'>\n",
      "<class 'float'>\n",
      "<class 'str'>\n"
     ]
    }
   ],
   "source": [
    "data1 = 10\n",
    "data2 = 2.2\n",
    "data3 = \"fun-coding\"\n",
    "print(type(data1))\n",
    "print(type(data2))\n",
    "print(type(data3))\n",
    "\n",
    "#정답을 작성하세요."
   ]
  },
  {
   "cell_type": "markdown",
   "metadata": {
    "id": "CBAmFAFiqQOU"
   },
   "source": [
    "### 2. 기본 자료형\n",
    "* 다음 코드를 실행해보고 \\t와 \\n의 역할을 설명하세요.\n",
    "```python\n",
    "code = '000660\\n00000102\\t12312312'\n",
    "print (code)\n",
    "```"
   ]
  },
  {
   "cell_type": "code",
   "execution_count": 8,
   "metadata": {
    "id": "-id7QE0jqQOU"
   },
   "outputs": [
    {
     "name": "stdout",
     "output_type": "stream",
     "text": [
      "000660\n",
      "00000102\t12312312\n"
     ]
    }
   ],
   "source": [
    "code = '000660\\n00000102\\t12312312'\n",
    "print(code)\n",
    "#정답을 작성하세요.\n",
    "# \\n 은 줄바꿈, \\t 은 탭이다.\n"
   ]
  },
  {
   "cell_type": "markdown",
   "metadata": {
    "id": "Wb9pLkg_qQOW"
   },
   "source": [
    "### 3. 문자열과 인덱스\n",
    "* 사용자로부터 주민등록번호를 입력받아 출생 연도를 출력하세요.\n",
    "  - 예) 800001-1231231 주민번호를 입력받으면 80을 출력하면 됨"
   ]
  },
  {
   "cell_type": "code",
   "execution_count": null,
   "metadata": {
    "id": "aP1sRY79qQOW"
   },
   "outputs": [],
   "source": [
    "#정답을 작성하세요."
   ]
  },
  {
   "cell_type": "markdown",
   "metadata": {
    "id": "zQwT6ifEqQOX"
   },
   "source": [
    "### 4. 데이터 구조\n",
    "* 사용자로부터 주민등록번호를 입력받아 뒷자리 맨 앞의 숫자를 출력하세요.\n",
    "  - 주민등록번호 뒷자리 맨 앞자리는 성별을 나타냄\n",
    "  - 예) 800001-1231231 주민번호를 입력받으면 1을 출력하면 됨\n",
    "  - 1은 남성을 의미, 2는 여성을 의미, 최근 아이들은 3과 4를 사용함"
   ]
  },
  {
   "cell_type": "code",
   "execution_count": 23,
   "metadata": {
    "id": "A_L8RhgbqQOX"
   },
   "outputs": [
    {
     "name": "stdin",
     "output_type": "stream",
     "text": [
      " 800001-1231231\n"
     ]
    },
    {
     "name": "stdout",
     "output_type": "stream",
     "text": [
      "1\n"
     ]
    }
   ],
   "source": [
    " #정답을 작성하세요.\n",
    "a = input().split('-')[1][0]\n",
    "print(a)"
   ]
  },
  {
   "cell_type": "markdown",
   "metadata": {
    "id": "wglkePwAqQOZ"
   },
   "source": [
    "### 5. 문자열 다루기 (strip)\n",
    "* 다음 문자열에서 ...를 제거하라.\n",
    "```python\n",
    "mystr = \"a man goes into the room...\"\n",
    "```\n",
    "출력 예: 'a man goes into the room'"
   ]
  },
  {
   "cell_type": "code",
   "execution_count": 21,
   "metadata": {
    "id": "X-6KIe7pqQOZ"
   },
   "outputs": [
    {
     "name": "stdout",
     "output_type": "stream",
     "text": [
      "a man goes into the room\n"
     ]
    }
   ],
   "source": [
    "mystr = \"a man goes into the room...\"\n",
    "print(mystr.strip('.'))\n",
    "#정답을 작성하세요."
   ]
  },
  {
   "cell_type": "markdown",
   "metadata": {
    "id": "ukyJA-onqQOZ"
   },
   "source": [
    "### 6. 문자열 다루기 (strip)\n",
    "* 주식 종목을 나타내는 종목코드에 공백과 줄바꿈 기호가 포함되어 있다. 공백과 줄바꿈 기호를 제거하고 종목코드만을 추출하라.\n",
    "```python\n",
    "code = '         000660\\n            '\n",
    "```\n",
    "출력: '000660'"
   ]
  },
  {
   "cell_type": "code",
   "execution_count": 20,
   "metadata": {
    "id": "OEHEzVY9qQOZ"
   },
   "outputs": [
    {
     "name": "stdout",
     "output_type": "stream",
     "text": [
      "000660\n"
     ]
    }
   ],
   "source": [
    "code = '         000660\\n            '\n",
    "print(code.strip())\n",
    "#정답을 작성하세요."
   ]
  },
  {
   "cell_type": "markdown",
   "metadata": {
    "id": "vTg8aMJ3qQOZ"
   },
   "source": [
    "### 7. 문자열 다루기 (count)\n",
    "* 다음 문자열에서 'Python' 문자열의 빈도수를 출력하라.\n",
    "```python\n",
    "python_desc = \"Python is an interpreted high-level programming language for general-purpose programming. Created by Guido van Rossum and first released in 1991, Python has a design philosophy that emphasizes code readability, notably using significant whitespace.\"\n",
    "```\n",
    "출력 예: 2"
   ]
  },
  {
   "cell_type": "code",
   "execution_count": 16,
   "metadata": {
    "id": "v6HtoVNQqQOa"
   },
   "outputs": [
    {
     "name": "stdout",
     "output_type": "stream",
     "text": [
      "2\n"
     ]
    }
   ],
   "source": [
    "python_desc = \"Python is an interpreted high-level programming language for general-purpose programming. Created by Guido van Rossum and first released in 1991, Python has a design philosophy that emphasizes code readability, notably using significant whitespace.\"\n",
    "#정답을 작성하세요.\n",
    "print(python_desc.count('Python'))"
   ]
  },
  {
   "cell_type": "markdown",
   "metadata": {
    "id": "itTh2YzCqQOa"
   },
   "source": [
    "### 8. 문자열 다루기 (count)\n",
    "* 다음 문자열에서 'p' 문자가 몇번 나오는지 빈도수를 출력하라.\n",
    "```python\n",
    "python_desc = \"Python is an interpreted high-level programming language for general-purpose programming. Created by Guido van Rossum and first released in 1991, Python has a design philosophy that emphasizes code readability, notably using significant whitespace.\"\n",
    "```\n",
    "출력 예: 9"
   ]
  },
  {
   "cell_type": "code",
   "execution_count": 15,
   "metadata": {
    "id": "3g-ctd_6qQOa"
   },
   "outputs": [
    {
     "name": "stdout",
     "output_type": "stream",
     "text": [
      "9\n"
     ]
    }
   ],
   "source": [
    "python_desc = \"Python is an interpreted high-level programming language for general-purpose programming. Created by Guido van Rossum and first released in 1991, Python has a design philosophy that emphasizes code readability, notably using significant whitespace.\"\n",
    " #정답을 작성하세요.\n",
    "print(python_desc.count('p'))"
   ]
  },
  {
   "cell_type": "markdown",
   "metadata": {
    "id": "jqOaIkpBqQOa"
   },
   "source": [
    "### 9. 문자열 다루기 (문자열 인덱싱)\n",
    "letters 라는 변수에 들어 있는 문자열에서 두 번째와 네 번째 문자를 출력하라\n",
    "```python\n",
    "letters = \"python\"\n",
    "```\n",
    "출력 예: <br>\n",
    "y <br>\n",
    "h"
   ]
  },
  {
   "cell_type": "code",
   "execution_count": 14,
   "metadata": {
    "id": "RsQvOlF5qQOa"
   },
   "outputs": [
    {
     "name": "stdout",
     "output_type": "stream",
     "text": [
      "y\n",
      "h\n"
     ]
    }
   ],
   "source": [
    "letters = \"python\"\n",
    "print(letters[1], letters[3], sep='\\n')\n",
    " #정답을 작성하세요."
   ]
  },
  {
   "cell_type": "markdown",
   "metadata": {
    "id": "8QiAxKcsqQOc"
   },
   "source": [
    "### 10. 문자열 다루기 (split)\n",
    "* letters 라는 변수에 Dave,David,Andy 가 들어있다. 해당 변수값을 , 를 기준으로 분리해서 출력하라<br>\n",
    "  - 출력 예: ['Dave', 'David', 'Andy']"
   ]
  },
  {
   "cell_type": "code",
   "execution_count": 11,
   "metadata": {
    "id": "6Wgk9taVqQOc"
   },
   "outputs": [
    {
     "name": "stdout",
     "output_type": "stream",
     "text": [
      "['Dave', 'David', 'Andy']\n"
     ]
    }
   ],
   "source": [
    "letters = 'Dave,David,Andy'\n",
    "print(letters.split(','))\n",
    "#정답을 작성하세요."
   ]
  },
  {
   "cell_type": "markdown",
   "metadata": {
    "id": "4loFG7cWqQOg"
   },
   "source": [
    "### 11. 문자열 다루기 (split)\n",
    "* 다음과 같은 파일 이름(확장자 포함)에서 확장자를 제거한 파일 이름만 출력하세요.\n",
    "\n",
    "```python\n",
    "filename = 'exercise01.docx'\n",
    "```"
   ]
  },
  {
   "cell_type": "code",
   "execution_count": 10,
   "metadata": {
    "id": "ym7p9X3aqQOg"
   },
   "outputs": [
    {
     "name": "stdout",
     "output_type": "stream",
     "text": [
      "exercise01\n"
     ]
    }
   ],
   "source": [
    "filename = 'exercise01.docx'\n",
    "print(filename.split('.')[0])\n",
    "#정답을 작성하세요."
   ]
  },
  {
   "cell_type": "markdown",
   "metadata": {
    "id": "9zqQb4HCtHYI"
   },
   "source": [
    "### 12. 문자열 찾기 (find)\n",
    "* 다음과 같은 문자열에서 'e'가 처음나오는 위치를 찾아서 출력하시오.\n",
    "\n",
    "```\n",
    "txt = 'Hello Python Project!'\n",
    "```"
   ]
  },
  {
   "cell_type": "code",
   "execution_count": 9,
   "metadata": {
    "id": "p2tZ4Gm7tsTG"
   },
   "outputs": [
    {
     "name": "stdout",
     "output_type": "stream",
     "text": [
      "1\n"
     ]
    }
   ],
   "source": [
    "#정답을 작성하세요.\n",
    "txt = 'Hello Python Project!'\n",
    "print(txt.find('e'))\n"
   ]
  },
  {
   "cell_type": "code",
   "execution_count": null,
   "metadata": {},
   "outputs": [],
   "source": []
  }
 ],
 "metadata": {
  "colab": {
   "provenance": []
  },
  "kernelspec": {
   "display_name": "Python 3 (ipykernel)",
   "language": "python",
   "name": "python3"
  },
  "language_info": {
   "codemirror_mode": {
    "name": "ipython",
    "version": 3
   },
   "file_extension": ".py",
   "mimetype": "text/x-python",
   "name": "python",
   "nbconvert_exporter": "python",
   "pygments_lexer": "ipython3",
   "version": "3.11.8"
  },
  "nbTranslate": {
   "displayLangs": [
    "*"
   ],
   "hotkey": "alt-t",
   "langInMainMenu": true,
   "sourceLang": "en",
   "targetLang": "fr",
   "useGoogleTranslate": true
  }
 },
 "nbformat": 4,
 "nbformat_minor": 4
}
