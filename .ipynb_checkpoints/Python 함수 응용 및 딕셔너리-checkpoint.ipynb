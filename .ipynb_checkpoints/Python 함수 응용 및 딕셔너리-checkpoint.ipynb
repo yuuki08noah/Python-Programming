{
 "cells": [
  {
   "cell_type": "markdown",
   "metadata": {
    "id": "ML8njy5iVLSJ"
   },
   "source": [
    "#딕셔너리 기본 출력"
   ]
  },
  {
   "cell_type": "markdown",
   "metadata": {
    "id": "Tmr_FxasWIxw"
   },
   "source": [
    "###[실습]1. 딕셔너리의 키와 값을 출력해 보자."
   ]
  },
  {
   "cell_type": "code",
   "execution_count": 4,
   "metadata": {
    "id": "LupriCmQVIEL"
   },
   "outputs": [
    {
     "name": "stdout",
     "output_type": "stream",
     "text": [
      "서울 81 0.052 0.4\n",
      "부산 15 0.072 0.4\n",
      "대구 55 0.06 0.4\n",
      "인천 52 0.06 0.5\n",
      "광주 61 0.064 0.5\n",
      "대전 71 0.064 0.4\n",
      "울산 60 0.068 0.4\n",
      "경기 64 0.06 0.4\n",
      "강원 62 0.062 0.4\n",
      "충북 59 0.067 0.4\n",
      "충남 65 0.063 0.4\n",
      "전북 65 0.068 0.4\n",
      "전남 51 0.062 0.4\n",
      "세종 69 0.06 0.5\n",
      "경북 57 0.066 0.4\n",
      "경남 49 0.074 0.4\n",
      "제주 66 0.076 0.3\n",
      "서울 81 0.052 0.4\n",
      "부산 15 0.072 0.4\n",
      "대구 55 0.06 0.4\n",
      "인천 52 0.06 0.5\n",
      "광주 61 0.064 0.5\n",
      "대전 71 0.064 0.4\n",
      "울산 60 0.068 0.4\n",
      "경기 64 0.06 0.4\n",
      "강원 62 0.062 0.4\n",
      "충북 59 0.067 0.4\n",
      "충남 65 0.063 0.4\n",
      "전북 65 0.068 0.4\n",
      "전남 51 0.062 0.4\n",
      "세종 69 0.06 0.5\n",
      "경북 57 0.066 0.4\n",
      "경남 49 0.074 0.4\n",
      "제주 66 0.076 0.3\n",
      "서울 [81, 0.052, 0.4]\n",
      "부산 [15, 0.072, 0.4]\n",
      "대구 [55, 0.06, 0.4]\n",
      "인천 [52, 0.06, 0.5]\n",
      "광주 [61, 0.064, 0.5]\n",
      "대전 [71, 0.064, 0.4]\n",
      "울산 [60, 0.068, 0.4]\n",
      "경기 [64, 0.06, 0.4]\n",
      "강원 [62, 0.062, 0.4]\n",
      "충북 [59, 0.067, 0.4]\n",
      "충남 [65, 0.063, 0.4]\n",
      "전북 [65, 0.068, 0.4]\n",
      "전남 [51, 0.062, 0.4]\n",
      "세종 [69, 0.06, 0.5]\n",
      "경북 [57, 0.066, 0.4]\n",
      "경남 [49, 0.074, 0.4]\n",
      "제주 [66, 0.076, 0.3]\n"
     ]
    }
   ],
   "source": [
    "#지역별 데이터\n",
    "data = {'서울':[81,0.052,0.4] ,\n",
    "        '부산':[15,0.072,0.4],\n",
    "        '대구':[55,0.06,0.4],\n",
    "        '인천':[52,0.06,0.5],\n",
    "        '광주':[61,0.064,0.5],\n",
    "        '대전':[71,0.064,0.4],\n",
    "        '울산':[60,0.068,0.4],\n",
    "        '경기':[64,0.06,0.4],\n",
    "        '강원':[62,0.062,0.4],\n",
    "        '충북':[59,0.067,0.4],\n",
    "        '충남':[65,0.063,0.4],\n",
    "        '전북':[65,0.068,0.4],\n",
    "        '전남':[51,0.062,0.4],\n",
    "        '세종':[69,0.06,0.5],\n",
    "        '경북':[57,0.066,0.4],\n",
    "        '경남':[49,0.074,0.4],\n",
    "        '제주':[66,0.076,0.3]\n",
    "       }\n",
    "for item in data:\n",
    "    print(item, data[item][0], data[item][1], data[item][2])\n",
    "    \n",
    "for key, (a, b, c) in data.items():\n",
    "    print(key, a, b, c)\n",
    "\n",
    "for key, value in data.items():\n",
    "    print(key, value)\n",
    "# 딕셔너리의 키와 값을 출력해 보자.\n"
   ]
  },
  {
   "cell_type": "markdown",
   "metadata": {
    "id": "5EixJIOjOFi9"
   },
   "source": [
    "\n",
    "## **딕셔너리 컴프리헨션**\n",
    "## **딕셔너리 안에 for문을 포함하는 딕셔너리 컴프리헨션(coprehension) - for문 포함**\n",
    "* ##  딕셔너리 컴프리헨션의 문법   \n",
    "\n",
    ">###  **{ 키:값 for 항목 in 반복객체 if 조건문 }**\n",
    "\n",
    "##키 목록을 이용한 딕셔너리 생성  \n",
    ">## dict.fromkeys(seq, value)  \n",
    "\n",
    "- 딕셔너리를 생성할 때 편리하게 사용할 수 있는 메소드.\n",
    "\n",
    "- seq: 생성하려는 dictionary의 키(key)의 목록\n",
    "- value: 생성하려는 dictionary의 값(value)\n",
    "사용 예시\n",
    "\n",
    "```\n",
    "seq = ('name', 'age', 'gender')\n",
    "dict_1 = dict.fromkeys(seq)\n",
    "print(dict_1)\n",
    "dict_2 = dict.fromkeys(seq, 10)\n",
    "print(dict_2)\n",
    "  \n",
    "####[결과]####\n",
    "{'age':None, 'name':None, 'gender':None}\n",
    "{'age':10, 'name':10, 'gender':10}\n",
    "```\n",
    "- 리스트의 요소를 함수에 넣고 리턴된 값으로 새로운 리스트를 구성\n",
    "\n",
    "\n"
   ]
  },
  {
   "cell_type": "markdown",
   "metadata": {
    "id": "MKiPmjwdXEZy"
   },
   "source": [
    "###[실습]2. 딕셔너리 컴프리핸션을 사용하여 딕셔너리 키 생성, value를 20로 지정해 보자."
   ]
  },
  {
   "cell_type": "code",
   "execution_count": 7,
   "metadata": {
    "id": "OmGmbzdrFKi0"
   },
   "outputs": [],
   "source": [
    "#딕셔너리 컴프리핸션을 사용하여 딕셔너리 키 생성, value를 20으로 지정\n",
    "seq = ['name', 'age', 'gender']\n",
    "dict2 = {item:20 for item in seq}"
   ]
  },
  {
   "cell_type": "markdown",
   "metadata": {
    "id": "FYL_xt9pWnOj"
   },
   "source": [
    "###[실습]3.리스트를 이용하여 딕셔너리를 생성해 보자."
   ]
  },
  {
   "cell_type": "code",
   "execution_count": 11,
   "metadata": {
    "id": "HUesd7hIEj66"
   },
   "outputs": [
    {
     "name": "stdout",
     "output_type": "stream",
     "text": [
      "{'name': None, 'age': None, 'gender': None}\n",
      "{'name': 10, 'age': 10, 'gender': 10}\n",
      "{'st01': 0, 'st02': 0, 'st03': 0, 'st04': 0}\n"
     ]
    }
   ],
   "source": [
    "#키 목록을 이용한 딕셔너리 생성\n",
    "seq = ['name', 'age', 'gender']\n",
    "\n",
    "dict1 = dict.fromkeys(seq)\n",
    "print(dict1)\n",
    "dict2 = dict.fromkeys(seq, 10)\n",
    "print(dict2)\n",
    "#키목록을 이용한 딕셔너리 생성, 처음 값을 0으로 지정\n",
    "student = ['st01','st02','st03','st04']\n",
    "\n",
    "dict3 = dict.fromkeys(student, 0)\n",
    "print(dict3)\n"
   ]
  },
  {
   "cell_type": "markdown",
   "metadata": {
    "id": "Cl9wEtLEMnso"
   },
   "source": [
    "###[실습]4. 딕셔너리 컴프리핸션을 사용하여 아래와 같은 결과가 나오도록 코드를 작성하시오.\n",
    "```\n",
    "[출력]\n",
    "{10: 0, 20: 0, 30: 0, 40: 0}\n",
    "{10: 'a', 20: 'b', 30: 'c', 40: 'd'}\n",
    "{'가': None, '나': None, '다': None, '라': None}\n",
    "{'a': 0, 'b': 0, 'c': 0, 'd': 0}\n",
    "```"
   ]
  },
  {
   "cell_type": "code",
   "execution_count": 21,
   "metadata": {
    "id": "IFKyGfJSSlw5"
   },
   "outputs": [
    {
     "name": "stdout",
     "output_type": "stream",
     "text": [
      "{10: 0, 20: 0, 30: 0, 40: 0}\n",
      "{10: 'a', 20: 'b', 30: 'c', 40: 'd'}\n",
      "{'가': None, '나': None, '다': None, '라': None}\n",
      "{'a': 0, 'b': 0, 'c': 0, 'd': 0}\n"
     ]
    }
   ],
   "source": [
    "###딕셔너리 컴프리핸션 실습\n",
    "# 값을 키로 사용\n",
    "dct1 = {'a':10, 'b':20, 'c':30, 'd':40}\n",
    "\n",
    "dict1 = {item:0 for item in dct1.values()}\n",
    "print(dict1)\n",
    "#키값 바꾸기\n",
    "\n",
    "dict2 = {value:key for key, value in dct1.items()}\n",
    "print(dict2)\n",
    "#키목록을 이용하여 딕셔너리 생성\n",
    "lst = ['가', '나', '다', '라']\n",
    "\n",
    "dict3 = dict.fromkeys(lst)\n",
    "print(dict3)\n",
    "#키컬렉션을 이용하여 딕셔너리 생성\n",
    "dict4 = {key:0 for key in dict.fromkeys(['a', 'b', 'c', 'd']).keys()}\n",
    "print(dict4)\n"
   ]
  },
  {
   "cell_type": "markdown",
   "metadata": {
    "id": "nAJi7iDPu3TP"
   },
   "source": [
    "###[실습]5. 딕셔너리 컴프리핸션을 이용하여 딕셔너리 값을 변경해 보자.\n",
    "\n",
    "조건1) 키가 '전학생'인 값을 삭제  \n",
    "조건2) 값이 70 >= 이상인 값만 저장  "
   ]
  },
  {
   "cell_type": "code",
   "execution_count": 26,
   "metadata": {
    "id": "AItqRwD_NaYX"
   },
   "outputs": [
    {
     "name": "stdout",
     "output_type": "stream",
     "text": [
      "{'철수': 50, '영희': 80, '길동': 90, '순희': 60}\n",
      "{'영희': 80, '길동': 90}\n",
      "{'영희': 'No-Pass', '길동': 'Pass'}\n"
     ]
    }
   ],
   "source": [
    "scores = {'철수': 50, '영희': 80, '길동': 90, '순희': 60, '전학생': 100}\n",
    "\n",
    "#조건1) 키가 '전학생'인 값을 삭제\n",
    "\n",
    "scores = {key:value for key, value in scores.items() if key != '전학생'}\n",
    "print(scores)\n",
    "#조건2) 값이 70 >= 이상인 값만 저장\n",
    "scores = {key:value for key, value in scores.items() if value >= 70}\n",
    "print(scores)\n",
    "# 만약 값이 80 이상이면 패스 아니면 No-Pass\n",
    "scores = {key:\"Pass\" if value > 80 else \"No-Pass\" for key, value in scores.items()}\n",
    "print(scores)\n"
   ]
  },
  {
   "cell_type": "markdown",
   "metadata": {
    "id": "kY1c9VPoP0jH"
   },
   "source": [
    "##함수를 매개변수로 전달하는 **filter함수와 map함수**\n",
    " - ### 생성된 map, filter object는 generator라고 부름  \n",
    "\n",
    ">## map(함수, 리스트)  \n",
    "\n",
    "- ### 리스트의 요소를 함수에 넣고 리턴된 값으로 새로운 리스트를 구성  \n",
    "\n",
    "\n",
    ">## filter(함수, 리스트)\n",
    "\n",
    "- ### 리스트의 요소를 함수에 넣고 리턴된값이 True인 것으로 새로운 리스트를 구성"
   ]
  },
  {
   "cell_type": "markdown",
   "metadata": {
    "id": "7IhQwerjSMnY"
   },
   "source": [
    "###[실습]6. map을 이용해서 리스트를 생성해 보자."
   ]
  },
  {
   "cell_type": "code",
   "execution_count": 27,
   "metadata": {
    "id": "Sq6LbKJ1COIZ"
   },
   "outputs": [
    {
     "name": "stdin",
     "output_type": "stream",
     "text": [
      " 1 2 3\n",
      " 4 5 6 7 8\n"
     ]
    }
   ],
   "source": [
    "# map을 이용해 3개의 변수를 입력받아 정수로 변환하여 a,b,c에 저장해 보자.\n",
    "(a, b, c) = map(int, input().split()) # tuple\n",
    "\n",
    "# map을 이용해, 5개의 변수를 입력받아 정수로 만들고 리스트에 저장해 보자.\n",
    "lst = list(map(int, input().split()))\n",
    "print(lst)"
   ]
  },
  {
   "cell_type": "markdown",
   "metadata": {
    "id": "L1nGuE5VW1vG"
   },
   "source": [
    "###[실습]7. 아래 조건에 맞게 작성하시오.\n",
    "조건1) map를 이용하고 리스트의 요소를 거듭제곱하는 함수를 작성해 리스트로 출력하시오.  \n",
    "조건2) filter를 이용하고 리스트의 요소 중 3 보다 작은 값을 추출하는 함수를 작성해 새로운 리스트로 출력하시오."
   ]
  },
  {
   "cell_type": "code",
   "execution_count": 33,
   "metadata": {
    "id": "pPzuCpvNdf6S"
   },
   "outputs": [
    {
     "name": "stdout",
     "output_type": "stream",
     "text": [
      "[1, 4, 9, 16, 25]\n",
      "[1, 2]\n"
     ]
    }
   ],
   "source": [
    "lst1 =[1,2,3,4,5]\n",
    "\n",
    "def power(item):\n",
    "    return item*item\n",
    "def under_3(x):\n",
    "    return x < 3\n",
    "list1 = list(map(power, lst1))\n",
    "print(list1)\n",
    "list2 = list(filter(under_3, lst1))\n",
    "print(list2)"
   ]
  },
  {
   "cell_type": "markdown",
   "metadata": {
    "id": "qHcMt87h9SmG"
   },
   "source": [
    "###[실습]8. 아래 조건에 맞도록 작성하시오.\n",
    "1) 실습 7번의 함수를 람다함수로 변경해 작성하시오.  \n",
    "2) 람다함수를 map, filter의 매개변수로 작성하시오.  \n",
    "3) map을 이용해, 5개의 변수를 입력받아 2로 곱한 후 리스트에 저장하고 출력하시오.\n"
   ]
  },
  {
   "cell_type": "code",
   "execution_count": 32,
   "metadata": {
    "colab": {
     "base_uri": "https://localhost:8080/"
    },
    "executionInfo": {
     "elapsed": 417,
     "status": "ok",
     "timestamp": 1728478916916,
     "user": {
      "displayName": "곽상미",
      "userId": "10268103871227333801"
     },
     "user_tz": -540
    },
    "id": "3EmN2H8Y8pzX",
    "outputId": "81c80578-8ac7-4a46-ab47-2558ab1cfbf1"
   },
   "outputs": [],
   "source": [
    "#실습 7번의 함수를 람다함수로 변경해 작성\n",
    "power = lambda x: x*x\n",
    "under_3 = lambda x: x<3"
   ]
  },
  {
   "cell_type": "code",
   "execution_count": 36,
   "metadata": {
    "colab": {
     "base_uri": "https://localhost:8080/"
    },
    "executionInfo": {
     "elapsed": 8249,
     "status": "ok",
     "timestamp": 1728718286398,
     "user": {
      "displayName": "곽상미",
      "userId": "10268103871227333801"
     },
     "user_tz": -540
    },
    "id": "SiUdM7WJYHo7",
    "outputId": "e376a5db-3f1e-4175-d1ae-168a0bf58ab5"
   },
   "outputs": [
    {
     "name": "stdout",
     "output_type": "stream",
     "text": [
      "[1, 4, 9, 16, 25]\n",
      "[1, 2]\n"
     ]
    },
    {
     "name": "stdin",
     "output_type": "stream",
     "text": [
      " 23 12823132181 1292 382 2\n"
     ]
    },
    {
     "name": "stdout",
     "output_type": "stream",
     "text": [
      "[46, 25646264362, 2584, 764, 4]\n"
     ]
    }
   ],
   "source": [
    "#2) 람다함수를 map, filter의 매개변수로 작성\n",
    "lst1 =[1,2,3,4,5]\n",
    "list1 = list(map(lambda x: x*x, lst1))\n",
    "print(list1)\n",
    "list2 = list(filter(lambda x: x<3, lst1))\n",
    "print(list2)\n",
    "\n",
    "\n",
    "#3) map을 이용해, 5개의 변수를 입력받아 2로 곱한 후 리스트에 저장하고 출력해 보자.\n",
    "a = list(map(lambda x: int(x)*2, input().split()))\n",
    "print(a)"
   ]
  },
  {
   "cell_type": "markdown",
   "metadata": {
    "id": "NsZBiZOgw8vI"
   },
   "source": [
    "###[해결]1. 다음 지시대로 코드를 작성하시오.  \n",
    "\n",
    " 조건1) 다음 영어 사전 데이터를 딕셔너리 변수로 만들고 출력예시와 같이 출력하시오.(단어: 11자리, 의미: 5자리, 외움 :3자리)\n",
    " 조건2) 값이 ‘X’인 영어단어만 출력하는 코드를 작성하시오.\n",
    " [출력]\n",
    " ```\n",
    "\n",
    "    단어      의미  외움\n",
    "environment: 환경    X\n",
    "company    : 회사    O\n",
    "government': 정부    X  \n",
    "face       : 얼굴    X\n",
    "```\n"
   ]
  },
  {
   "cell_type": "code",
   "execution_count": 45,
   "metadata": {
    "id": "P8Cxl5DtIb3B"
   },
   "outputs": [
    {
     "name": "stdout",
     "output_type": "stream",
     "text": [
      "    단어       의미   외움 \n",
      "environment:  환경    X \n",
      "government :  정부    X \n",
      "face       :  얼굴    X \n"
     ]
    }
   ],
   "source": [
    "#정답코드를 작성하세요.\n",
    "dictionary = {\n",
    "    'environment': ('환경'  ,  'X'),\n",
    "    'company'    : ('회사'  ,  'O'),\n",
    "    'government' : ('정부'  ,  'X'),\n",
    "    'face'       : ('얼굴'  ,  'X')\n",
    "}\n",
    "print(f\"{'단어':^11} {'의미':^5} {'외움':^3}\")\n",
    "for word, (meaning, remember) in dictionary.items():\n",
    "    if remember == 'X':\n",
    "        print(f\"{word:<11}: {meaning:^5} {remember:^3}\")"
   ]
  },
  {
   "cell_type": "markdown",
   "metadata": {
    "id": "pySInT0IOGlr"
   },
   "source": [
    "###[해결]2. 다음 dict_all, dict2, dict3 딕셔너리 변수가 있을 때, dict2와 dict3 두 데이터를 dict_all 딕셔너리 변수에 추가한 후, dict_all 변수를 출력하시오..\n",
    "```python\n",
    "dict_all = {'environment': '환경', 'gonernment':'정부, 정치'}\n",
    "dict2 = {'company': '회사', 'face':'얼굴'}\n",
    "dict3 = {'apple': '사과'}\n",
    "```"
   ]
  },
  {
   "cell_type": "code",
   "execution_count": 59,
   "metadata": {
    "id": "QmCBIfaOOMDQ"
   },
   "outputs": [
    {
     "name": "stdout",
     "output_type": "stream",
     "text": [
      "{'environment': '환경', 'gonernment': '정부, 정치', 'company': '회사', 'face': '얼굴', 'apple': '사과'}\n"
     ]
    }
   ],
   "source": [
    "dict_all = {'environment': '환경', 'gonernment':'정부, 정치'}\n",
    "dict2 = {'company': '회사', 'face':'얼굴'}\n",
    "dict3 = {'apple': '사과'}\n",
    "for key, value in dict2.items():\n",
    "    dict_all[key] = value\n",
    "for key, value in dict3.items():\n",
    "    dict_all[key] = value\n",
    "print(dict_all)\n",
    "#정답코드를 작성하세요."
   ]
  },
  {
   "cell_type": "markdown",
   "metadata": {
    "id": "ZsEBAhy_OQzz"
   },
   "source": [
    "###[해결]3. 다음 actor_info 딕셔너리 변수를 만들고, 홈페이지, 배우 이름, 최근 출연 영화 갯수를 다음과 같이 출력하세요\n",
    "\n",
    "```python\n",
    "actor_info = {'actor_details': {'생년월일': '1971-03-01',\n",
    "                   '성별': '남',\n",
    "                   '직업': '배우',\n",
    "                   '홈페이지': 'https://www.instagram.com/madongseok'},\n",
    " 'actor_name': '마동석',\n",
    " 'actor_rate': 59361,\n",
    " 'date': '2017-10',\n",
    " 'movie_list': ['범죄도시', '부라더', '부산행']}\n",
    "```\n",
    "\n",
    "* 출력 예:<br>\n",
    "배우 이름: 마동석 <br>\n",
    "홈페이지: https://www.instagram.com/madongseok <br>\n",
    "출연 영화 갯수: 3 <br>"
   ]
  },
  {
   "cell_type": "code",
   "execution_count": 64,
   "metadata": {
    "id": "rrgubAR-OV_y"
   },
   "outputs": [
    {
     "name": "stdout",
     "output_type": "stream",
     "text": [
      "배우 이름: 마동석\n",
      "홈페이지: https://www.instagram.com/madongseok\n",
      "출연 영화 개수: 3\n"
     ]
    }
   ],
   "source": [
    "actor_info = {'actor_details': {'생년월일': '1971-03-01',\n",
    "                   '성별': '남',\n",
    "                   '직업': '배우',\n",
    "                   '홈페이지': 'https://www.instagram.com/madongseok'},\n",
    " 'actor_name': '마동석',\n",
    " 'actor_rate': 59361,\n",
    " 'date': '2017-10',\n",
    " 'movie_list': ['범죄도시', '부라더', '부산행']}\n",
    "\n",
    "print(\"배우 이름:\", actor_info['actor_name'])\n",
    "print(\"홈페이지:\", actor_info['actor_details']['홈페이지'])\n",
    "print(\"출연 영화 개수:\", len(actor_info['movie_list']))\n",
    "\n",
    "#출력코드를 작성하세요."
   ]
  },
  {
   "cell_type": "code",
   "execution_count": null,
   "metadata": {
    "id": "glBKkX_eE2m1"
   },
   "outputs": [],
   "source": []
  },
  {
   "cell_type": "markdown",
   "metadata": {
    "id": "zq2WRIuhIb3E"
   },
   "source": [
    "###[해결]4. number_list가 다음과 같은 리스트일 때 중복 숫자를 제거한 number_list1 집합을 만들고, 출력하시오.\n",
    "```python\n",
    "number_list = [5, 1, 2, 2, 3, 3, 4, 5, 5, 6, 7, 8, 9, 9, 10, 10]\n",
    "```"
   ]
  },
  {
   "cell_type": "code",
   "execution_count": 66,
   "metadata": {
    "id": "amjSVvg-Ib3E"
   },
   "outputs": [
    {
     "name": "stdout",
     "output_type": "stream",
     "text": [
      "{1, 2, 3, 4, 5, 6, 7, 8, 9, 10}\n"
     ]
    }
   ],
   "source": [
    "#정답 작성\n",
    "number_list = [5, 1, 2, 2, 3, 3, 4, 5, 5, 6, 7, 8, 9, 9, 10, 10]\n",
    "number_list = set(number_list)\n",
    "print(number_list)"
   ]
  },
  {
   "cell_type": "markdown",
   "metadata": {
    "id": "znJtdmo-Ib3E"
   },
   "source": [
    "###[해결]5.number_set에 다음과 같은 데이터를 순서대로 추가하고, 제거한 후 내용을 출력하시오.\n",
    "```python\n",
    "선언: {1, 2, 3}\n",
    "추가: 4\n",
    "추가(업데이트): [5, 6]\n",
    "제거: 2\n",
    "[출력]\n",
    "{1, 3, 4, 5, 6}\n",
    "\n",
    "```"
   ]
  },
  {
   "cell_type": "code",
   "execution_count": 69,
   "metadata": {
    "id": "YMuxXPSoIb3F"
   },
   "outputs": [
    {
     "name": "stdout",
     "output_type": "stream",
     "text": [
      "{1, 3, 4, 5, 6}\n"
     ]
    }
   ],
   "source": [
    "# 정답 작성\n",
    "number_set = {1, 2, 3}\n",
    "number_set.add(4)\n",
    "number_set.update([5, 6])\n",
    "number_set.remove(2)\n",
    "print(number_set)"
   ]
  },
  {
   "cell_type": "code",
   "execution_count": null,
   "metadata": {},
   "outputs": [],
   "source": []
  }
 ],
 "metadata": {
  "colab": {
   "provenance": []
  },
  "kernelspec": {
   "display_name": "Python 3 (ipykernel)",
   "language": "python",
   "name": "python3"
  },
  "language_info": {
   "codemirror_mode": {
    "name": "ipython",
    "version": 3
   },
   "file_extension": ".py",
   "mimetype": "text/x-python",
   "name": "python",
   "nbconvert_exporter": "python",
   "pygments_lexer": "ipython3",
   "version": "3.11.8"
  }
 },
 "nbformat": 4,
 "nbformat_minor": 4
}
