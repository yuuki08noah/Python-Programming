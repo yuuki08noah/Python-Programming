{
 "cells": [
  {
   "cell_type": "markdown",
   "metadata": {
    "id": "NejVhuE-L8qh"
   },
   "source": [
    "# 1307 방세준\n",
    "# 딕셔너리(dictionary)\n",
    "+ **특징**\n",
    " - 키(key)와 값(value) 쌍을 요소로 가짐\n",
    " - 중괄호({})로 작성되며 각 요소는 쉼표(,)로 구분\n",
    " - 순서 없음\n",
    " - 키는 변경할 수 없으며 값은 변경가능\n",
    "\n",
    "##생성 및 기본 함수   \n",
    "   **1. 딕셔너리 선언**\n",
    "  - 딕셔너리변수 = { }\n",
    "  - 딕셔너리변수 =dict( )\n",
    "  - 딕셔너리변수 = {키:값}  \n",
    "\n",
    "\n",
    " **2. 딕셔너리 요소 추가**\n",
    "  - 딕셔너리명[추가키]=값\n",
    "  \n",
    "\n",
    " **3. 딕셔너리 요소 삭제**\n",
    "  - del 딕셔너리명[키]\n",
    "  - 딕셔너리명.pop[키]\n",
    "\n",
    "\n",
    " **4. 딕셔너리 요소 수정**\n",
    "  - 딕셔너리명[키]=값\n",
    "\n",
    "##**딕셔너리 접근**\n",
    " - 특정 요소 값 : 딕션너리명[키]\n",
    " - 요소 키 컬렉션  : 딕셔너리명.keys()\n",
    " - 요소 값 컬렉션 : 딕셔너리명.values()\n",
    " - 키와 요소 컬렉션은 list() 생성자로 리스트로 변환가능\n",
    "\n",
    "\n",
    "##주의 사항\n",
    "+ 동일한 key가 존재할 경우 하나를 제외한 나머지값은 무시된다.(중복 하지 말것)\n",
    "+ Key에 변하는 값인 List는 쓸수 없고, 튜플은 Key로 사용 가능함.\n",
    "+ 값에는 컬렉션 타입 모두 가능함.\n",
    " ```\n",
    " a ={[1,2]:'hello'}  # 오류\n",
    " a ={(1,2): 'hi'}    # 사용 가능\n",
    "```\n"
   ]
  },
  {
   "cell_type": "code",
   "execution_count": null,
   "metadata": {
    "id": "9fMatXc2LELF"
   },
   "outputs": [],
   "source": [
    "#빈 딕셔너리 선언\n",
    "dt1 = {}\n",
    "dt2 = dict()\n",
    "#딕셔너리 선언 및 할당\n",
    "dt = {'a':200, 'b':150, 'c':100}\n",
    "print(dt1,dt2,dt)\n",
    "#딕셔너리 요소 추가\n",
    "dt['d'] = 30\n",
    "print(dt)\n",
    "dt['e']=40\n",
    "print(dt)"
   ]
  },
  {
   "cell_type": "markdown",
   "metadata": {
    "id": "pbjaeH6weqL1"
   },
   "source": [
    "###[실습]1. dict1, dict2에 빈 딕셔너리 변수를 선언하고, dict3변수에,  'c':[1,2,3] 요소를 추가한 다음, dict1,dict2,dict3를 출력하시오.\n",
    "```\n",
    "dict3 = {1:2, 'b':'hi'}\n",
    "```"
   ]
  },
  {
   "cell_type": "code",
   "execution_count": 1,
   "metadata": {
    "id": "SJZINcmIgAXN"
   },
   "outputs": [
    {
     "name": "stdout",
     "output_type": "stream",
     "text": [
      "{} {} {1: 2, 'b': 'hi', 'c': [1, 2, 3]}\n"
     ]
    }
   ],
   "source": [
    "##[실습]1. 정답을 작성하세요.\n",
    "dict1 = {}\n",
    "dict2 = dict()\n",
    "dict3 = {1:2, 'b':'hi', 'c':[1, 2, 3]}\n",
    "print(dict1, dict2, dict3)"
   ]
  },
  {
   "cell_type": "code",
   "execution_count": 5,
   "metadata": {
    "id": "7BoSNs-LMvDf"
   },
   "outputs": [
    {
     "name": "stdout",
     "output_type": "stream",
     "text": [
      "딕션너리 a 값 : 200\n",
      "딕셔너리 b값 : 150\n",
      "{'a': 200, 'b': 150}\n",
      "{'a': 300, 'b': 150}\n"
     ]
    }
   ],
   "source": [
    "#딕셔너리 접근\n",
    "dt = {'a':200, 'b':150, 'c':100}\n",
    "print(f'딕션너리 a 값 : {dt[\"a\"]}')\n",
    "print(f'딕셔너리 b값 : {dt[\"b\"]}')\n",
    "#딕셔너리 요소 삭제\n",
    "del dt['c']\n",
    "print(dt)\n",
    "#딕셔너리 수정\n",
    "dt['a'] = 300\n",
    "print(dt)\n",
    "\n"
   ]
  },
  {
   "cell_type": "code",
   "execution_count": 9,
   "metadata": {
    "id": "X6SchIQSgBkW"
   },
   "outputs": [
    {
     "name": "stdout",
     "output_type": "stream",
     "text": [
      "dict_keys(['a', 'b', 'c'])\n",
      "<class 'dict_keys'>\n",
      "dict_values([200, 150, 100])\n",
      "<class 'dict_values'>\n",
      "['a', 'b', 'c']\n",
      "[200, 150, 100]\n"
     ]
    }
   ],
   "source": [
    "#딕션너리 키\n",
    "dt = {'a':200, 'b':150, 'c':100}\n",
    "print(dt.keys())\n",
    "print(type(dt.keys()))\n",
    "\n",
    "#딕셔너리 값\n",
    "print(dt.values())\n",
    "print(type(dt.values()))\n",
    "\n",
    "#list로 출력\n",
    "print(list(dt.keys()))\n",
    "print(list(dt.values()))\n"
   ]
  },
  {
   "cell_type": "markdown",
   "metadata": {
    "id": "lm0MW6UHf_Cj"
   },
   "source": [
    "###[실습]2. dict1를 아래 조건에 맞게 출력하시오.\n",
    "1) dict1에 대해서 요소를 삭제, 수정하여 아래 [출력] 과 같이 출력하시오.  \n",
    "2) dict1의 키를 추출해서 리스트로 출력하시오.  \n",
    "3) dict1의 값들을 추출해서 리스트로 출력하시오.\n",
    "```\n",
    "dict1 = {1:2, 'b':'hi', 'a':[4,5,6], 'c':100}\n",
    "```\n",
    "[출력]  \n",
    "```\n",
    "{'b': 'hi', 'a': [1, 2], 'c': 100}\n",
    "['b', 'a', 'c']\n",
    "['hi', [1, 2], 100]\n",
    "```"
   ]
  },
  {
   "cell_type": "code",
   "execution_count": 8,
   "metadata": {
    "id": "EiTOmtJ9gspw"
   },
   "outputs": [
    {
     "name": "stdout",
     "output_type": "stream",
     "text": [
      "{'b': 'hi', 'a': [1, 2], 'c': 100}\n",
      "['b', 'a', 'c']\n",
      "['hi', [1, 2], 100]\n"
     ]
    }
   ],
   "source": [
    "##[실습]2. 정답을 작성하세요.\n",
    "dict1 = {1:2, 'b':'hi', 'a':[4,5,6], 'c':100}\n",
    "del dict1[1]\n",
    "dict1['a'] = [1, 2]\n",
    "print(dict1)\n",
    "print(list(dict1.keys()))\n",
    "print(list(dict1.values()))\n"
   ]
  },
  {
   "cell_type": "markdown",
   "metadata": {
    "id": "Y4gku7fQM9Of"
   },
   "source": [
    "# 집합(set)\n",
    "+ **특징**\n",
    " - **중복 없는 요소로만 구성**\n",
    " - **중괄호({ })** 작성되며 각 요소는 쉼표(,)로 구분\n",
    " - 순서 없음\n",
    "\n",
    "##생성 및 기본 함수   \n",
    "   **1. 집합 선언**\n",
    "  - 집합변수 = { }\n",
    "  - 집합변수 = set()\n",
    "\n",
    "**2. 집합 요소 추가**\n",
    " - 집합명.add(요소) : 하나의 요소 추가\n",
    " - 집합명.update(추가집합) : 여러 요소를 추가\n",
    "  \n",
    "**3. 집합 요소 삭제**\n",
    " - 집합명.remove(요소값) : 하나의 요소 삭제\n",
    " - 집합명.clear() : 모든 요소 삭제\n",
    "\n",
    "\n",
    "**집합 연산**\n",
    " - 교집합 : &\n",
    " - 합집합 : |\n",
    " - 차집합 : -\n"
   ]
  },
  {
   "cell_type": "markdown",
   "metadata": {
    "id": "sgq2QKpjgEND"
   },
   "source": [
    "###[실습]3. 아래 조건에 맞게 출력하시오.\n",
    "1) lst1의 요소를 중복을 제거하고, 리스트 자료형으로 출력하시오.  \n",
    "2) tp1의 요소 중복을 제거하고 내림차순으로 정렬하여 리스트 자료형으로 출력하시오.  \n",
    "\n",
    "```\n",
    "list1 =[7,7,7,8, 1,1,1,2,2,2,3,5,6,]\n",
    "tp1 = (1,2,2,2,4,6,8,9)\n",
    "\n",
    "```\n",
    "[출력]  \n",
    "```\n",
    "[1, 2, 3, 5, 6, 7, 8]\n",
    "[9, 8, 6, 4, 2, 1]\n",
    "```"
   ]
  },
  {
   "cell_type": "markdown",
   "metadata": {
    "id": "VhdL4FnX-pif"
   },
   "source": []
  },
  {
   "cell_type": "code",
   "execution_count": 11,
   "metadata": {
    "id": "y8UaIYZ-72D4"
   },
   "outputs": [
    {
     "name": "stdout",
     "output_type": "stream",
     "text": [
      "[1, 2, 3, 5, 6, 7, 8]\n",
      "[9, 8, 6, 4, 2, 1]\n"
     ]
    }
   ],
   "source": [
    "#[실습] 3. 정답을 작성하세요.\n",
    "list1 =[7,7,7,8, 1,1,1,2,2,2,3,5,6,]\n",
    "tp1 = (1,2,2,2,4,6,8,9)\n",
    "l = list(set(list1))\n",
    "r = sorted(list(set(tp1)), reverse=True)\n",
    "print(l)\n",
    "print(r)"
   ]
  },
  {
   "cell_type": "code",
   "execution_count": null,
   "metadata": {
    "id": "72Wg8aBJN0A3"
   },
   "outputs": [],
   "source": [
    "#집합\n",
    "a = (1, 2, 2, 3)\n",
    "b = [10, 20, 30, 30]"
   ]
  },
  {
   "cell_type": "code",
   "execution_count": 13,
   "metadata": {
    "id": "nQnDXqVZN5yl"
   },
   "outputs": [
    {
     "name": "stdout",
     "output_type": "stream",
     "text": [
      "(1, 2, 2, 3)의 type : <class 'tuple'>\n",
      "{1, 2, 3}의 type : <class 'set'>\n",
      "[10, 20, 30, 30]의 type : <class 'list'>\n",
      "{10, 20, 30}의 type : <class 'set'>\n"
     ]
    }
   ],
   "source": [
    "#\n",
    "a = (1, 2, 2, 3)\n",
    "b = [10, 20, 30, 30]\n",
    "print(f'{a}의 type : {type(a)}')\n",
    "a = set(a)\n",
    "print(f'{a}의 type : {type(a)}')\n",
    "\n",
    "print(f'{b}의 type : {type(b)}')\n",
    "b = set(b)\n",
    "print(f'{b}의 type : {type(b)}')\n"
   ]
  },
  {
   "cell_type": "markdown",
   "metadata": {
    "id": "j86vD4PqHaAt"
   },
   "source": [
    "###[실습]4. 아래와 같은 변수가 저장되어 있을때 조건에 맞게 출력하는 코드를 작성하시오.\n",
    "[조건]  \n",
    "1. a에 100을 추가하시오.  \n",
    "2. b에 {100,200,300}을 추가하시오.\n",
    "3. a에 1을 제거하시오.\n",
    "4. 집합 a의 모든 요소를 삭제하시오.  \n",
    "[출력]  \n",
    "```\n",
    "{1, 2, 3, 100}\n",
    "{20, 100, 200, 10, 300, 30}\n",
    "{2, 3, 100}\n",
    "set()\n",
    "```\n"
   ]
  },
  {
   "cell_type": "code",
   "execution_count": 16,
   "metadata": {
    "id": "tokcDNbyN7LP"
   },
   "outputs": [
    {
     "name": "stdout",
     "output_type": "stream",
     "text": [
      "{1, 2, 3, 100}\n",
      "{20, 100, 200, 10, 300, 30}\n",
      "{2, 3, 100}\n",
      "set()\n"
     ]
    }
   ],
   "source": [
    "#[실습]4. 정답코드를 작성하세요.\n",
    "a = {1, 2, 3}\n",
    "b = {10, 20, 30}\n",
    "#a에 100을 추가하시오.\n",
    "a.add(100)\n",
    "print(a)\n",
    "#b에 {100,200,300}을 추가하시오.\n",
    "b.update({100, 200, 300})\n",
    "print(b)\n",
    "#a에 1을 제거하시오.\n",
    "a.remove(1)\n",
    "print(a)\n",
    "#집합 a의 모든 요소를 삭제하시오.\n",
    "a.clear()\n",
    "print(a)\n",
    "\n"
   ]
  },
  {
   "cell_type": "markdown",
   "metadata": {
    "id": "toHF2dCffCqy"
   },
   "source": [
    "###[실습]5. 아래와 같은 변수가 저장되어 있을때 a집합, 교집합, 합집합, 차집합을 출력하는 코드를 작성하시오.\n",
    "```\n",
    "a = {1, 2, 3, 100, 500, 200}\n",
    "b = {20, 100, 200, 10, 300, 30}\n",
    "```\n",
    "[출력]  \n",
    "```\n",
    "a집합 = {1, 2, 3, 100, 200, 500} , b집합 = {100, 20, 200, 10, 300, 30}\n",
    "교집합 = {200, 100}\n",
    "합집합 = {1, 2, 3, 100, 200, 10, 300, 500, 20, 30}\n",
    "차집합 = {1, 2, 3, 500}\n",
    "```"
   ]
  },
  {
   "cell_type": "code",
   "execution_count": 14,
   "metadata": {
    "id": "oplcmIhPfbVP"
   },
   "outputs": [
    {
     "name": "stdout",
     "output_type": "stream",
     "text": [
      "a집합 = {1, 2, 3, 100, 500, 200}, b집합 = {100, 20, 200, 10, 300, 30}\n",
      "교집합 = {200, 100}\n",
      "합집합 = {1, 2, 3, 100, 200, 10, 300, 500, 20, 30}\n",
      "차집합 = {1, 2, 3, 500}\n"
     ]
    }
   ],
   "source": [
    "#[실습]5. 정답을 작성하세요.\n",
    "\n",
    "a = {1, 2, 3, 100, 500, 200}\n",
    "b = {20, 100, 200, 10, 300, 30}\n",
    "\n",
    "print(f'a집합 = {a}, b집합 = {b}')\n",
    "print('교집합 =', a & b)\n",
    "print('합집합 =', a | b)\n",
    "print('차집합 =', a - b)\n",
    "\n",
    "\n"
   ]
  },
  {
   "cell_type": "markdown",
   "metadata": {
    "id": "3PY2tmTxOIGT"
   },
   "source": [
    "# 컬렉션 데이터\n",
    "+ 컬렉션 데이터 모든 요소에 접근\n",
    "+ `for 요소변수 in 컬렉션명 `:\n",
    "\n",
    "\n",
    "### **zip()**\n",
    "+ 동일한 개수로 이루어진 자료형을 묶어 주는 역할을 하는 함수"
   ]
  },
  {
   "cell_type": "code",
   "execution_count": 17,
   "metadata": {
    "colab": {
     "base_uri": "https://localhost:8080/"
    },
    "executionInfo": {
     "elapsed": 429,
     "status": "ok",
     "timestamp": 1725286363133,
     "user": {
      "displayName": "곽상미",
      "userId": "10268103871227333801"
     },
     "user_tz": -540
    },
    "id": "XFrB44liOe9m",
    "outputId": "40707f9a-3a83-4907-b9be-95981e585ef2"
   },
   "outputs": [
    {
     "name": "stdout",
     "output_type": "stream",
     "text": [
      "10 50 30 \n",
      "{'a': 10, 'b': 50, 'c': 30}\n",
      "a => 10\n",
      "b => 50\n",
      "c => 30\n",
      "10 => a\n",
      "50 => b\n",
      "30 => c\n"
     ]
    }
   ],
   "source": [
    "#컬렉션 요소 접근\n",
    "lst = [10,50,30]\n",
    "tp = ('a','b','c')\n",
    "\n",
    "for item in lst :\n",
    "    print(item, end=' ')\n",
    "print()\n",
    "#tp의 요소  한줄로 모두 출력하시오.\n",
    "\n",
    "#딕션너리 만들기\n",
    "dt = dict(zip(tp,lst))\n",
    "print(dt)\n",
    "\n",
    "# 딕셔너리 키값 한줄씩 출력 확인하시오.\n",
    "for item in dt :\n",
    "    print(f'{item} => {dt[item]}')\n",
    "\n",
    "#딕셔너리 키값을 반대로 생성하시오.\n",
    "dt = dict(zip(lst, tp))\n",
    "# 딕셔너리 키값 한줄씩 출력 확인하시오.\n",
    "for item in dt :\n",
    "    print(f'{item} => {dt[item]}')\n",
    "\n"
   ]
  },
  {
   "cell_type": "markdown",
   "metadata": {
    "id": "WmMKZnFRGL6D"
   },
   "source": [
    "###[실습]5. lst, tp에 아래와 같이 저장되어 있을때 두 변수를 이용하여 딕셔너리 변수를 만들고 [출력] 예시와 같이 출력하는 코드를 작성하시오.  \n",
    "lst = [10,20,30,40]  \n",
    "tp = ('a','b','c','d')  \n",
    "[출력]  \n",
    "```\n",
    "{10: 'a', 20: 'b', 30: 'c', 40: 'd'}\n",
    "10 => a\n",
    "20 => b\n",
    "30 => c\n",
    "40 => d\n",
    "\n",
    "```"
   ]
  },
  {
   "cell_type": "code",
   "execution_count": 20,
   "metadata": {
    "executionInfo": {
     "elapsed": 342,
     "status": "ok",
     "timestamp": 1725327597332,
     "user": {
      "displayName": "곽상미",
      "userId": "10268103871227333801"
     },
     "user_tz": -540
    },
    "id": "n7Na_99FO9I1"
   },
   "outputs": [
    {
     "name": "stdout",
     "output_type": "stream",
     "text": [
      "{10: 'a', 20: 'b', 30: 'c', 40: 'd'}\n",
      "10 => a\n",
      "20 => b\n",
      "30 => c\n",
      "40 => d\n"
     ]
    }
   ],
   "source": [
    "#[실습]5. 정답코드를 작성하시오.\n",
    "lst = [10,20,30,40]\n",
    "tp = ('a','b','c','d')\n",
    "\n",
    "dt = dict(zip(lst, tp))\n",
    "print(dt)\n",
    "for i in dt:\n",
    "    print(f'{i} => {dt[i]}')"
   ]
  },
  {
   "cell_type": "markdown",
   "metadata": {
    "id": "UWuyNMkqOkbm"
   },
   "source": [
    "## 내장함수\n",
    "+ **len(컬렉션명)**\n",
    " - 컬렉션 요소 개수\n",
    "+ **max(컬렉션명)**\n",
    " - 가장 큰 요소 값 반환\n",
    " - 딕션너리인 경우는 키 값 중 가장 큰 요소 반환\n",
    "+ **min(컬렉션명)**\n",
    " - 가장 작은 요소 값 반환\n",
    " - 딕션너리인 경우는 키 값 중 가장 작은 요소 반환\n",
    "+ **sum(컬렉션명)**\n",
    " - 수치 요소로 이루어진 컬렉션 요소의 합\n",
    " - 딕션너리인 경우는 키 값의 합\n",
    "+ **sorted(컬렉션명)**\n",
    " - 컬렉션요소 정렬\n",
    " - 딕션너리인 경우는 키 값을 정렬하여 키 리스트 반환\n"
   ]
  },
  {
   "cell_type": "code",
   "execution_count": 22,
   "metadata": {
    "id": "ttxhLTPpP4BV"
   },
   "outputs": [
    {
     "name": "stdout",
     "output_type": "stream",
     "text": [
      "[50, 10, 20, 30, 40]의 요소 개수 : 5\n",
      "[50, 10, 20, 30, 40]의 최대값 : 50\n",
      "[50, 10, 20, 30, 40]의 최소값 : 10\n",
      "[50, 10, 20, 30, 40]의 합계 : 150\n",
      "[50, 10, 20, 30, 40]의 정렬 : [10, 20, 30, 40, 50]\n",
      "[50, 10, 20, 30, 40]\n"
     ]
    }
   ],
   "source": [
    "#내장함수를 적용하여 출력해 보자.\n",
    "lst = [50,10,20,30,40]\n",
    "tp = ('a','b','c','d')\n",
    "print(f'{lst}의 요소 개수 : {len(lst)}')\n",
    "print(f'{lst}의 최대값 : {max(lst)}')\n",
    "print(f'{lst}의 최소값 : {min(lst)}')\n",
    "print(f'{lst}의 합계 : {sum(lst)}')\n",
    "print(f'{lst}의 정렬 : {sorted(lst)}')\n",
    "print(lst)\n"
   ]
  },
  {
   "cell_type": "markdown",
   "metadata": {
    "id": "oyd3U2-fQHrC"
   },
   "source": [
    "\n",
    "\n",
    "---\n",
    "[실습]6.\n",
    "기상청에서 제공하는 3월 1일에서 3월 31일까지의 평균기온 정보입니다.\n",
    "[출력]과 같이 출력되도록 코드를 작성하시오.(단, 평균기온이 동일한 날은 없음)\n",
    "\n",
    "```\n",
    "[출력]\n",
    "평균기온 :10.44 ℃\n",
    "최고기온 :14.5 ℃\n",
    "최저기온 :5.1\n",
    "```\n",
    "\n",
    "---\n"
   ]
  },
  {
   "cell_type": "code",
   "execution_count": 23,
   "metadata": {
    "id": "_A1Rx91KQhrS"
   },
   "outputs": [
    {
     "name": "stdout",
     "output_type": "stream",
     "text": [
      "10.441935483870964\n",
      "14.5\n",
      "5.1\n"
     ]
    }
   ],
   "source": [
    "#[실습]6. 정답을 작성하세요.\n",
    "temp = [10.8, 8.5, 8.7, 7.9, 5.1,\n",
    "        8.1, 8.2, 10.4, 11, 9.9,\n",
    "        7.8, 9.5, 11.6, 8.2, 7.7,\n",
    "        6.6, 11.1, 12.2, 12.6, 10.4,\n",
    "        13.7, 14.1, 12.6, 11.5, 13,\n",
    "        14.5, 13.7, 9.4, 10.4, 11.6, 12.9]\n",
    "\n",
    "print(f'{sum(temp)/len(temp):.2f}')\n",
    "print(max(temp))\n",
    "print(min(temp))"
   ]
  },
  {
   "cell_type": "markdown",
   "metadata": {
    "id": "J5OXVZ4lQmkK"
   },
   "source": [
    "\n",
    "\n",
    "---\n",
    "\n",
    "[실습]7.\n",
    "\n",
    "기상청에서 제공되는 공공데이터 입니다.\n",
    "https://data.kma.go.kr/stcs/grnd/grndTaList.do?pgmNo=70\n",
    "기상청 공공데이터 사이트에서 2023년 1월에서 12월까지 부산평균기온을 조사해서 2023년의 전체 평균기온을 구할수 있다. 아래와 같은 기온 데이터가 주어졌을때 평균기온을 구해서 출력하시오.  \n",
    "[출력]  \n",
    "```\n",
    "평균기온 :16.15 ℃\n",
    "```\n",
    "---\n",
    "\n"
   ]
  },
  {
   "cell_type": "code",
   "execution_count": 26,
   "metadata": {
    "id": "woqrj_bXEYDZ"
   },
   "outputs": [
    {
     "name": "stdout",
     "output_type": "stream",
     "text": [
      "평균기온 :16.15 ℃\n"
     ]
    }
   ],
   "source": [
    "\n",
    "atemp=[6.4, 7.1, 10.4, 12.6, 17.9, 22.4, 22.1, 27.2, 21.9, 17.3, 12.4]\n",
    "\n",
    "print(f'평균기온 :{sum(atemp)/len(atemp):.2f} ℃')"
   ]
  },
  {
   "cell_type": "code",
   "execution_count": null,
   "metadata": {},
   "outputs": [],
   "source": []
  }
 ],
 "metadata": {
  "colab": {
   "provenance": []
  },
  "kernelspec": {
   "display_name": "Python 3 (ipykernel)",
   "language": "python",
   "name": "python3"
  },
  "language_info": {
   "codemirror_mode": {
    "name": "ipython",
    "version": 3
   },
   "file_extension": ".py",
   "mimetype": "text/x-python",
   "name": "python",
   "nbconvert_exporter": "python",
   "pygments_lexer": "ipython3",
   "version": "3.11.8"
  }
 },
 "nbformat": 4,
 "nbformat_minor": 4
}
