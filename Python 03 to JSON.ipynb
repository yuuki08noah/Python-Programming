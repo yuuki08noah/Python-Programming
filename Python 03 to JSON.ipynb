{
  "nbformat": 4,
  "nbformat_minor": 0,
  "metadata": {
    "colab": {
      "provenance": []
    },
    "kernelspec": {
      "name": "python3",
      "display_name": "Python 3"
    }
  },
  "cells": [
    {
      "cell_type": "markdown",
      "metadata": {
        "id": "mPM9oXXx6gek"
      },
      "source": [
        "# **JSON(JavaScript Object Notation)**\n",
        "+ 데이타를 교환하는 포맷으로 키-값의 쌍으로 이루어진 컬렉션\n",
        "+ 데이터 포맷이 단순하고 유연함\n",
        "+ 웹 상에서 데이터를 교환하는 데 많이 사용되고 있음\n",
        "\n",
        "## **Python  JSON 표준 라이브러리**\n",
        "\n",
        "\n",
        "```\n",
        "import json\n",
        "```\n",
        "\n",
        "### **JSON 인코딩**\n",
        "\n",
        "\n",
        "```\n",
        "json.dumps()\n",
        "```\n",
        "\n",
        "+ Python 타입의 데이터를 JSON 문자열로 변경\n",
        "+ 딕션너리, 리스트, 튜플을 JSON 문자열로 변경\n",
        "+ 반환값은 JSON 표현을 갖는 문자열(str 타입)\n",
        "+ \"indent\" 옵션\n",
        " - JSON 문자열을 읽기 편하게  Identation이 적용된 문자열 반환\n",
        "\n",
        "```\n",
        "json.dumps(파이썬자료, indent=4)\n",
        "```"
      ]
    },
    {
      "cell_type": "markdown",
      "source": [
        "###**JSON 디코딩**\n",
        "```\n",
        "json.loads()\n",
        "```\n",
        "- JSON 문자열을 딕션너리, 리스트, 튜플과 같은 Python 타입으로 변경"
      ],
      "metadata": {
        "id": "TbHwMnbkSBS2"
      }
    },
    {
      "cell_type": "code",
      "source": [],
      "metadata": {
        "id": "48DtXzErR_zZ"
      },
      "execution_count": null,
      "outputs": []
    },
    {
      "cell_type": "code",
      "metadata": {
        "id": "CPKcRchg6Q9e"
      },
      "source": [
        "#json모듈 임포트하기\n",
        "import json"
      ],
      "execution_count": 5,
      "outputs": []
    },
    {
      "cell_type": "code",
      "metadata": {
        "id": "CdVqFsKf8eVZ"
      },
      "source": [
        "jdata = {\n",
        "    \"request_id\": \"0\",\n",
        "    \"return_type\": \"omAnalysis\",\n",
        "    \"result\": 0,\n",
        "    \"reason\": \"\",\n",
        "    \"return_object\": {\n",
        "        \"query\": \"한국의 가을은 매우 아름답습니다.\",\n",
        "        \"type\": \"감성분석\",\n",
        "        \"score\": 0.9999995231628418,\n",
        "        \"label\": \"긍정\"\n",
        "    },\n",
        "    \"result_code\": \"success\"\n",
        "}\n",
        "\n"
      ],
      "execution_count": 17,
      "outputs": []
    },
    {
      "cell_type": "code",
      "metadata": {
        "id": "HScl8Ndk8iIv",
        "outputId": "fb015a00-2400-4d5a-f257-f6bb87f53712",
        "colab": {
          "base_uri": "https://localhost:8080/"
        }
      },
      "source": [
        "#json문자열로 변경하기\n",
        "jdata_str = json.dumps(jdata)\n",
        "print(type(jdata_str))"
      ],
      "execution_count": 18,
      "outputs": [
        {
          "output_type": "stream",
          "name": "stdout",
          "text": [
            "<class 'str'>\n"
          ]
        }
      ]
    },
    {
      "cell_type": "code",
      "metadata": {
        "id": "Sk9vsFgD8sE7",
        "outputId": "16b3429d-cf23-4f14-cdae-4635f8951931",
        "colab": {
          "base_uri": "https://localhost:8080/"
        }
      },
      "source": [
        " #json문자열로 변경하고 indent 등 속성추가\n",
        " json_data = json.dumps(jdata, indent='\\t')\n",
        " print(json_data)"
      ],
      "execution_count": 19,
      "outputs": [
        {
          "output_type": "stream",
          "name": "stdout",
          "text": [
            "{\n",
            "\t\"request_id\": \"0\",\n",
            "\t\"return_type\": \"omAnalysis\",\n",
            "\t\"result\": 0,\n",
            "\t\"reason\": \"\",\n",
            "\t\"return_object\": {\n",
            "\t\t\"query\": \"\\ud55c\\uad6d\\uc758 \\uac00\\uc744\\uc740 \\ub9e4\\uc6b0 \\uc544\\ub984\\ub2f5\\uc2b5\\ub2c8\\ub2e4.\",\n",
            "\t\t\"type\": \"\\uac10\\uc131\\ubd84\\uc11d\",\n",
            "\t\t\"score\": 0.9999995231628418,\n",
            "\t\t\"label\": \"\\uae0d\\uc815\"\n",
            "\t},\n",
            "\t\"result_code\": \"success\"\n",
            "}\n"
          ]
        }
      ]
    },
    {
      "cell_type": "markdown",
      "metadata": {
        "id": "dV9VNxED9pW3"
      },
      "source": [
        "### **JSON 디코딩**\n",
        "\n",
        "\n",
        "```\n",
        "json.loads()\n",
        "```\n",
        "\n",
        "+ JSON 문자열을 딕션너리, 리스트, 튜플과 같은 Python 타입으로 변경\n"
      ]
    },
    {
      "cell_type": "code",
      "metadata": {
        "id": "waPRX4TS94Tl"
      },
      "source": [
        " #JSON 문자열을 딕션너리, 리스트, 튜플과 같은 Python 타입으로 변경\n"
      ],
      "execution_count": null,
      "outputs": []
    },
    {
      "cell_type": "markdown",
      "metadata": {
        "id": "-kDISHDT_nHW"
      },
      "source": [
        "\n",
        "\n",
        "---\n",
        "##[실습] data.json 파일을 읽어서 감성분석 문장과 결과 출력하시오.\n",
        "\n",
        "\n",
        "---\n",
        "\n",
        "\n"
      ]
    },
    {
      "cell_type": "code",
      "source": [
        "import json\n",
        "dt = json.loads(jdata_str)\n",
        "rt = dt['return_object']\n",
        "x = rt['score']*100\n",
        "res = f\"{rt['query']} : {rt['type']} - {rt['label']} : {x:.2f}%\"\n",
        "print(res)\n"
      ],
      "metadata": {
        "id": "JDnOAdmCUReO",
        "outputId": "d21fdada-62f7-44b9-fdb6-66a4fc0984e9",
        "colab": {
          "base_uri": "https://localhost:8080/"
        }
      },
      "execution_count": 37,
      "outputs": [
        {
          "output_type": "stream",
          "name": "stdout",
          "text": [
            "한국의 가을은 매우 아름답습니다. : 감성분석 - 긍정 : 100.00%\n"
          ]
        }
      ]
    },
    {
      "cell_type": "markdown",
      "source": [
        "[해결] json데이터를 가지고, 리스트 컴프리헨션을 사용하여 is_active가 true인 사용자만 필터링하여 출력하는 코드를 작성하시오."
      ],
      "metadata": {
        "id": "8yXH5Rnk5rHa"
      }
    },
    {
      "cell_type": "code",
      "source": [
        "import json\n",
        "\n",
        "fake_json_data = \"\"\"\n",
        "[\n",
        "    {\n",
        "        \"id\": 1,\n",
        "        \"name\": \"홍길동\",\n",
        "        \"email\": \"hong@example.com\",\n",
        "        \"is_active\": true\n",
        "    },\n",
        "    {\n",
        "        \"id\": 2,\n",
        "        \"name\": \"김영희\",\n",
        "        \"email\": \"kim@example.com\",\n",
        "        \"is_active\": false\n",
        "    },\n",
        "    {\n",
        "        \"id\": 3,\n",
        "        \"name\": \"이철수\",\n",
        "        \"email\": \"lee@example.com\",\n",
        "        \"is_active\": true\n",
        "    }\n",
        "]\n",
        "\"\"\"\n"
      ],
      "metadata": {
        "id": "UatJVlcA55t3"
      },
      "execution_count": 33,
      "outputs": []
    },
    {
      "cell_type": "code",
      "source": [
        "#정답\n",
        "import json\n",
        "\n",
        "json_data = json.loads(fake_json_data)\n",
        "for item in json_data:\n",
        "  if item.get('is_active'):\n",
        "    print(item)\n"
      ],
      "metadata": {
        "id": "ahKnNkbv6AuW",
        "outputId": "8930ff7b-b1a8-4648-ba70-51eb40cee3f0",
        "colab": {
          "base_uri": "https://localhost:8080/"
        }
      },
      "execution_count": 35,
      "outputs": [
        {
          "output_type": "stream",
          "name": "stdout",
          "text": [
            "{'id': 1, 'name': '홍길동', 'email': 'hong@example.com', 'is_active': True}\n",
            "{'id': 3, 'name': '이철수', 'email': 'lee@example.com', 'is_active': True}\n"
          ]
        }
      ]
    },
    {
      "cell_type": "markdown",
      "source": [],
      "metadata": {
        "id": "jbBLAzTqUSmf"
      }
    }
  ]
}