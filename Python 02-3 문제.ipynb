{
  "nbformat": 4,
  "nbformat_minor": 0,
  "metadata": {
    "colab": {
      "provenance": []
    },
    "kernelspec": {
      "name": "python3",
      "display_name": "Python 3"
    }
  },
  "cells": [
    {
      "cell_type": "markdown",
      "source": [
        "\n",
        "# 모듈(Module)\n",
        "- 함수나 변수 또는 클래스들을 모아 놓은 파일  \n",
        "- 다른 파이썬 프로그램에서 불러와 사용할 수 있게끔 만들어진 파이썬 파일  \n",
        "1. 모듈 불러오기  \n",
        "- import 모듈 이름  \n",
        "- 모듈 이름은 .py 확장자를 제거한 파일 이름  \n",
        "2. import 모듈 이름 as 별명  \n",
        "- 모듈 이름을 별명으로 사용  \n",
        "3. from 모듈 이름 import 모듈 함수  \n",
        "- 모듈 이름을 붙이지 않고 바로 해당 모듈의 함수  \n",
        "예제) 모듈 불러오기\n"
      ],
      "metadata": {
        "id": "bW6B3Cp5hg8j"
      }
    },
    {
      "cell_type": "markdown",
      "source": [
        "## __name__내장변수  \n",
        "```\n",
        "if __name__ == '__main__':  \n",
        "스크립트 파일이 메인 프로그램으로 사용될 때와 모듈로 사용될 때를 구분하기 위한 용도로 __name__을 사용함.  \n",
        "   1) 파일이름.py로 직접 실행된 경우  : __name__ 에 ‘__main__'이 저장됨  \n",
        "   2) import된 모듈로  실행된 경우    : __name__ 에 ’모듈이름(파일이름)‘이 저장됨  \n",
        "예) # hello.py  \n",
        "print('hello 모듈 시작')  \n",
        "print('hello.py __name__:', __name__)    # __name__ 변수 출력  \n",
        "print('hello 모듈 끝')  \n",
        "# main.py  \n",
        "import hello    # hello 모듈을 가져옴  \n",
        "print('main.py __name__:', __name__)    # __name__ 변수 출력  \n",
        "\n",
        "```\n",
        "\n"
      ],
      "metadata": {
        "id": "3GGSKxrnTQkJ"
      }
    },
    {
      "cell_type": "markdown",
      "metadata": {
        "id": "zB5oLSiD0VHt"
      },
      "source": [
        "#파일(File)\n",
        "\n",
        "\n",
        "### **파일 생성**\n",
        "+ 파일 객체 = open(파일 이름, 파일 열기 모드, encoding='UTF-8’)\n",
        " - 파일명이 한글일 경우는 encoding='UTF-8＇을 사용\n",
        "\n",
        "### **파일출력함수 : write()**\n",
        "### **파일입력함수(읽기)**\n",
        "+ readline(): 파일의 첫 번째 줄을 읽어 출력하는 경우\n",
        "+ readlines(): 파일의 모든 라인을 읽어서 각각의 줄을 요소로 갖는 리스트로 리턴\n",
        "+ read(): 파일의 내용 전체를 문자열로 리턴\n",
        "\n",
        "### **파일 닫기**\n",
        "+ 파일 객체.close()\n",
        "\n",
        "\n"
      ]
    },
    {
      "cell_type": "code",
      "metadata": {
        "id": "JNQdbiam15Hd",
        "colab": {
          "base_uri": "https://localhost:8080/"
        },
        "outputId": "32795a8c-1bb4-410a-8e6e-0952501aa205"
      },
      "source": [
        "#구글 드라이브 마운트\n",
        "from google.colab import drive\n",
        "drive.mount('/content/gdrive/')"
      ],
      "execution_count": 1,
      "outputs": [
        {
          "output_type": "stream",
          "name": "stdout",
          "text": [
            "Drive already mounted at /content/gdrive/; to attempt to forcibly remount, call drive.mount(\"/content/gdrive/\", force_remount=True).\n"
          ]
        }
      ]
    },
    {
      "cell_type": "markdown",
      "source": [
        "##1. 파일 출력 실습  \n",
        "파일출력함수 : write()  \n",
        "파일 열기모드 w(쓰기), a(추가)  \n",
        "\n"
      ],
      "metadata": {
        "id": "sLg4qkKZERvp"
      }
    },
    {
      "cell_type": "markdown",
      "source": [
        "##[실습]구글드라이브에 text.txt 파일을 만들고 파일의 내용을 작성해 보자."
      ],
      "metadata": {
        "id": "wZ6f92xpF_PK"
      }
    },
    {
      "cell_type": "code",
      "source": [
        "f = open('test.txt', 'w')\n",
        "inData = input('기록할 내용 : ')\n",
        "f.write(inData + '\\n')\n",
        "inData = input('기록할 내용 : ')\n",
        "f.write(inData + '\\n')\n",
        "f.close()"
      ],
      "metadata": {
        "id": "sIIViuyCEmaq",
        "outputId": "c6fb0777-2e15-40cd-a653-52dce929acdf",
        "colab": {
          "base_uri": "https://localhost:8080/"
        }
      },
      "execution_count": 2,
      "outputs": [
        {
          "name": "stdout",
          "output_type": "stream",
          "text": [
            "기록할 내용 : hello\n",
            "기록할 내용 : hello\n"
          ]
        }
      ]
    },
    {
      "cell_type": "markdown",
      "source": [
        "![image.png](data:image/png;base64,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)"
      ],
      "metadata": {
        "id": "XHOM6yrqFrWc"
      }
    },
    {
      "cell_type": "markdown",
      "source": [
        "##[실습]구글드라이브에 작성한 text.txt 파일을 열고 파일의 내용을 추가해 보자."
      ],
      "metadata": {
        "id": "YGA0M4bcGPCy"
      }
    },
    {
      "cell_type": "code",
      "source": [
        "f = open('test.txt', 'a')\n",
        "data = input()\n",
        "f.write(data + '\\n')\n",
        "f.close()"
      ],
      "metadata": {
        "id": "o9NJ8BlxGYQH",
        "outputId": "a76bb4d9-3565-4391-fbff-8713383b63c8",
        "colab": {
          "base_uri": "https://localhost:8080/"
        }
      },
      "execution_count": 3,
      "outputs": [
        {
          "name": "stdout",
          "output_type": "stream",
          "text": [
            "hello\n"
          ]
        }
      ]
    },
    {
      "cell_type": "markdown",
      "source": [],
      "metadata": {
        "id": "2BDxjHtyF8Mj"
      }
    },
    {
      "cell_type": "markdown",
      "source": [
        "##2) 파일입력  \n",
        "### **파일입력함수(읽기)**\n",
        "+ readline(): 파일의 첫 번째 줄을 읽어 출력하는 경우\n",
        "+ readlines(): 파일의 모든 라인을 읽어서 각각의 줄을 요소로 갖는 리스트로 리턴\n",
        "+ read(): 파일의 내용 전체를 문자열로 리턴\n",
        "\n"
      ],
      "metadata": {
        "id": "tRGBsbB1Gy1v"
      }
    },
    {
      "cell_type": "code",
      "source": [
        "f = open('test.txt', 'r')\n",
        "print(data)\n",
        "while 1:\n",
        "  data = f.readline()\n",
        "  if not data:\n",
        "    break\n",
        "  print(data)"
      ],
      "metadata": {
        "id": "ChNM-qf7G8Ja",
        "outputId": "af1da101-1c20-4194-ef5c-d33b29cf5f3b",
        "colab": {
          "base_uri": "https://localhost:8080/"
        }
      },
      "execution_count": 4,
      "outputs": [
        {
          "output_type": "stream",
          "name": "stdout",
          "text": [
            "hello\n",
            "hello\n",
            "\n",
            "hello\n",
            "\n",
            "hello\n",
            "\n"
          ]
        }
      ]
    },
    {
      "cell_type": "code",
      "source": [
        "#readlines() : 파일 내용을 리스트로 반환\n",
        "f = open('test.txt', 'r')\n",
        "print(*f.readlines(), sep='')"
      ],
      "metadata": {
        "id": "tdfghatTNgHB",
        "outputId": "43e35381-97a9-4283-ab43-b58ebe40a1a2",
        "colab": {
          "base_uri": "https://localhost:8080/"
        }
      },
      "execution_count": 5,
      "outputs": [
        {
          "output_type": "stream",
          "name": "stdout",
          "text": [
            "hello\n",
            "hello\n",
            "hello\n",
            "\n"
          ]
        }
      ]
    },
    {
      "cell_type": "code",
      "source": [
        "#read() : 파일내용 전체를 문자열로 반환\n",
        "f = open('test.txt', 'r')\n",
        "print(f.read())\n",
        "print(type(f.read()))"
      ],
      "metadata": {
        "id": "lAOem4EwN8x1",
        "outputId": "df969d22-9864-407e-c14b-14e14cb27ebe",
        "colab": {
          "base_uri": "https://localhost:8080/"
        }
      },
      "execution_count": 6,
      "outputs": [
        {
          "output_type": "stream",
          "name": "stdout",
          "text": [
            "hello\n",
            "hello\n",
            "hello\n",
            "\n",
            "<class 'str'>\n"
          ]
        }
      ]
    },
    {
      "cell_type": "code",
      "metadata": {
        "id": "IM6-HWJ72mss"
      },
      "source": [],
      "execution_count": 6,
      "outputs": []
    },
    {
      "cell_type": "code",
      "metadata": {
        "id": "LSAWTWRW2xwa",
        "outputId": "f009880d-83d7-4289-979c-4274b09b23d1",
        "colab": {
          "base_uri": "https://localhost:8080/"
        }
      },
      "source": [
        "#지역평균기온 읽어오기\n",
        "f = open('지역평균기온.txt', 'w')\n",
        "data = '서울, 20\\n부산, 26\\n대구, 24\\n인천, 24\\n광주, 25\\n'\n",
        "f.write(data)\n",
        "f.close()\n",
        "f = open('지역평균기온.txt', 'r')\n",
        "print(*f.readlines())"
      ],
      "execution_count": 7,
      "outputs": [
        {
          "output_type": "stream",
          "name": "stdout",
          "text": [
            "서울, 20\n",
            " 부산, 26\n",
            " 대구, 24\n",
            " 인천, 24\n",
            " 광주, 25\n",
            "\n"
          ]
        }
      ]
    },
    {
      "cell_type": "code",
      "source": [
        "#지역평균기온 딕셔너리에 저장하기\n",
        "dt = {}\n",
        "f = open('지역평균기온.txt', 'r')\n",
        "data = f.readlines()\n",
        "for line in data:\n",
        "  line = line.replace('\\n', '')\n",
        "  line = line.replace(' ', '')\n",
        "  items = line.split(',')\n",
        "\n",
        "  dt[items[0]] = int(items[1])\n",
        "print(dt)\n",
        "print(f'평균기온 : {sum(dt.values())/len(dt.values()):.2f} 도')"
      ],
      "metadata": {
        "id": "cCRSFKiVKwgT",
        "outputId": "4a11bb5a-65a5-474e-e8d6-1dbf57cfc307",
        "colab": {
          "base_uri": "https://localhost:8080/"
        }
      },
      "execution_count": 8,
      "outputs": [
        {
          "output_type": "stream",
          "name": "stdout",
          "text": [
            "{'서울': 20, '부산': 26, '대구': 24, '인천': 24, '광주': 25}\n",
            "평균기온 : 23.80 도\n"
          ]
        }
      ]
    },
    {
      "cell_type": "markdown",
      "metadata": {
        "id": "ykEQwui74KAQ"
      },
      "source": [
        "\n",
        "### **파일을 open한 후 with…as 구문이 끝나면 자동으로 close**\n",
        "```\n",
        "with open(파일 경로, 모드) as 파일 객체:\n",
        "```"
      ]
    },
    {
      "cell_type": "code",
      "metadata": {
        "id": "X0YIUXkB3iq_",
        "outputId": "27d0948d-78ec-4828-db67-063a10cca4e1",
        "colab": {
          "base_uri": "https://localhost:8080/"
        }
      },
      "source": [
        "\n",
        "with open('지역평균기온.txt', 'r') as f:\n",
        "  data = f.readlines()\n",
        "print(data)"
      ],
      "execution_count": 9,
      "outputs": [
        {
          "output_type": "stream",
          "name": "stdout",
          "text": [
            "['서울, 20\\n', '부산, 26\\n', '대구, 24\\n', '인천, 24\\n', '광주, 25\\n']\n"
          ]
        }
      ]
    },
    {
      "cell_type": "markdown",
      "source": [
        "(실습문제1) 지역평균기온.txt 파일을 읽어서 딕션너리를 만들고, 아래와 같이 그래프를 표시하시오.\n"
      ],
      "metadata": {
        "id": "jFaEdUdxSwqO"
      }
    },
    {
      "cell_type": "code",
      "source": [
        "import matplotlib.pyplot as p\n",
        "\n",
        "dct = {}\n",
        "with open('지역평균기온.txt', 'r', encoding='UTF-8') as f:\n",
        "  data = f.readlines()\n",
        "for item in data:\n",
        "  key, value = item.split(',')\n",
        "  dct[key] = int(value)\n",
        "print(dct)\n",
        "\n",
        "area = list(dct.keys())\n",
        "temp = list(dct.values())\n",
        "\n",
        "p.rc('font', family='NanumBarunGothic')\n",
        "p.figure(figsize = (10, 5))\n",
        "p.plot(area, temp, color='skyblue')\n",
        "p.xticks(rotation = 0)\n",
        "p.show()\n"
      ],
      "metadata": {
        "id": "oZ9AZ-EoS2-N",
        "outputId": "56d0db28-5edc-4bda-dc1c-9c04d2923722",
        "colab": {
          "base_uri": "https://localhost:8080/",
          "height": 363
        }
      },
      "execution_count": 4,
      "outputs": [
        {
          "output_type": "stream",
          "name": "stdout",
          "text": [
            "{'서울': 20, '부산': 26, '대구': 24, '인천': 24, '광주': 25}\n"
          ]
        },
        {
          "output_type": "display_data",
          "data": {
            "text/plain": [
              "<Figure size 1000x500 with 1 Axes>"
            ],
            "image/png": "[encoded data removed]"
          },
          "metadata": {}
        }
      ]
    },
    {
      "cell_type": "code",
      "source": [
        "# # 나눔 글꼴 설치\n",
        "\n",
        "# !sudo apt-get install -y fonts-nanum\n",
        "# !sudo fc-cache -fv\n",
        "# !rm ~/.cache/matplotlib -rf"
      ],
      "metadata": {
        "id": "_osnpCW9P9bT",
        "colab": {
          "base_uri": "https://localhost:8080/"
        },
        "outputId": "34e05f84-f6ef-4995-9b26-fd20ea09035d"
      },
      "execution_count": 11,
      "outputs": [
        {
          "output_type": "stream",
          "name": "stdout",
          "text": [
            "Reading package lists... Done\n",
            "Building dependency tree... Done\n",
            "Reading state information... Done\n",
            "fonts-nanum is already the newest version (20200506-1).\n",
            "0 upgraded, 0 newly installed, 0 to remove and 49 not upgraded.\n",
            "/usr/share/fonts: caching, new cache contents: 0 fonts, 1 dirs\n",
            "/usr/share/fonts/truetype: caching, new cache contents: 0 fonts, 3 dirs\n",
            "/usr/share/fonts/truetype/humor-sans: caching, new cache contents: 1 fonts, 0 dirs\n",
            "/usr/share/fonts/truetype/liberation: caching, new cache contents: 16 fonts, 0 dirs\n",
            "/usr/share/fonts/truetype/nanum: caching, new cache contents: 12 fonts, 0 dirs\n",
            "/usr/local/share/fonts: caching, new cache contents: 0 fonts, 0 dirs\n",
            "/root/.local/share/fonts: skipping, no such directory\n",
            "/root/.fonts: skipping, no such directory\n",
            "/usr/share/fonts/truetype: skipping, looped directory detected\n",
            "/usr/share/fonts/truetype/humor-sans: skipping, looped directory detected\n",
            "/usr/share/fonts/truetype/liberation: skipping, looped directory detected\n",
            "/usr/share/fonts/truetype/nanum: skipping, looped directory detected\n",
            "/var/cache/fontconfig: cleaning cache directory\n",
            "/root/.cache/fontconfig: not cleaning non-existent cache directory\n",
            "/root/.fontconfig: not cleaning non-existent cache directory\n",
            "fc-cache: succeeded\n"
          ]
        }
      ]
    },
    {
      "cell_type": "code",
      "source": [
        "#matplotlib import\n",
        "\n",
        "import matplotlib"
      ],
      "metadata": {
        "id": "m4--9mRIQdgC"
      },
      "execution_count": 12,
      "outputs": []
    },
    {
      "cell_type": "code",
      "source": [
        "#1.런타임 -세션 다시 시작 ,모두 재실행\n"
      ],
      "metadata": {
        "id": "tTfkvedgR6G2"
      },
      "execution_count": 13,
      "outputs": []
    },
    {
      "cell_type": "markdown",
      "source": [],
      "metadata": {
        "id": "2mez8OkH3YQ6"
      }
    },
    {
      "cell_type": "markdown",
      "source": [
        "##[해결]1. 구글드라이브를 마운트하여 test2.txt를 쓰기용도로 생성한 후 아래와 같은 내용을 파일에 추가하시오.\n",
        "\n",
        "```\n",
        "1번째 내용입니다.\n",
        "2번째 내용입니다.\n",
        "3번째 내용입니다.\n",
        "4번째 내용입니다.\n",
        "5번째 내용입니다.\n",
        "```"
      ],
      "metadata": {
        "id": "_A4wpNs1Hw7H"
      }
    },
    {
      "cell_type": "markdown",
      "source": [],
      "metadata": {
        "id": "ZOXFqKYK69_5"
      }
    },
    {
      "cell_type": "markdown",
      "source": [],
      "metadata": {
        "id": "WvhnNOd96-NV"
      }
    },
    {
      "cell_type": "code",
      "source": [
        "with open('test2.txt', 'w') as f:\n",
        "  f.write(\"1번째 내용입니다.\\n2번째 내용입니다.\\n3번째 내용입니다.\\n4번째 내용입니다.\\n5번째 내용입니다.\")"
      ],
      "metadata": {
        "id": "m0i5bm0g64p1"
      },
      "execution_count": 3,
      "outputs": []
    },
    {
      "cell_type": "markdown",
      "source": [
        "##[해결]2. test2.txt 파일을 읽기용으로 open하여 화면으로 출력하시오.\n",
        "```\n",
        "[출력]\n",
        "1번째 내용입니다.\n",
        "2번째 내용입니다.\n",
        "3번째 내용입니다.\n",
        "4번째 내용입니다.\n",
        "5번째 내용입니다.\n",
        "```\n"
      ],
      "metadata": {
        "id": "ttrnISt0RSxX"
      }
    },
    {
      "cell_type": "code",
      "source": [
        "#코드를 작성\n",
        "with open('test2.txt') as f:\n",
        "  print(f.read())"
      ],
      "metadata": {
        "id": "r6MtyCeHRl-4",
        "outputId": "8d966438-121a-4e96-f507-40de3bfd8f2a",
        "colab": {
          "base_uri": "https://localhost:8080/"
        }
      },
      "execution_count": 5,
      "outputs": [
        {
          "output_type": "stream",
          "name": "stdout",
          "text": [
            "1번째 내용입니다.\n",
            "2번째 내용입니다.\n",
            "3번째 내용입니다.\n",
            "4번째 내용입니다.\n",
            "5번째 내용입니다.\n"
          ]
        }
      ]
    },
    {
      "cell_type": "markdown",
      "source": [
        "###[해결]3. 구글드라이브를 마운트 하여 아래와 같은 데이터가 들어있는 score.txt 성적파일을 생성하시오.\n",
        "```\n",
        "국어,80\n",
        "영어,96\n",
        "수학,94\n",
        "과학,84\n",
        "음악,95\n",
        "체육,100\n",
        "정보,90\n",
        "```\n"
      ],
      "metadata": {
        "id": "sU6XDxISRokI"
      }
    },
    {
      "cell_type": "code",
      "source": [
        "#코드 작성\n",
        "with open('score.txt', 'w') as f:\n",
        "  f.write(\"국어,80\\n영어,96\\n수학,94\\n과학,84\\n음악,95\\n체육,100\\n정보,90\")"
      ],
      "metadata": {
        "id": "33Uex7mJSWjL"
      },
      "execution_count": 6,
      "outputs": []
    },
    {
      "cell_type": "markdown",
      "source": [
        "###[해결]4. score.txt파일을 읽어들여 딕셔너리로 저장하고, 합계와 평균 점수를 출력하시오."
      ],
      "metadata": {
        "id": "aB2ef_pASZFo"
      }
    },
    {
      "cell_type": "code",
      "source": [
        "with open('score.txt', 'r') as f:\n",
        "  data = f.readlines()\n",
        "dct = {}\n",
        "for item in data:\n",
        "  key, value = item.split(',')\n",
        "  dct[key] = int(value)\n",
        "print(dct)\n",
        "print(sum(dct.values()), f\"{sum(dct.values())/len(dct.values()):.2f}\")"
      ],
      "metadata": {
        "id": "oAHQUz1G7r1a",
        "outputId": "382e23d3-22d3-4c8a-aeff-ca099034111b",
        "colab": {
          "base_uri": "https://localhost:8080/"
        }
      },
      "execution_count": 8,
      "outputs": [
        {
          "output_type": "stream",
          "name": "stdout",
          "text": [
            "{'국어': 80, '영어': 96, '수학': 94, '과학': 84, '음악': 95, '체육': 100, '정보': 90}\n",
            "639 91.29\n"
          ]
        }
      ]
    },
    {
      "cell_type": "code",
      "source": [],
      "metadata": {
        "id": "8a7aoQvN78vf"
      },
      "execution_count": null,
      "outputs": []
    }
  ]
}