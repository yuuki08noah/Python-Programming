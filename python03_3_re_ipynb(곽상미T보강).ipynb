{
  "nbformat": 4,
  "nbformat_minor": 0,
  "metadata": {
    "colab": {
      "provenance": [],
      "include_colab_link": true
    },
    "kernelspec": {
      "name": "python3",
      "display_name": "Python 3"
    }
  },
  "cells": [
    {
      "cell_type": "markdown",
      "metadata": {
        "id": "view-in-github",
        "colab_type": "text"
      },
      "source": [
        "<a href=\"https://colab.research.google.com/github/yuuki08noah/Python-Programming/blob/master/python03_3_re_ipynb(%EA%B3%BD%EC%83%81%EB%AF%B8T%EB%B3%B4%EA%B0%95).ipynb\" target=\"_parent\"><img src=\"https://colab.research.google.com/assets/colab-badge.svg\" alt=\"Open In Colab\"/></a>"
      ]
    },
    {
      "cell_type": "markdown",
      "metadata": {
        "id": "0Ruzj064hm-H"
      },
      "source": [
        "# **re모듈**\n",
        "### **정규표현식(regular expression)**\n",
        "+ 특정한 규칙을 가진 문자열의 패턴을 표현하는 데 사용하는 표현식(Expression)\n",
        "+ 복잡한 문자열을 처리할 때 사용\n",
        "+ 텍스트에서 특정 문자열을 검색하거나 치환할 때 사용\n",
        "+ 파이썬 뿐만 아니라 문자열을 처리하는 모든 곳에서 사용\n",
        "\n",
        "### **정규 표현식을 지원하기 위해 re모듈**\n",
        "+ **re모듈**은 파이썬을 설치할 때 자동으로 설치되는 기본 라이브러리\n",
        "+ 패턴과 매치하는 텍스트를 찾고 조작하는 기능을 제공\n",
        "\n",
        "### **re모듈 사용방법**\n",
        "#### 컴파일 하는 방법\n",
        "+ 검색할 패턴을 컴파일 하여 사용\n",
        "+ 같은 문자를 여러 번 검색하는 경우에 사용하는 방법\n",
        "+ 매번 검색 패턴을 지정하지 않아도 되기 때문에 검색 속도가 빠름\n",
        "\n",
        "\n",
        "```\n",
        "pt = re.compile('10')\n",
        "print(pt.search(data))\n",
        "```\n",
        "\n",
        "\n",
        "\n",
        "#### 컴파일 하지 않는 방법\n",
        "+ 검색할 때마다 패턴을 설정하는 방법\n",
        "+ 검색할 패턴이 매번 다른 경우에 사용\n",
        "\n",
        "\n",
        "\n",
        "```\n",
        "print(re.search('10',data))\n",
        "```\n",
        "\n"
      ]
    },
    {
      "cell_type": "code",
      "metadata": {
        "id": "tb22bce1hdSm"
      },
      "source": [
        "# re 모듈 추가\n",
        "import re\n",
        "data = '의뢰인 별점 - 총 10점 중10 다시봐도 명연기. 모든 배우들의 연기가 쫄깃 신고\tmorn**** 20.05.23'"
      ],
      "execution_count": null,
      "outputs": []
    },
    {
      "cell_type": "markdown",
      "metadata": {
        "id": "zwZGNzgAl9LM"
      },
      "source": [
        "## **정규표현식 검색**\n",
        "#### **match(pattern, string)**\n",
        "+ 문자열의 시작부분부터 매칭이 되는지 검색.\n",
        "+ matchObject 인스턴트로 반환\n"
      ]
    },
    {
      "cell_type": "code",
      "metadata": {
        "id": "rxtS-cywnnGj",
        "colab": {
          "base_uri": "https://localhost:8080/"
        },
        "outputId": "dc493ea1-3a98-49c3-e762-30a4305e44c8"
      },
      "source": [
        "print(re.match('10', data))"
      ],
      "execution_count": null,
      "outputs": [
        {
          "output_type": "stream",
          "name": "stdout",
          "text": [
            "None\n"
          ]
        }
      ]
    },
    {
      "cell_type": "markdown",
      "metadata": {
        "id": "8iBHIVk-oCwi"
      },
      "source": [
        "#### **search(pattern, string)**\n",
        "+ 문자열에 패턴과 매칭되는 곳이 있는지 검색.\n",
        "+ **match() 함수와 차이점은 검색 대상 문자열의 시작 부분이 매칭되지 않아도 검색**\n",
        "+ 여러 개 매칭 시 처음에 검색된 부분을 반환\n",
        "+ matchObject 인스턴트로 반환\n"
      ]
    },
    {
      "cell_type": "code",
      "metadata": {
        "id": "ghgcqbl-oNoH",
        "colab": {
          "base_uri": "https://localhost:8080/"
        },
        "outputId": "6373d163-dba6-4713-90bc-346af4b2da6d"
      },
      "source": [
        "print(re.search('10', data))"
      ],
      "execution_count": null,
      "outputs": [
        {
          "output_type": "stream",
          "name": "stdout",
          "text": [
            "<re.Match object; span=(11, 13), match='10'>\n"
          ]
        }
      ]
    },
    {
      "cell_type": "markdown",
      "metadata": {
        "id": "bEbgs1VOoWDl"
      },
      "source": [
        "#### **findall(pattern, string)**\n",
        "+ 정규식과 매치되는 모든 문자열을 리스트로 반환."
      ]
    },
    {
      "cell_type": "code",
      "metadata": {
        "id": "vh8LC8-Voivp",
        "colab": {
          "base_uri": "https://localhost:8080/",
          "height": 35
        },
        "outputId": "870d612a-0c32-4db6-e67b-1c0f1fbd273f"
      },
      "source": [
        "print(re.findall('10', data))"
      ],
      "execution_count": null,
      "outputs": [
        {
          "output_type": "stream",
          "text": [
            "['10', '10']\n"
          ],
          "name": "stdout"
        }
      ]
    },
    {
      "cell_type": "markdown",
      "metadata": {
        "id": "c6NBxI8sorEb"
      },
      "source": [
        "#### **finditer(pattern, string)**\n",
        "+ 정규식과 매치되는 모든 문자열을 iterator 객체로 반환.\n",
        "+ 반환 값을 for문을 사용하여 모두 추출\n"
      ]
    },
    {
      "cell_type": "code",
      "metadata": {
        "id": "tGWz-YnVoxV_",
        "colab": {
          "base_uri": "https://localhost:8080/",
          "height": 35
        },
        "outputId": "1914ee79-d28c-474a-b013-c429a35bb14c"
      },
      "source": [
        "print(re.finditer('10', data))"
      ],
      "execution_count": null,
      "outputs": [
        {
          "output_type": "stream",
          "text": [
            "<callable_iterator object at 0x7f3faa906710>\n"
          ],
          "name": "stdout"
        }
      ]
    },
    {
      "cell_type": "code",
      "metadata": {
        "id": "97w74pAio3JO",
        "colab": {
          "base_uri": "https://localhost:8080/",
          "height": 53
        },
        "outputId": "345e4167-4a28-4f4e-ef46-8582771da6fc"
      },
      "source": [
        "data2 = re.finditer('10', data)\n",
        "for item in data2:\n",
        "    print(item)"
      ],
      "execution_count": null,
      "outputs": [
        {
          "output_type": "stream",
          "text": [
            "<_sre.SRE_Match object; span=(11, 13), match='10'>\n",
            "<_sre.SRE_Match object; span=(16, 18), match='10'>\n"
          ],
          "name": "stdout"
        }
      ]
    },
    {
      "cell_type": "markdown",
      "metadata": {
        "id": "raUY4ir7pIt4"
      },
      "source": [
        "## **정규표현식 정보 추출**\n",
        "#### **group()**\n",
        "+ 매칭된 문자열\n",
        "\n",
        "#### **start()**\n",
        "+ 매칭된 문자열 시작 위치\n",
        "\n",
        "#### **end()**\n",
        "+ 매칭된 문자열 종료 위치\n",
        "\n",
        "#### **span()**\n",
        "+ 매칭된 문자열 시작과 종료위치를 튜플로 반환"
      ]
    },
    {
      "cell_type": "code",
      "metadata": {
        "id": "WJH8SrXGpfap",
        "colab": {
          "base_uri": "https://localhost:8080/",
          "height": 107
        },
        "outputId": "c1b4310b-71bf-40e1-8b65-02bb4dc4ca86"
      },
      "source": [
        "data10 = re.search('10', data)\n",
        "print(data10)\n",
        "print(data10.group())\n",
        "print(data10.start())\n",
        "print(data10.end())\n",
        "print(data10.span())"
      ],
      "execution_count": null,
      "outputs": [
        {
          "output_type": "stream",
          "text": [
            "<_sre.SRE_Match object; span=(11, 13), match='10'>\n",
            "10\n",
            "11\n",
            "13\n",
            "(11, 13)\n"
          ],
          "name": "stdout"
        }
      ]
    },
    {
      "cell_type": "code",
      "metadata": {
        "id": "U4nRYYZGqLXk",
        "colab": {
          "base_uri": "https://localhost:8080/",
          "height": 89
        },
        "outputId": "d2d7d75d-f579-4f16-ecc1-5f28f19c7bfa"
      },
      "source": [
        "data10s = re.finditer('10', data)\n",
        "for item in data10s:\n",
        "    print(item.group())\n",
        "    print(item.span())"
      ],
      "execution_count": null,
      "outputs": [
        {
          "output_type": "stream",
          "text": [
            "10\n",
            "(11, 13)\n",
            "10\n",
            "(16, 18)\n"
          ],
          "name": "stdout"
        }
      ]
    },
    {
      "cell_type": "markdown",
      "metadata": {
        "id": "tstN5rIQqfEX"
      },
      "source": [
        "### **정규표현식 메타 문자**\n",
        "+ 원래 그 문자가 가진 뜻이 아닌 특별한 용도로 사용하는 문자\n",
        " - . ^ $ * + ? { } [ ] \\ | ( )\n",
        "+ 정규 표현식에 메타 문자를 사용하면 특별한 의미를 갖게 됨\n",
        "\n",
        "\n",
        "\n",
        "#### **Raw 문자열 표기법**\n",
        "+ 검색 패턴에 raw문자인 r을 문자열 앞에 더한 것\n",
        " - 문자열 안에 있는 백슬러시 문자를 특수한 의미를 가진(에스케이프) 문자가 아닌 백슬러시 문자 그대로 인식\n",
        "\n"
      ]
    },
    {
      "cell_type": "markdown",
      "metadata": {
        "id": "LRf7mc8BrR11"
      },
      "source": [
        "#### **메타문자 : []**\n",
        "+ 문자 클래스(character class)\n",
        "+ \\[ ] 사이의 문자들과 매치\n",
        " - 예) [abc] : a, b, c 중 한 개의 문자와 매치\n",
        "+ \\[ ] 안의 두 문자 사이에 하이픈(-)을 사용\n",
        " - 두 문자 사이의 범위(From - To)를 의미\n",
        " - 예) [a-zA-Z] : 알파벳 모두, [0-9] : 숫자"
      ]
    },
    {
      "cell_type": "code",
      "metadata": {
        "id": "F5wak4KOrskc"
      },
      "source": [
        "data = '의뢰인 별점 - 총 10점 중10 다시봐도 명연기. 모든 배우들의 연기가 쫄깃 신고\tmorn**** 20.05.23'"
      ],
      "execution_count": null,
      "outputs": []
    },
    {
      "cell_type": "code",
      "metadata": {
        "id": "PehpNZxCr6c8",
        "colab": {
          "base_uri": "https://localhost:8080/",
          "height": 35
        },
        "outputId": "7c609e9f-0620-4eb3-d416-9842baa222da"
      },
      "source": [
        "pattern = '[a-z]'\n",
        "alphabet = re.search(pattern, data)\n",
        "print(alphabet)"
      ],
      "execution_count": null,
      "outputs": [
        {
          "output_type": "stream",
          "text": [
            "<_sre.SRE_Match object; span=(47, 48), match='m'>\n"
          ],
          "name": "stdout"
        }
      ]
    },
    {
      "cell_type": "markdown",
      "metadata": {
        "id": "z3EKDvmOkv9N"
      },
      "source": [
        "+ 자주 사용하는 문자 클래스\n",
        " - \\d : 숫자와 매치, [0-9]와 동일한 표현식\n",
        " - \\D : 숫자가 아닌 것과 매치, [^0-9]와 동일한 표현식\n",
        " - \\s : whitespace 문자와 매치 , [ \\t\\n\\r\\f\\v]와 동일한 표현식 : 맨 앞의 빈 칸은 공백문자(space)를 의미\n",
        " - \\S : whitespace 문자가 아닌 것과 매치\n",
        " - \\w : 문자+숫자(alphanumeric)와 매치, [a-zA-Z0-9_]와 동일한 표현식\n",
        " - \\W : 문자+숫자(alphanumeric)가 아닌 문자와 매치, [^a-zA-Z0-9_]와 동일한 표현식"
      ]
    },
    {
      "cell_type": "code",
      "metadata": {
        "id": "axjLZ2aTlLXO",
        "colab": {
          "base_uri": "https://localhost:8080/",
          "height": 35
        },
        "outputId": "00014509-d8bd-4891-e052-cf3c686a258a"
      },
      "source": [
        "pattern = '[\\d]'\n",
        "alphabet = re.search(pattern, data)\n",
        "print(alphabet)"
      ],
      "execution_count": null,
      "outputs": [
        {
          "output_type": "stream",
          "text": [
            "<_sre.SRE_Match object; span=(11, 12), match='1'>\n"
          ],
          "name": "stdout"
        }
      ]
    },
    {
      "cell_type": "markdown",
      "metadata": {
        "id": "iuX03Scjlv-6"
      },
      "source": [
        "#### **메타문자 : ^**\n",
        "+ 반대(not)\n",
        " - 예) [^0-9]라는 정규 표현식은 숫자가 아닌 문자만 매치\n"
      ]
    },
    {
      "cell_type": "code",
      "metadata": {
        "id": "xq-gcS4gmAcT",
        "colab": {
          "base_uri": "https://localhost:8080/",
          "height": 35
        },
        "outputId": "da3f14e6-0916-4ccc-c55a-1271f5267316"
      },
      "source": [
        "pattern = '[^\\d]'\n",
        "alphabet = re.search(pattern, data)\n",
        "print(alphabet)"
      ],
      "execution_count": null,
      "outputs": [
        {
          "output_type": "stream",
          "text": [
            "<_sre.SRE_Match object; span=(0, 1), match='의'>\n"
          ],
          "name": "stdout"
        }
      ]
    },
    {
      "cell_type": "markdown",
      "metadata": {
        "id": "vU8ruWKImP5V"
      },
      "source": [
        "#### **메타문자 : Dot(.)**\n",
        "+ 줄바꿈 문자인 \\n을 제외한 모든 문자와 매치됨을 의미\n",
        " - 예) a.b : a와 b라는 문자 사이에 어떤 문자가 들어가도 모두 매치\n",
        "+ 문자 클래스([]) 내에 Dot(.) 메타 문자가 사용\n",
        " - \"모든 문자\"라는 의미가 아닌 문자 . 그대로를 의미  \n",
        " - 예) a[.]b :"
      ]
    },
    {
      "cell_type": "code",
      "metadata": {
        "id": "G-RpX2ycmfyB",
        "colab": {
          "base_uri": "https://localhost:8080/",
          "height": 35
        },
        "outputId": "e28c2e80-874e-4f47-da0c-45944a1491c9"
      },
      "source": [
        "pattern = '[\\d].[\\w]'\n",
        "alphabet = re.search(pattern, data)\n",
        "print(alphabet)"
      ],
      "execution_count": null,
      "outputs": [
        {
          "output_type": "stream",
          "text": [
            "<_sre.SRE_Match object; span=(11, 14), match='10점'>\n"
          ],
          "name": "stdout"
        }
      ]
    },
    {
      "cell_type": "code",
      "metadata": {
        "id": "UR09AYNvm9im",
        "colab": {
          "base_uri": "https://localhost:8080/",
          "height": 35
        },
        "outputId": "d1a86446-483c-4e17-a24b-d500dc92dada"
      },
      "source": [
        "pattern = '[\\d][.]'\n",
        "alphabet = re.search(pattern, data)\n",
        "print(alphabet)"
      ],
      "execution_count": null,
      "outputs": [
        {
          "output_type": "stream",
          "text": [
            "<_sre.SRE_Match object; span=(57, 59), match='0.'>\n"
          ],
          "name": "stdout"
        }
      ]
    },
    {
      "cell_type": "markdown",
      "metadata": {
        "id": "MpoVCNMknkyE"
      },
      "source": [
        "#### **메타문자 : 반복 (*)**\n",
        "+ 예) ab*c  : 문자 b가 0부터 무한대로 반복될 수 있다는 의미로 b가 한번도 나오지 않는 ac도 매치\n"
      ]
    },
    {
      "cell_type": "code",
      "metadata": {
        "id": "numGL_Q_nvuB",
        "colab": {
          "base_uri": "https://localhost:8080/",
          "height": 35
        },
        "outputId": "169fcd7b-5541-49d5-b283-cb0b199bf06a"
      },
      "source": [
        "pattern = '[\\d]*[.]'\n",
        "alphabet = re.search(pattern, data)\n",
        "print(alphabet)"
      ],
      "execution_count": null,
      "outputs": [
        {
          "output_type": "stream",
          "text": [
            "<_sre.SRE_Match object; span=(27, 28), match='.'>\n"
          ],
          "name": "stdout"
        }
      ]
    },
    {
      "cell_type": "markdown",
      "metadata": {
        "id": "q_tqYYQpoZ1A"
      },
      "source": [
        "#### **메타문자 : 반복 (+)**\n",
        "+ 예) ab+c : 최소 1번 이상 반복될 때 사용하므로 ac는 매치가 되지 않음"
      ]
    },
    {
      "cell_type": "code",
      "metadata": {
        "id": "mzAM5Ga9oW17",
        "colab": {
          "base_uri": "https://localhost:8080/",
          "height": 35
        },
        "outputId": "4862c5aa-07ae-47a0-fd40-28540f37ff9b"
      },
      "source": [
        "pattern = '[\\d]+[.]'\n",
        "alphabet = re.search(pattern, data)\n",
        "print(alphabet)"
      ],
      "execution_count": null,
      "outputs": [
        {
          "output_type": "stream",
          "text": [
            "<_sre.SRE_Match object; span=(56, 59), match='20.'>\n"
          ],
          "name": "stdout"
        }
      ]
    },
    {
      "cell_type": "markdown",
      "metadata": {
        "id": "cvbiJj2Zo0bU"
      },
      "source": [
        "#### **메타문자:반복 {m,n}**\n",
        "+ 반복 횟수를 고정\n",
        " - {m, n} 정규식을 사용하면 반복 횟수가 m부터 n까지 매치\n",
        "+ m 또는 n을 생략하면 m은 0과 동일하며, 생략된 n은 무한대의 의미\n",
        " - 예) ab{2}c : b가 2회만 반복되면 매치\n",
        " - 예) ab{2,5}c : b가 2회에서 5회까지 반복되면 매치\n"
      ]
    },
    {
      "cell_type": "code",
      "metadata": {
        "id": "BgXm9WgLo-_U",
        "colab": {
          "base_uri": "https://localhost:8080/",
          "height": 35
        },
        "outputId": "cce2a9d7-4d67-4c74-d7e4-aa1a6c6deef3"
      },
      "source": [
        "pattern = '[\\d]{2}[.]'\n",
        "alphabet = re.search(pattern, data)\n",
        "print(alphabet)"
      ],
      "execution_count": null,
      "outputs": [
        {
          "output_type": "stream",
          "text": [
            "<_sre.SRE_Match object; span=(56, 59), match='20.'>\n"
          ],
          "name": "stdout"
        }
      ]
    },
    {
      "cell_type": "markdown",
      "metadata": {
        "id": "4KL2hbPXpfWW"
      },
      "source": [
        "#### **메타문자: ?**\n",
        "+ 없거나 하나만 있으면 매치\n",
        " - 예) ab?c : b가 없거나 하나만 있는 경우 매치\n"
      ]
    },
    {
      "cell_type": "code",
      "metadata": {
        "id": "Ob5lqMQPpmo_",
        "colab": {
          "base_uri": "https://localhost:8080/",
          "height": 35
        },
        "outputId": "c9a7e304-036a-40d4-88ca-b438a8c16e2f"
      },
      "source": [
        "pattern = '[\\d]{2}[.]?'\n",
        "alphabet = re.search(pattern, data)\n",
        "print(alphabet)"
      ],
      "execution_count": null,
      "outputs": [
        {
          "output_type": "stream",
          "text": [
            "<_sre.SRE_Match object; span=(11, 13), match='10'>\n"
          ],
          "name": "stdout"
        }
      ]
    },
    {
      "cell_type": "markdown",
      "metadata": {
        "id": "-dw8Lwevpwi0"
      },
      "source": [
        "#### **메타문자:()**\n",
        "+ 반환 값을 그룹 설정\n",
        " - group() 혹은 group(0)  \n",
        "+ 전체 가져오기\n",
        " - group(n)\n",
        " - 첫번째 그룹 가져오기"
      ]
    },
    {
      "cell_type": "code",
      "metadata": {
        "id": "xygNmnLBp8Jf",
        "colab": {
          "base_uri": "https://localhost:8080/",
          "height": 125
        },
        "outputId": "42c020f1-d953-4647-ebac-8ffb36c9da6f"
      },
      "source": [
        "pattern = '([\\d]{2})[.]([\\d]{2})[.]([\\d]{2})'\n",
        "alphabet = re.search(pattern, data)\n",
        "print(alphabet)\n",
        "print(alphabet.group())\n",
        "print(alphabet.group(0))\n",
        "print(alphabet.group(1))\n",
        "print(alphabet.group(2))\n",
        "print(alphabet.group(3))"
      ],
      "execution_count": null,
      "outputs": [
        {
          "output_type": "stream",
          "text": [
            "<_sre.SRE_Match object; span=(56, 64), match='20.05.23'>\n",
            "20.05.23\n",
            "20.05.23\n",
            "20\n",
            "05\n",
            "23\n"
          ],
          "name": "stdout"
        }
      ]
    },
    {
      "cell_type": "markdown",
      "metadata": {
        "id": "qJEaZztirHW8"
      },
      "source": [
        "\n",
        "\n",
        "---\n",
        "\n",
        "\n",
        "해결문제) 영화 평점에 대한 정보가 있는 평점.txt 파일을 읽어서 개인별 평점 그래프를 작성하시오.\n",
        "\n",
        "---\n",
        "\n"
      ]
    },
    {
      "cell_type": "code",
      "metadata": {
        "id": "aLZ_JMWYra1O"
      },
      "source": [
        "with open('/content/drive/My Drive/PythonWork/PythonBasic/03/평점.txt', 'r', encoding='utf-8') as fp :\n",
        "    data = fp.readlines()\n"
      ],
      "execution_count": null,
      "outputs": []
    },
    {
      "cell_type": "code",
      "source": [],
      "metadata": {
        "id": "RbtfFdPWK0t2"
      },
      "execution_count": null,
      "outputs": []
    },
    {
      "cell_type": "markdown",
      "source": [],
      "metadata": {
        "id": "8vrWnv9_Ky4F"
      }
    },
    {
      "cell_type": "code",
      "metadata": {
        "id": "8JGP6K_XruTX"
      },
      "source": [
        "x = []\n",
        "y = []\n",
        "\n",
        "for line in data :\n",
        "    star = re.search(r'10점 중([\\d]+)', line)\n",
        "    name = re.search(r'([\\w]+)[*]{4}', line)\n",
        "\n",
        "    x.append(name.group(1))\n",
        "    y.append(int(star.group(1)))"
      ],
      "execution_count": null,
      "outputs": []
    },
    {
      "cell_type": "code",
      "metadata": {
        "id": "7JzttQiRtT8J",
        "colab": {
          "base_uri": "https://localhost:8080/",
          "height": 265
        },
        "outputId": "e0a4f2fc-e9f8-42d7-d43c-f8616e687f09"
      },
      "source": [
        "import matplotlib.pyplot as plt\n",
        "\n",
        "plt.bar(x, y)\n",
        "plt.show()"
      ],
      "execution_count": null,
      "outputs": [
        {
          "output_type": "display_data",
          "data": {
            "image/png": "[encoded data removed]",
            "text/plain": [
              "<Figure size 432x288 with 1 Axes>"
            ]
          },
          "metadata": {
            "tags": [],
            "needs_background": "light"
          }
        }
      ]
    },
    {
      "cell_type": "markdown",
      "source": [
        "해결문제) 파이썬 re모듈을 활용해 올바른 이메일 주소인지를 확인하는 문제를 만들어보자.\n",
        "\n",
        "문제 : 이메일 주소 유효성 검사\n",
        "\n",
        "문제 설명:\n",
        "\n",
        "입력받은 이메일 주소가 올바른 형식인지 확인하는 프로그램을 작성하세요. 이메일 주소는 다음 조건을 만족해야 합니다:\n",
        "\n",
        "    1.이메일은 알파벳(대소문자 구분 없음), 숫자, 점(.), 밑줄(_), 하이픈(-) 등의 문자를 사용할 수 있습니다.\n",
        "    2. 이메일은 @ 문자로 구분되어야 하며, @ 뒤에는 도메인이 오고, 도메인 이름 뒤에는 .com, .org, .net, .edu 등의 확장자가 와야 합니다.\n",
        "    3. @ 앞부분과 도메인 이름은 최소 1글자 이상이어야 하며, 도메인 부분은 알파벳으로만 구성됩니다.\n",
        "\n",
        "\n",
        "\n",
        "예시:\n",
        "\"test@example.com\" → 유효 / \"user_123@domain.net\" → 유효\n",
        "\"invalid@domain\" → 유효하지 않음 / \"@missingusername.com\" → 유효하지 않음\n",
        "\"test@com\" → 유효하지 않음 / \"user@sub.domain.com\" → 유효\n"
      ],
      "metadata": {
        "id": "FtWhZuXiLlca"
      }
    }
  ]
}