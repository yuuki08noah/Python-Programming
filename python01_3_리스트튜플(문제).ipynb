{
 "cells": [
  {
   "cell_type": "markdown",
   "metadata": {
    "id": "PzmdHx8x8xoV"
   },
   "source": [
    "# **컬렉션자료형(collection data type)**\n",
    "+ 여러 요소를 묶어서 처리할 수 있는 자료형\n",
    "+ 각 요소에 접근하는 방법이 제공\n",
    "\n",
    "![대체 텍스트](https://drive.google.com/uc?export=view&id=1qNHKZPJv546haViE6KBY3kg8gUlHJm_F)"
   ]
  },
  {
   "cell_type": "markdown",
   "metadata": {
    "id": "yCrF5QdUHZBj"
   },
   "source": [
    "# **리스트(list)**\n",
    "\n",
    "+ **특징**\n",
    " - 리스트의 각 요소는 순서를 가지고 있음\n",
    " - 대괄호([ ])로 작성되며 각 요소는 쉼표(,)로 구분\n",
    " - 요소를 추가, 수정, 삭제 가능\n",
    "\n",
    "##생성 및 기본 함수   \n",
    " + **1. 리스트 선언**\n",
    "  - 리스트변수 = [ ]\n",
    "  - 리스트변수 =list( )\n",
    "  - 리스트변수 = [데이터1,데이터2,...]\n",
    "\n",
    "  **2. 리스트 추가**\n",
    "  - 리스트명.append(데이터) : 마지막에 추가\n",
    "  - 리스트명.insert(인덱스, 데이터) : 해당 인덱스에 요소 추가\n",
    "\n",
    "  **3. 리스트 삭제**\n",
    "  - 리스트명.remove(데이터) : 해당 데이터 삭제\n",
    "  - del 리스트명[인덱스]\n",
    "  - 리스트명.pop() : 마지막 요소 삭제\n",
    "  - 리스트명.pop(인덱스) : 해당 인덱스 요소 삭제\n",
    "\n",
    "  **4. 리스트 수정**\n",
    "   - 리스트명[인덱스]=변경값\n",
    "\n",
    "## 기타 연산\n",
    " + **인덱싱**\n",
    "  - 요소의 선택은 0부터 시작되는 인덱스로 접근\n",
    "  - 리스트명[인덱스]\n",
    "\n",
    "\n",
    "+ **슬라이싱**\n",
    "  - 요소의 일부분 선택\n",
    "  - 리스트명[시작인덱스:종료인덱스] : 종료인덱스는 포함되지 않음\n",
    "+ **리스트 연산**\n",
    "  - $+$ 연산 : 리스트와 리스트 연결\n",
    "  - $*$ 연산 : 리스트 요소 반복\n",
    "\n",
    "+ **리스트 위치 반환**\n",
    "  - 리스트명.index(요소값)\n",
    "  - 해당 요소값의 위치를 반환\n",
    "  - 여러 개 요소가 존재하면 첫번째 위치 반환하고 없으면 오류\n",
    "+ **리스트 요소 개수 구하기**\n",
    " - 리스트명.count(요소값)\n",
    "+ **리스트 정렬**\n",
    " - 리스트명.sort( ) : 오름차순\n",
    " - 리스트명.sort(reverse=True): 내림차순\n",
    "+ **리스트 뒤집기**\n",
    " - 리스트명.reverse( ) : 요소를 역순으로 뒤집어 줌\n"
   ]
  },
  {
   "cell_type": "code",
   "execution_count": null,
   "metadata": {
    "id": "TH4iPH_nEXXH"
   },
   "outputs": [],
   "source": [
    "# 리스트 생성 : []나 리스트 함수\n",
    "lst1 = []\n",
    "print(lst1)\n",
    "lst2 = list()\n",
    "print(lst2)\n",
    "lst3 = [10, 30, 20]\n",
    "print(lst3)\n"
   ]
  },
  {
   "cell_type": "markdown",
   "metadata": {
    "id": "40uj5Aj3DuJs"
   },
   "source": [
    "###[실습]1. list1, list2, list3를 위 세가지 방법으로 생성하고 아래와 같이 출력하시오.  \n",
    "[출력]  \n",
    "[ ]  \n",
    "[ ]  \n",
    "[1,2,3]"
   ]
  },
  {
   "cell_type": "code",
   "execution_count": 3,
   "metadata": {
    "id": "5FSd_MMjDPyo"
   },
   "outputs": [
    {
     "name": "stdout",
     "output_type": "stream",
     "text": [
      "[]\n",
      "[]\n",
      "[1, 2, 3]\n"
     ]
    }
   ],
   "source": [
    "#[실습]1.정답을 작성하세요.\n",
    "lst1 = []\n",
    "print(lst1)\n",
    "lst2 = list()\n",
    "print(lst2)\n",
    "lst3 = [1, 2, 3]\n",
    "print(lst3)\n"
   ]
  },
  {
   "cell_type": "code",
   "execution_count": 14,
   "metadata": {
    "id": "c4oDyT6zItR9"
   },
   "outputs": [
    {
     "name": "stdout",
     "output_type": "stream",
     "text": [
      "첫번째 요소 : 1\n",
      "마지막 요소 :6\n",
      "마지막 두번째 요소 :5\n",
      "[1, 2]\n",
      "[4, 5]\n"
     ]
    }
   ],
   "source": [
    "# 인덱싱 : 요소의 선택은 0부터 시작되는 인덱스로 접근\n",
    "lst = [1, 2, 3, 4, 5, 6]\n",
    "print(f'첫번째 요소 : {lst[0]}')\n",
    "print(f'마지막 요소 :{ lst[-1]}')\n",
    "print(f'마지막 두번째 요소 :{lst[-2]}')\n",
    "# 슬라이싱 : 요소의 일부분 선택\n",
    "print(lst[:2]) # 결과는? [1, 2]\n",
    "\n",
    "print(lst[-3:-1]) #의 결과는? [4, 5] <- 시험에 나올 수 있음"
   ]
  },
  {
   "cell_type": "markdown",
   "metadata": {
    "id": "A7Mjt0u2FvkZ"
   },
   "source": [
    "###[실습]2. list1에 [ 10, 20, [30,40,50], 60, 70 ]를 저장하고 [출력] 예시와 같이 출력하시오.  \n",
    "\n",
    "[출력]  \n",
    "네번째 요소 :30,40,50  \n",
    "마지막 요소 :70  \n",
    "마지막 세번째 요소 :30,40,50  \n",
    "[30, 40]  "
   ]
  },
  {
   "cell_type": "code",
   "execution_count": 44,
   "metadata": {
    "id": "t8IOSa-oGtv9"
   },
   "outputs": [
    {
     "name": "stdout",
     "output_type": "stream",
     "text": [
      "세번째 요소 : [30, 40, 50]\n",
      "마지막 요소 : 70\n",
      "마지막 세번째 요소 : [30, 40, 50]\n",
      "[30, 40]\n"
     ]
    }
   ],
   "source": [
    "#[실습]2.정답을 작성하세요.\n",
    "lst = [ 10, 20, [30,40,50], 60, 70 ]\n",
    "print(f'세번째 요소 : {lst[2]}')\n",
    "print(f'마지막 요소 : {lst[-1]}')\n",
    "print(f'마지막 세번째 요소 : {lst[-3]}')\n",
    "# 슬라이싱 : 요소의 일부분 선택\n",
    "print(lst[2][:2]) # 결과는? [30, 40]"
   ]
  },
  {
   "cell_type": "markdown",
   "metadata": {
    "id": "hV4cDPgZFrQt"
   },
   "source": []
  },
  {
   "cell_type": "code",
   "execution_count": 16,
   "metadata": {
    "id": "_zb8VQfwIyVX"
   },
   "outputs": [
    {
     "name": "stdout",
     "output_type": "stream",
     "text": [
      "[1, 2, 3, 4, 5, 6, 100, 200]\n",
      "[100, 200, 100, 200, 100, 200]\n"
     ]
    }
   ],
   "source": [
    "# 리스트 연산\n",
    "# + 연산 : 리스트와 리스트 연결\n",
    "# * 연산 : 리스트 요소 반복\n",
    "lst = [1, 2, 3, 4, 5, 6]\n",
    "lst2 = [100, 200]\n",
    "lst = lst+lst2\n",
    "print(lst)\n",
    "\n",
    "lst2 = lst2*3\n",
    "print(lst2)"
   ]
  },
  {
   "cell_type": "markdown",
   "metadata": {
    "id": "IwTTCAGOCKMY"
   },
   "source": [
    "###[실습]3. list1, list2를 +,  * 연산을 이용하여[출력] 예시와 같이 출력하시오.  \n",
    "list1 = [10, 20, 30]  \n",
    "list2 = [60, 70]  \n",
    "[출력]  \n",
    "[60, 70, 10, 20,30]  \n",
    "[10, 20, 30, 10, 20, 30, 60, 70, 60, 70]  \n"
   ]
  },
  {
   "cell_type": "markdown",
   "metadata": {
    "id": "nm3lTWqFV_rP"
   },
   "source": []
  },
  {
   "cell_type": "code",
   "execution_count": 13,
   "metadata": {
    "id": "KcJBTaOYWAk-"
   },
   "outputs": [
    {
     "name": "stdout",
     "output_type": "stream",
     "text": [
      "[60, 70, 10, 20, 30]\n",
      "[10, 20, 30, 10, 20, 30, 10, 20, 30]\n"
     ]
    }
   ],
   "source": [
    "#[실습]3. 정답을 작성하세요.\n",
    "list1 = [10, 20, 30]\n",
    "list2 = [60, 70]\n",
    "print(list2+list1)\n",
    "print(list1*3)"
   ]
  },
  {
   "cell_type": "code",
   "execution_count": 17,
   "metadata": {
    "id": "SJuh_IYkI13B"
   },
   "outputs": [
    {
     "name": "stdout",
     "output_type": "stream",
     "text": [
      "리스트 추가: [10, 'b', 20, 30, 'a']\n"
     ]
    }
   ],
   "source": [
    "list1 = [10, 20, 30]\n",
    "# 리스트 추가\n",
    "# 리스트명.append(추가요소) : 마지막에 추가\n",
    "# 리스트명.insert(인덱스, 추가요소) : 해당 인덱스에 요소 추가\n",
    "\n",
    "list1.append('a')\n",
    "#list1 마지막에 'a'추가하기\n",
    "#list1 1번째 요소에 'b'추가하기\n",
    "list1.insert(1, 'b')\n",
    "\n",
    "print(\"리스트 추가:\" , list1)"
   ]
  },
  {
   "cell_type": "markdown",
   "metadata": {
    "id": "IC-ViAQUWCDg"
   },
   "source": [
    "###[실습]4. list2에 append, insert 연산을 이용하여[출력] 예시와 같이 출력하시오.\n",
    "list2 = [60, 70, 80]  \n",
    "[출력]  \n",
    "[60, 70, 80, 'bssm']  \n",
    "[60, 70, 80, 'soft', 'bssm']  \n",
    "\n",
    "```\n",
    "# 코드로 형식 지정됨\n",
    "```\n",
    "\n"
   ]
  },
  {
   "cell_type": "code",
   "execution_count": 19,
   "metadata": {
    "id": "GQpbp7n-EahU"
   },
   "outputs": [
    {
     "name": "stdout",
     "output_type": "stream",
     "text": [
      "[60, 70, 80, 'soft', 'bssm']\n"
     ]
    }
   ],
   "source": [
    "#[실습]4. 정답을 작성하세요.\n",
    "list2 = [60, 70, 80]\n",
    "list2.append('bssm')\n",
    "list2.insert(3, 'soft')\n",
    "print(list2)"
   ]
  },
  {
   "cell_type": "code",
   "execution_count": 71,
   "metadata": {
    "id": "nIel5gi_I37h"
   },
   "outputs": [
    {
     "name": "stdout",
     "output_type": "stream",
     "text": [
      "리스트 삭제:[30, 40, 40]\n",
      "리스트 수정:[100, 40, 40]\n"
     ]
    }
   ],
   "source": [
    "# 리스트 삭제\n",
    "# 리스트명.pop() : 마지막 요소 삭제\n",
    "# 리스트명.pop(인덱스) : 해당 인덱스 요소 삭제\n",
    "# 리스트명.remove(요소값) : 해당 요소값 삭제 해당 값이 없으면 오류\n",
    "# 리스트 수정\n",
    "# 리스트명[인덱스]=변경값\n",
    "#----------------------------------------------------\n",
    "lst = [20, 30, 40, 40 , 90]\n",
    "lst.pop()\n",
    "#마지막 요소 삭제\n",
    "#0번 인덱스 요소 삭제\n",
    "lst.pop(0)\n",
    "#100값을 가진 요소 삭제\n",
    "# lst.remove(100)\n",
    "#200값을 가진 요소 삭제\n",
    "# lst.remove(200)\n",
    "print(f\"리스트 삭제:{lst}\")\n",
    "#0번째 요소를 100으로 수정\n",
    "lst[0] = 100\n",
    "print(f\"리스트 수정:{lst}\")"
   ]
  },
  {
   "cell_type": "markdown",
   "metadata": {
    "id": "1bm1kF4VDgvy"
   },
   "source": [
    "###[실습]5. list2에 pop, remove 연산을 이용하여[출력] 예시와 같이 출력하시오.\n",
    "list2 = [60, 70, 80, 'soft', 'bssm']  \n",
    "\n",
    "[출력]  \n",
    "[60, 70, 80, 'soft']    \n",
    "[60, 70, 'soft', 'bssm']  \n",
    "[70, 'soft', 'bssm']  \n",
    "[70, 'bs']  \n",
    "[70, 'sm']"
   ]
  },
  {
   "cell_type": "code",
   "execution_count": 35,
   "metadata": {
    "id": "1tpgDf0GWCwx"
   },
   "outputs": [
    {
     "name": "stdout",
     "output_type": "stream",
     "text": [
      "[60, 70, 80, 'soft']\n",
      "[60, 70, 'soft', 'bssm']\n",
      "[70, 'soft', 'bssm']\n",
      "[70, 'bs']\n",
      "[70, 'sm']\n"
     ]
    }
   ],
   "source": [
    "#실습5. 정답을 작성하세요.\n",
    "list2 = [60, 70, 80, 'soft', 'bssm']\n",
    "\n",
    "#pop()사용\n",
    "list2.pop()\n",
    "print(list2)\n",
    "#pop(인덱스) 사용\n",
    "list2.pop(2)\n",
    "list2.append('bssm')\n",
    "print(list2)\n",
    "#remove() 사용\n",
    "list2.remove(60)\n",
    "print(list2)\n",
    "#remove() 사용\n",
    "list2.remove('bssm')\n",
    "list2[-1] = 'bs'\n",
    "print(list2)\n",
    "#리스트 수정\n",
    "list2[-1] = 'sm'\n",
    "print(list2)"
   ]
  },
  {
   "cell_type": "markdown",
   "metadata": {
    "id": "e3RR30oGWEG6"
   },
   "source": []
  },
  {
   "cell_type": "code",
   "execution_count": 36,
   "metadata": {
    "id": "irNnwaAJI_P1"
   },
   "outputs": [
    {
     "name": "stdout",
     "output_type": "stream",
     "text": [
      "20의 위치 : 1\n",
      "20의 개수 : 2\n",
      "리스트 정렬:[10, 20, 20, 30, 40, 50, 60, 80]\n",
      "리스트 뒤집기:[80, 60, 50, 40, 30, 20, 20, 10]\n"
     ]
    }
   ],
   "source": [
    "# 리스트 위치 반환\n",
    "# 리스트명.index(요소값) : 해당 요소값의 위치를 반환, 없으면 오류\n",
    "lst = [10,20,30,40,50,60,20,80]\n",
    "print(f'20의 위치 : {lst.index(20)}')\n",
    "# 리스트 요소 개수 구하기\n",
    "# 리스트명.count(요소값)\n",
    "print(f'20의 개수 : {lst.count(20)}')\n",
    "# 리스트 정렬\n",
    "# 리스트명.sort() : 오름차순\n",
    "# 리스트명.sort(reverse=True): 내림차순\n",
    "lst.sort()\n",
    "print(f\"리스트 정렬:{lst}\")\n",
    "# 리스트 뒤집기\n",
    "# 리스트명.revers() : 요소를 역순으로 뒤집어 줌\n",
    "lst.reverse()\n",
    "print(f\"리스트 뒤집기:{lst}\")"
   ]
  },
  {
   "cell_type": "markdown",
   "metadata": {
    "id": "u0VjOIOah5Lk"
   },
   "source": [
    "###[실습]6. list3에 index(), count(), sort(), reverse() 연산을 이용하여[조건]에 맞게 출력하시오.\n",
    "list3 = ['a', 1,'b',2, 4,'a', 6, 8]  \n",
    "[조건]\n",
    "\n",
    "1. 'b'의 위치를 출력하시오.\n",
    "2. 'a'의 개수를 출력하시오.\n",
    "3. list3을 오름차순으로 정렬하여 출력하시오.\n",
    "4. list3을 역순으로 정렬하여 출력하시오.\n",
    "\n"
   ]
  },
  {
   "cell_type": "code",
   "execution_count": 69,
   "metadata": {
    "id": "7_Z6tvc5JI_z"
   },
   "outputs": [
    {
     "name": "stdout",
     "output_type": "stream",
     "text": [
      "2\n",
      "2\n",
      "[1, 2, 4, 6, 8, 97, 97, 98]\n",
      "[98, 97, 97, 8, 6, 4, 2, 1]\n"
     ]
    }
   ],
   "source": [
    "#[실습]6. 정답을 작성하세요.\n",
    "list3 = ['a', 1,'b',2, 4,'a', 6, 8]\n",
    "print(list3.index('b'))\n",
    "print(list3.count('a'))\n",
    "list3[0] = ord(list3[0])\n",
    "list3[2] = ord(list3[2])\n",
    "list3[5] = ord(list3[5])\n",
    "print(sorted(list3))\n",
    "print(sorted(list3, reverse=True))"
   ]
  },
  {
   "cell_type": "code",
   "execution_count": null,
   "metadata": {
    "id": "Omo--PlK9Bgc"
   },
   "outputs": [],
   "source": [
    "# 중첩된 리스트의 인덱싱과 슬라이싱\n",
    "a  = [1, 2, ['a','b',['Life','is','Short']]]\n",
    "# 인덱싱 사용하여 출력\n",
    "print(a[2][2][1])\n",
    "print(a[-1][1])\n",
    "\n",
    "# 슬라이싱 사용하여 출력\n",
    "print(a[2][:2])\n",
    "print(a[2][2][1:3])\n",
    "\n",
    "b  = [1, ['a',['Life','is','Short'],'b'], 2, 3]\n",
    "print(b[1][1:])\n",
    "print(b[1][1][:2])\n"
   ]
  },
  {
   "cell_type": "markdown",
   "metadata": {
    "id": "IvJY868C89SZ"
   },
   "source": [
    "### [실습]7. 중첩된 리스트의 인덱싱과 슬라이싱을 사용하여 아래의 [출력] 예시에 맞도록 코드를 작성하시오.\n",
    "```\n",
    "b  = [1, [ 'a' , ['Life','is','Short'],'b'], 2, 3]   \n",
    "```\n",
    "[출력]\n",
    "```\n",
    "Life\n",
    "2\n",
    "Short\n",
    "[['Life', 'is', 'Short'], 'b']\n",
    "['Life', 'is']\n",
    "```\n"
   ]
  },
  {
   "cell_type": "code",
   "execution_count": 58,
   "metadata": {
    "id": "2W8en0J4N9iS"
   },
   "outputs": [
    {
     "name": "stdout",
     "output_type": "stream",
     "text": [
      "Life\n",
      "2\n",
      "Short\n",
      "[['Life', 'is', 'Short'], 'b']\n",
      "['Life', 'is']\n"
     ]
    }
   ],
   "source": [
    "#[실습]7. 정답 코드를 작성하세요.\n",
    "b  = [1, [ 'a' , ['Life','is','Short'],'b'], 2, 3]   \n",
    "print(b[1][1][0])\n",
    "print(b[2])\n",
    "print(b[1][1][2])\n",
    "print(b[1][1:])\n",
    "print(b[1][1][:2])"
   ]
  },
  {
   "cell_type": "markdown",
   "metadata": {
    "id": "0JLMN__7LVoy"
   },
   "source": [
    "# 튜플(tuple)\n",
    "+ 튜플의 각 요소는 순서를 가지고 있음\n",
    "+ 괄호(( ))로 작성되며 각 요소는 쉼표(,)로 구분\n",
    "+ 요소를 추가, 수정, 삭제 불가능\n",
    "+ 한번 결정된 요소는 변경 불가능\n",
    "+ 인덱싱과 슬라이싱은 리스트와 동일\n",
    "+ $+$와 $*$연산은 리스트와 동일\n",
    "+ 각 요소에 변수 할당 가능\n",
    " - x, y = (10, 20)\n",
    "\n",
    "###생성 및 기본 함수\n",
    "1. 튜플 선언\n",
    "\n",
    "  튜플변수 = ( )  \n",
    "  튜플변수 = tuple( )  \n",
    "  튜플변수 = (데이터1,데이터2,...)  \n",
    "\n",
    "2. 튜플 추가 : 불가\n",
    "3. 튜플 삭제 : 불가\n",
    "3. 튜플 수정 : 불가  \n",
    "**튜플(Tuple)은 개별 요소 변경이 불가능(Immutable) **\n"
   ]
  },
  {
   "cell_type": "code",
   "execution_count": null,
   "metadata": {
    "colab": {
     "base_uri": "https://localhost:8080/"
    },
    "executionInfo": {
     "elapsed": 322,
     "status": "ok",
     "timestamp": 1725255442826,
     "user": {
      "displayName": "곽상미",
      "userId": "10268103871227333801"
     },
     "user_tz": -540
    },
    "id": "bzGSNx5tO9fs",
    "outputId": "0eb5b399-5d7a-4971-96ec-e07d2a7ef0d4"
   },
   "outputs": [
    {
     "name": "stdout",
     "output_type": "stream",
     "text": [
      "(2, 3)\n"
     ]
    }
   ],
   "source": [
    "#튜플 선언\n",
    "t1 = ()\n",
    "t2 = tuple()\n",
    "t2 =(1,) #1개의 요소일때 ,를 붙여야 함.\n",
    "t3 = (1,2,3)\n",
    "t4 = 1,2,3 #괄호 생략 가능\n",
    "t5 = ('a','b',('ab','cd')) #요소로 튜플 사용 가능"
   ]
  },
  {
   "cell_type": "code",
   "execution_count": 59,
   "metadata": {
    "id": "zothSnOxLpqJ"
   },
   "outputs": [
    {
     "name": "stdout",
     "output_type": "stream",
     "text": [
      "10\n",
      "(10, 20)\n",
      "(10, 20, 30, 40, 50, 60)\n",
      "(10, 20, 30, 10, 20, 30, 10, 20, 30)\n",
      "3\n",
      "(10, 20, 30)\n"
     ]
    }
   ],
   "source": [
    "#튜플\n",
    "tp = (10, 20, 30)\n",
    "tp1 = (40, 50, 60)\n",
    "# 인덱싱과 슬라이싱은 리스트와 동일\n",
    "print(tp[0])\n",
    "print(tp[:2])\n",
    "\n",
    "# +와 * 연산, count() 사용은 리스트와 동일\n",
    "\n",
    "print(tp + tp1)\n",
    "tp2 = tp*3\n",
    "print(tp2)\n",
    "print(tp2.count(10)) # 10 요소의 개수\n",
    "print(tp)\n",
    "\n"
   ]
  },
  {
   "cell_type": "code",
   "execution_count": 62,
   "metadata": {
    "id": "v31NoLG_rMj3"
   },
   "outputs": [
    {
     "name": "stdout",
     "output_type": "stream",
     "text": [
      "typx = 10, tpy = 20\n",
      "8 10 50\n"
     ]
    }
   ],
   "source": [
    "tp = (10, 20, 30, 10, 40, 50, 10, 20)\n",
    "# 각 요소에 변수 할당 가능\n",
    "tpx, tpy = (10, 20)\n",
    "print(f'typx = {tpx}, tpy = {tpy}')\n",
    "\n",
    "#len(튜플),min(튜플),max(튜플)\n",
    "print(len(tp), min(tp), max(tp))\n",
    "\n",
    "# 요소를 추가, 수정, 삭제 불가능\n",
    "# 한번 결정된 요소는 변경 불가능\n",
    "# tp[0] = 100\n",
    "# tp.sort()\n",
    "# tp.reverse()\n"
   ]
  },
  {
   "cell_type": "markdown",
   "metadata": {
    "id": "8sn3pOMcSCLS"
   },
   "source": [
    "### [실습]8. 튜플의 +, *,   max(), count(), len(), 함수를 이용하여 아래와 같이 출력하시오.\n",
    "```\n",
    "tp1 = (1,1,2,3)\n",
    "tp2 = (4,5,6,7)\n",
    "```\n",
    "[조건]\n",
    "```\n",
    "1. tp1 와 tp2 요소를 더한값\n",
    "2. tp2를 3번 반복\n",
    "3. tp1의 최대값\n",
    "4. tp1에서 1 의 개수\n",
    "5. tp2의 길이\n",
    "```\n",
    "[출력]  \n",
    "```\n",
    "(1, 1, 2, 3, 4, 5, 6, 7)\n",
    "(4, 5, 6, 7, 4, 5, 6, 7, 4, 5, 6, 7)\n",
    "3\n",
    "2\n",
    "4\n",
    "```\n"
   ]
  },
  {
   "cell_type": "code",
   "execution_count": 68,
   "metadata": {
    "id": "QOiJG-PESzHy"
   },
   "outputs": [
    {
     "name": "stdout",
     "output_type": "stream",
     "text": [
      "(1, 1, 2, 3, 4, 5, 6, 7)\n",
      "(4, 5, 6, 7, 4, 5, 6, 7, 4, 5, 6, 7)\n",
      "3\n",
      "2\n",
      "4\n"
     ]
    }
   ],
   "source": [
    "#[실습]8. 정답코드를 작성하세요.\n",
    "tp1 = (1,1,2,3)\n",
    "tp2 = (4,5,6,7)\n",
    "\n",
    "print(tp1+tp2)\n",
    "print(tp2*3)\n",
    "print(max(tp1))\n",
    "print(tp1.count(1))\n",
    "print(len(tp2))"
   ]
  },
  {
   "cell_type": "markdown",
   "metadata": {
    "id": "nA19klMoR-Er"
   },
   "source": []
  }
 ],
 "metadata": {
  "colab": {
   "provenance": []
  },
  "kernelspec": {
   "display_name": "Python 3 (ipykernel)",
   "language": "python",
   "name": "python3"
  },
  "language_info": {
   "codemirror_mode": {
    "name": "ipython",
    "version": 3
   },
   "file_extension": ".py",
   "mimetype": "text/x-python",
   "name": "python",
   "nbconvert_exporter": "python",
   "pygments_lexer": "ipython3",
   "version": "3.11.8"
  }
 },
 "nbformat": 4,
 "nbformat_minor": 4
}
