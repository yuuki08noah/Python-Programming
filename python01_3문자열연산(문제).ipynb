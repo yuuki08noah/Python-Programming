{
 "cells": [
  {
   "cell_type": "markdown",
   "metadata": {
    "id": "1NjbWau46YKz"
   },
   "source": [
    "## **문자열 함수(1)**\n",
    "+ **len(문자열)** : 문자열 길이 구하기\n",
    "+ **문자열.count(\"문자\")** : 문자의 개수 구하기\n",
    "+ **문자열.find(문자)** : 문자가 처음 나오는 위치 반환 , 없으면 -1\n",
    "+ **문자열.index(문자)** : 문자가 처음 나오는 위치 반환, 없으면 오류"
   ]
  },
  {
   "cell_type": "markdown",
   "metadata": {
    "id": "WUF6jxNVqLEm"
   },
   "source": []
  },
  {
   "cell_type": "markdown",
   "metadata": {
    "id": "va_fi_PNX-Fy"
   },
   "source": [
    "### [실습]1. 아래와 같이 출력되도록 코드를 작성하시오.  \n",
    "x = \"Busan software meister highschool\"\n",
    "1. 문자열 길이 출력\n",
    "2. 문자열 중 't' 개수 출력\n",
    "3. 's'가 처음 나오는 위치 반환\n",
    "4. 'soft'문자열이 처음 나오는 위치 반환\n",
    "\n",
    "```\n",
    "[출력]\n",
    "33\n",
    "2\n",
    "2\n",
    "6\n",
    "```"
   ]
  },
  {
   "cell_type": "code",
   "execution_count": 6,
   "metadata": {
    "id": "zSt0eRn-mtko"
   },
   "outputs": [
    {
     "name": "stdout",
     "output_type": "stream",
     "text": [
      "33\n",
      "2\n",
      "2\n",
      "6\n"
     ]
    }
   ],
   "source": [
    "#[실습]1. 정답코드를 작성하세요.\n",
    "x = \"Busan software meister highschool\"\n",
    "print(len(x))\n",
    "print(x.count('t'))\n",
    "print(x.index('s'))\n",
    "print(x.find('soft'))"
   ]
  },
  {
   "cell_type": "markdown",
   "metadata": {
    "id": "lPJYmaFNHtW0"
   },
   "source": [
    "###[실습]2. 아래와 같이 출력되도록 실행코드를 작성하시오.  \n",
    "x = \"Hello Python!\"  \n",
    "[출력]  \n",
    "문자열 길이 => 13<br>\n",
    "o의 개수  => 2<br>\n",
    "on의 개수  => 1<br>\n",
    "o의 개수 => 2<br>\n",
    "P 시작위치  => 6<br>\n",
    "Python 시작위치  => 6"
   ]
  },
  {
   "cell_type": "code",
   "execution_count": 7,
   "metadata": {
    "id": "yZ44KGpyIHz5"
   },
   "outputs": [
    {
     "name": "stdout",
     "output_type": "stream",
     "text": [
      "문자열 길이 => 13\n",
      "o의 개수 => 2\n",
      "on의 개수 => 1\n",
      "P 시작위치 => 6\n",
      "Python 시작위치 => 6\n"
     ]
    }
   ],
   "source": [
    "#[실습]2. 정답 코드를 작성하세요.\n",
    "x = \"Hello Python!\"\n",
    "\n",
    "#len() : 문자열 길이 구하기\n",
    "print(f\"문자열 길이 => {len(x)}\")\n",
    "\n",
    "#count() : 문자의 개수 구하기\n",
    "print(f\"o의 개수 => {x.count('o')}\")\n",
    "print(f\"on의 개수 => {x.count('on')}\")\n",
    "\n",
    "#find() : 문자가 처음 나오는 위치 반환\n",
    "print(f\"P 시작위치 => {x.find('P')}\")\n",
    "\n",
    "#index() : 문자가 처음 나오는 위치 반환\n",
    "print(f\"Python 시작위치 => {x.index('Python')}\")\n"
   ]
  },
  {
   "cell_type": "markdown",
   "metadata": {
    "id": "Lpbl_1EINhp9"
   },
   "source": [
    "### **문자열 함수(2)**\n",
    "+ **삽입문자.join(문자열)** : 문자열 사이에 문자 삽입\n",
    "+ **문자열.upper()** :소문자를 대문자로 변환\n",
    "+ **문자열.lower()** : 대문자를 소문자로 변환\n",
    "+ **문자열.replace(원본,바꿀문자)** : 문자열 바꾸기\n",
    "+ **문자열.split(나눌문자)** : 문자열 나누기\n",
    " - 인수가 없으면 공백(스페이스, 탭, 엔터 등)을 기준\n",
    "+ **문자열.strip(나눌문자)** : 문자열의 시작과 끝에서 주어진 문자를 제거\n"
   ]
  },
  {
   "cell_type": "markdown",
   "metadata": {
    "id": "Nb6sRZSEz9IH"
   },
   "source": [
    "###[실습]3. 아래와 같은 결과가 나타나도록 코드를 작성하시오.  \n",
    "x = \"  Hello Python!  \"  \n",
    "1. 문자열 사이에 문자('-') 삽입 :join\n",
    "2. 대문자 변환\n",
    "3. 소문자 변환\n",
    "4. 문자 치환하기\n",
    "5. 문자열 치환하기\n",
    "6. 문자열에서 특정문자 제거하기\n",
    "6. 문자열 나누기\n",
    "\n",
    "[출력]  \n",
    "```\n",
    "H-e-l-l-o- -P-y-t-h-o-n-!\n",
    "Hello Python! 대문자변환  => HELLO PYTHON!\n",
    "Hello Python! 소문자변환  => hello python!\n",
    "Hello Python!  => Hello ★ython!\n",
    "Hello **thon!\n",
    "Hello Python!  => Hello Python\n",
    "H-e-l-l-o- -P-y-t-h-o-n-!  => ['H', 'e', 'l', 'l', 'o', ' ', 'P', 'y', 't', 'h', 'o', 'n', '!']\n",
    "\n",
    "```"
   ]
  },
  {
   "cell_type": "code",
   "execution_count": 22,
   "metadata": {
    "id": "5yOpihzY1KUk"
   },
   "outputs": [
    {
     "name": "stdout",
     "output_type": "stream",
     "text": [
      "H-e-l-l-o- -P-y-t-h-o-n-!\n",
      "Hello Python! 대문자변환 => HELLO PYTHON!\n",
      "Hello Python! 대문자변환 => hello python!\n",
      "Hello Python! => Hello ★ython!\n",
      "**llo Python!\n",
      "Hello Python! => Hello Python\n",
      "H-e-l-l-o- -P-y-t-h-o-n-! => ['H', 'e', 'l', 'l', 'o', ' ', 'P', 'y', 't', 'h', 'o', 'n', '!']\n"
     ]
    }
   ],
   "source": [
    "#[실습]3. 정답을 작성하세요.\n",
    "x = \"Hello Python!\"\n",
    "#join() : 문자열 사이에 문자 삽입\n",
    "print('-'.join(x))\n",
    "\n",
    "#upper() :소문자를 대문자로 변환\n",
    "print(f\"{x} 대문자변환 => {x.upper()}\")\n",
    "\n",
    "#lower() : 대문자를 소문자로 변환\n",
    "print(f\"{x} 소문자변환 => {x.lower()}\")\n",
    "\n",
    "#replace() : 문자열 바꾸기\n",
    "print(f\"{x} => {x.replace('P', '★')}\")\n",
    "print(f\"{x.replace('He', '**')}\")\n",
    "\n",
    "#strip() : 시작과 끝에서 특정 문자 제거\n",
    "print(f\"{x} => {x.strip('!')}\")\n",
    "\n",
    "#split() : 문자열 나누기\n",
    "print(f\"{'-'.join(x)} => {'-'.join(x).split('-')}\")\n"
   ]
  },
  {
   "cell_type": "markdown",
   "metadata": {
    "id": "J_9axlLiXa9B"
   },
   "source": [
    "### [실습] 4. 문자열 다루기 (split)\n",
    "* txt 라는 변수에 Python,java,c++이 들어있다. 해당 변수값을 , 를 기준으로 분리해서 출력하라<br>\n",
    "  [출력]  \n",
    "  ['Python', 'java', 'c++']"
   ]
  },
  {
   "cell_type": "code",
   "execution_count": 23,
   "metadata": {
    "executionInfo": {
     "elapsed": 12,
     "status": "ok",
     "timestamp": 1724724292009,
     "user": {
      "displayName": "곽상미",
      "userId": "10268103871227333801"
     },
     "user_tz": -540
    },
    "id": "wjwXRNlHXch1"
   },
   "outputs": [
    {
     "name": "stdout",
     "output_type": "stream",
     "text": [
      "['Python', 'java', 'c++']\n"
     ]
    }
   ],
   "source": [
    "txt = 'Python,java,c++'\n",
    "print(txt.split(','))"
   ]
  },
  {
   "cell_type": "code",
   "execution_count": 25,
   "metadata": {
    "id": "uZTAUU-EnGzu"
   },
   "outputs": [
    {
     "name": "stdout",
     "output_type": "stream",
     "text": [
      "['Python', 'java', 'c++']\n"
     ]
    }
   ],
   "source": [
    "#[실습]4. 정답코드를 작성하세요.\n",
    "txt = 'Python,java,c++'\n",
    "print(txt.split(','))"
   ]
  },
  {
   "cell_type": "markdown",
   "metadata": {
    "id": "m_Q-U4zPXidU"
   },
   "source": [
    "### [실습] 5.  문자열 다루기 (split)\n",
    "* 다음과 같은 파일 이름(확장자 포함)에서 파일이름을 제거한 확장자만 출력하세요.\n",
    "\n",
    "```python\n",
    "filename = 'example01.xlsx'\n",
    "```"
   ]
  },
  {
   "cell_type": "code",
   "execution_count": 27,
   "metadata": {
    "id": "O625tqLSXmX2"
   },
   "outputs": [
    {
     "name": "stdout",
     "output_type": "stream",
     "text": [
      "xlsx\n"
     ]
    }
   ],
   "source": [
    "#[실습]5. 정답코드를 작성하세요.\n",
    "filename = 'example01.xlsx'\n",
    "print(f\"{filename.split('.')[-1]}\")"
   ]
  },
  {
   "cell_type": "markdown",
   "metadata": {
    "id": "7xGJJaUlIiBz"
   },
   "source": [
    "###분할 연산을 이용한 문자열 입력 : split('문자')    \n",
    "input().split('문자'') 를 사용하면 콜론 '문자' 기호를 기준으로 잘라서 입력으로 받음.\n",
    "\n",
    "ex1) 시분을 : 로 분리하여 입력받아, : 로 분리하여 출력하기\n",
    "\n",
    "```\n",
    "a, b = input().split(':')\n",
    "print(a, b, sep=':')  // 콜론 ':' 기호를 사이에 두고 값을 출력,sep 는  seperator를 의미\n",
    "```\n",
    "ex2) y,m,d (2020.3.30) 입력받아, 30-3-2020으로 출력하기\n",
    "```\n",
    "y,m,d=input().split('.')\n",
    "print(d, m, y,sep='-')\n",
    "```\n",
    "\n",
    "###[실습] 6.  두 정수를 공백으로 구분하여 입력받아 더한 값을 출력하세요.(input은 한번만 사용)\n",
    "\n",
    "[입력]2  4  \n",
    "[출력]6"
   ]
  },
  {
   "cell_type": "code",
   "execution_count": 29,
   "metadata": {
    "id": "L-cScj8cKJBv"
   },
   "outputs": [
    {
     "name": "stdin",
     "output_type": "stream",
     "text": [
      " 2 4\n"
     ]
    },
    {
     "name": "stdout",
     "output_type": "stream",
     "text": [
      "6\n"
     ]
    }
   ],
   "source": [
    "#[실습]6. 정답코드를 작성하시오.\n",
    "a,b = map(int, input().split())\n",
    "print(a+b)"
   ]
  },
  {
   "cell_type": "markdown",
   "metadata": {
    "id": "S7E8ibyZKMTp"
   },
   "source": [
    "### [실습] 7. 시 분을 공백으로 두 변수로 입력받아 :로 분리하여 출력하시오.(input, print 한번만 사용)\n",
    "\n",
    "[입력]시,분을 차례로 입력하세요15 30  \n",
    "[출력]15:30"
   ]
  },
  {
   "cell_type": "code",
   "execution_count": 30,
   "metadata": {
    "id": "zULyUMDwLME5"
   },
   "outputs": [
    {
     "name": "stdout",
     "output_type": "stream",
     "text": [
      "시, 분을 차례로 입력하세요"
     ]
    },
    {
     "name": "stdin",
     "output_type": "stream",
     "text": [
      " 15 30\n"
     ]
    },
    {
     "name": "stdout",
     "output_type": "stream",
     "text": [
      "15:30\n"
     ]
    }
   ],
   "source": [
    "#[실습]7. 정답코드를 작성하시오.\n",
    "print(\"시, 분을 차례로 입력하세요\", end='')\n",
    "h, m = map(int, input().split())\n",
    "print(h, m, sep=':')"
   ]
  },
  {
   "cell_type": "markdown",
   "metadata": {
    "id": "xiUdf7f3LrE0"
   },
   "source": [
    "### [실습] 8. 2024-09-01 y,m,d 입력받아, 01/09/2024 으로 출력하기\n",
    "\n",
    "[입력]년-월-일을 입력하세요2024-09-01  \n",
    "[출력]01/09/2024"
   ]
  },
  {
   "cell_type": "code",
   "execution_count": 32,
   "metadata": {
    "id": "L76l49nqMRsh"
   },
   "outputs": [
    {
     "name": "stdout",
     "output_type": "stream",
     "text": [
      "년-월-일을 입력하세요"
     ]
    },
    {
     "name": "stdin",
     "output_type": "stream",
     "text": [
      " 2024-09-01\n"
     ]
    },
    {
     "name": "stdout",
     "output_type": "stream",
     "text": [
      "01/09/2024\n"
     ]
    }
   ],
   "source": [
    "#[실습]8. 정답코드를 작성하시오.\n",
    "print(\"년-월-일을 입력하세요\", end='')\n",
    "date = input().split('-')\n",
    "date.reverse()\n",
    "print(*date, sep='/')"
   ]
  },
  {
   "cell_type": "markdown",
   "metadata": {
    "id": "UGugTFFHoVN_"
   },
   "source": []
  },
  {
   "cell_type": "markdown",
   "metadata": {
    "id": "CDa7n7TWWN32"
   },
   "source": [
    "### [실습] 9. 사용자로부터 주민등록번호를 입력받아 생일을 출력하세요.\n",
    "  - 예) 800101-1231231 주민번호를 입력받으면 0101을 출력하면 됨  \n",
    "  [입력]  \n",
    "  주민번호는?800101-1231231  \n",
    "  [출력]  \n",
    "  생일: 0101"
   ]
  },
  {
   "cell_type": "code",
   "execution_count": 34,
   "metadata": {
    "id": "zasJNG67WWIy"
   },
   "outputs": [
    {
     "name": "stdin",
     "output_type": "stream",
     "text": [
      " 800101-1231231\n"
     ]
    },
    {
     "name": "stdout",
     "output_type": "stream",
     "text": [
      "0101\n"
     ]
    }
   ],
   "source": [
    " #[실습]9. 정답코드를 작성하세요.\n",
    "n = input()\n",
    "print(n[2:6])"
   ]
  },
  {
   "cell_type": "markdown",
   "metadata": {
    "id": "UTvA6OhGWmj7"
   },
   "source": [
    " ### [실습] 10. 문자열 다루기 (strip)\n",
    "* 다음 문자열에서 #을 제거하시오.\n",
    "```python\n",
    "mystr = \"####Python flask####\"\n",
    "```\n",
    "출력 예: 'Python flask'"
   ]
  },
  {
   "cell_type": "code",
   "execution_count": 35,
   "metadata": {
    "colab": {
     "base_uri": "https://localhost:8080/"
    },
    "executionInfo": {
     "elapsed": 4,
     "status": "ok",
     "timestamp": 1724561749337,
     "user": {
      "displayName": "곽상미",
      "userId": "10268103871227333801"
     },
     "user_tz": -540
    },
    "id": "AWQvWzSZWl6w",
    "outputId": "63922e77-101f-4961-a428-103523af8a45"
   },
   "outputs": [
    {
     "name": "stdout",
     "output_type": "stream",
     "text": [
      "Python flask\n"
     ]
    }
   ],
   "source": [
    "mystr = \"####Python flask####\"\n",
    "#[실습]10. 정답코드를 작성하세요.\n",
    "print(mystr.strip(\"#\"))"
   ]
  },
  {
   "cell_type": "markdown",
   "metadata": {
    "id": "kSO5ACTjWwCc"
   },
   "source": [
    "### [실습] 11.  문자열 다루기 (strip)\n",
    "* 주식 종목을 나타내는 종목코드에 공백과 # 기호가 포함되어 있다. 공백과 '#' 기호를 제거하고 종목코드만을 추출하라.\n",
    "```python\n",
    "code = '       000660##          '\n",
    "```\n",
    "출력: '000660'"
   ]
  },
  {
   "cell_type": "code",
   "execution_count": 37,
   "metadata": {
    "id": "JO_SzDLZ6dWY"
   },
   "outputs": [
    {
     "name": "stdout",
     "output_type": "stream",
     "text": [
      "000660\n"
     ]
    }
   ],
   "source": [
    "#[실습]11. 정답을 작성하세요.\n",
    "code = '       000660##          '\n",
    "code = code.strip()\n",
    "code = code.strip('#')\n",
    "print(code)"
   ]
  },
  {
   "cell_type": "markdown",
   "metadata": {
    "id": "YTB1oIYYWzHi"
   },
   "source": [
    "### [실습] 12.  문자열 다루기 (count)\n",
    "* 다음 문자열에서 'Python' 문자열의 빈도수를 출력하라.\n",
    "```python\n",
    "python = \"The Python interpreter is easily extended with new functions and data types implemented in C or C++ (or other languages callable from C). Python is also suitable as an extension language for customizable applications.\"\n",
    "```\n",
    "출력 예: 2"
   ]
  },
  {
   "cell_type": "code",
   "execution_count": 38,
   "metadata": {
    "id": "o-wFZY6PW8O4"
   },
   "outputs": [
    {
     "name": "stdout",
     "output_type": "stream",
     "text": [
      "2\n"
     ]
    }
   ],
   "source": [
    "#[실습]12. 정답을 작성하세요.\n",
    "python = \"The Python interpreter is easily extended with new functions and data types implemented in C or C++ (or other languages callable from C). Python is also suitable as an extension language for customizable applications.\"\n",
    "print(python.count(\"Python\"))"
   ]
  },
  {
   "cell_type": "markdown",
   "metadata": {
    "id": "f4Y-QmPoWzDG"
   },
   "source": [
    "### [실습]13. 문자열 다루기 (count)\n",
    "* 다음 문자열에서 'w' 문자가 몇번 나오는지 빈도수를 출력하라.\n",
    "```python\n",
    "python = \"The Python interpreter is easily extended with new functions and data types implemented in C or C++ (or other languages callable from C). Python is also suitable as an extension language for customizable applications.\"\n",
    "```"
   ]
  },
  {
   "cell_type": "code",
   "execution_count": 40,
   "metadata": {
    "id": "ptUSD8HfXFXk"
   },
   "outputs": [
    {
     "name": "stdout",
     "output_type": "stream",
     "text": [
      "2\n"
     ]
    }
   ],
   "source": [
    "#[실습]13. 정답을 작성하세요.\n",
    "python = \"The Python interpreter is easily extended with new functions and data types implemented in C or C++ (or other languages callable from C). Python is also suitable as an extension language for customizable applications.\"\n",
    "print (python.count(\"w\"))"
   ]
  },
  {
   "cell_type": "markdown",
   "metadata": {
    "id": "rQL1c1l1WxjL"
   },
   "source": [
    "### [실습] 14.  문자열 다루기 (문자열 인덱싱)\n",
    "programming 라는 변수에 들어 있는 문자열에서  두번째와 여섯번째 문자를 출력하라\n",
    "```python\n",
    "txt = \"programming\"\n",
    "```\n",
    "출력 예: <br>\n",
    "r <br>\n",
    "a"
   ]
  },
  {
   "cell_type": "code",
   "execution_count": 41,
   "metadata": {
    "id": "GeHX80-BXMeF"
   },
   "outputs": [
    {
     "name": "stdout",
     "output_type": "stream",
     "text": [
      "r\n",
      "a\n"
     ]
    }
   ],
   "source": [
    "#[실습]14. 정답을 작성하세요.\n",
    "txt = \"programming\"\n",
    "print(txt[1], txt[5], sep='\\n')"
   ]
  },
  {
   "cell_type": "markdown",
   "metadata": {
    "id": "Mz6oho8-7Dkd"
   },
   "source": [
    "\n",
    "\n",
    "---\n",
    "### [실습] 15.\n",
    "\n",
    "코로나(corona)는 라틴말로 왕관을 뜻하며 통상 태양을 둘러싼 외곽의 빛(광환)을 지칭한다. 코로나바이러스라는 이름은 전자현미경으로 이 바이러스를 관찰했을 때 마치 코로나와 유사한 모양을 띠어 붙여진 이름이다. 이번에 중국의 우환에서 시작된 코로나바이러스는 2019년에 발견된 새로운 코로나바이러스라는 뜻으로 2019-nCoV로 붙여졌다. nCoV는 novel(새로운) CoV(코로나바이러스)라는 뜻이다.\n",
    "\n",
    "+ 몇 개의 문장으로 구성 되어 있는지 예시와 같이 출력하시오.\n",
    "+ 찾고자 하는 단어를 입력 받아서 해당 단어가 몇 번 언급되었는지 확인해 보세요.\n",
    "\n",
    "\n",
    "[출력]  \n",
    "4개의 문장으로 이루어져있습니다.  \n",
    "['코로나(corona)는 라틴말로 왕관을 뜻하며 통상 태양을 둘러싼 외곽의 빛(광환)을 지칭한다', ' 코로나바이러스라는 이름은 전자현미경으로 이 바이러스를 관찰했을 때 마치 코로나와 유사한 모양을 띠어 붙여진 이름이다', ' 이번에 중국의 우환에서 시작된 코로나바이러스는 2019년에 발견된 새로운 코로나바이러스라는 뜻으로 2019-nCoV로 붙여졌다', ' nCoV는 novel(새로운) CoV(코로나바이러스)라는 뜻이다'].\n",
    "\n",
    "---\n",
    "\n",
    "찾고자하는 단어를 입력하세요. 현미경\n",
    "\n",
    "---\n",
    "\n",
    "현미경는 1번 언급되었습니다.\n",
    "\n",
    "---\n"
   ]
  },
  {
   "cell_type": "code",
   "execution_count": 51,
   "metadata": {
    "colab": {
     "base_uri": "https://localhost:8080/",
     "height": 200
    },
    "executionInfo": {
     "elapsed": 7541,
     "status": "ok",
     "timestamp": 1592727086588,
     "user": {
      "displayName": "김경민",
      "photoUrl": "",
      "userId": "16754840959427160571"
     },
     "user_tz": -540
    },
    "id": "w77iSjxZ7l7M",
    "outputId": "d0428348-a408-4fcb-9671-3b6201171857"
   },
   "outputs": [
    {
     "name": "stdout",
     "output_type": "stream",
     "text": [
      "--------------------------------------------------\n",
      "4개의 문장으로 이루어져있습니다.\n",
      "['코로나(corona)는 라틴말로 왕관을 뜻하며 통상 태양을 둘러싼 외곽의 빛(광환)을 지칭한다.', '코로나바이러스라는 이름은 전자현미경으로 이 바이러스를 관찰했을 때 마치 코로나와 유사한 모양을 띠어 붙여진 이름이다.', '이번에 중국의 우환에서 시작된 코로나바이러스는 2019년에 발견된 새로운 코로나바이러스라는 뜻으로 2019-nCoV로 붙여졌다.', 'nCoV는 novel(새로운) CoV(코로나바이러스)라는 뜻이다.']\n",
      "--------------------------------------------------\n",
      "찾고자하는 단어를 입력하세요. \n"
     ]
    },
    {
     "name": "stdin",
     "output_type": "stream",
     "text": [
      " 현미경\n"
     ]
    },
    {
     "name": "stdout",
     "output_type": "stream",
     "text": [
      "--------------------------------------------------\n",
      "현미경는 0번 언급되었습니다.\n",
      "--------------------------------------------------\n"
     ]
    }
   ],
   "source": [
    "#[실습]15. 정답을 작성하세요.\n",
    "corona = '''코로나(corona)는 라틴말로 왕관을 뜻하며 통상 태양을 둘러싼 외곽의 빛(광환)을 지칭한다.\n",
    "코로나바이러스라는 이름은 전자현미경으로 이 바이러스를 관찰했을 때 마치 코로나와 유사한 모양을 띠어 붙여진 이름이다.\n",
    "이번에 중국의 우환에서 시작된 코로나바이러스는 2019년에 발견된 새로운 코로나바이러스라는 뜻으로 2019-nCoV로 붙여졌다.\n",
    "nCoV는 novel(새로운) CoV(코로나바이러스)라는 뜻이다.'''.split('\\n')\n",
    "print('-'*50)\n",
    "print(f'{len(corona)}개의 문장으로 이루어져있습니다.')\n",
    "print(f'{corona}')\n",
    "print('-'*50)\n",
    "print('찾고자하는 단어를 입력하세요. ')\n",
    "s = input()\n",
    "print('-'*50)\n",
    "print(f'{s}는 {corona.count(s)}번 언급되었습니다.')\n",
    "print('-'*50)"
   ]
  },
  {
   "cell_type": "code",
   "execution_count": null,
   "metadata": {},
   "outputs": [],
   "source": []
  }
 ],
 "metadata": {
  "colab": {
   "provenance": [
    {
     "file_id": "1S2U29tttcuSlwgfcgWAcurqO3NGhbxvu",
     "timestamp": 1724559577370
    }
   ]
  },
  "kernelspec": {
   "display_name": "Python 3 (ipykernel)",
   "language": "python",
   "name": "python3"
  },
  "language_info": {
   "codemirror_mode": {
    "name": "ipython",
    "version": 3
   },
   "file_extension": ".py",
   "mimetype": "text/x-python",
   "name": "python",
   "nbconvert_exporter": "python",
   "pygments_lexer": "ipython3",
   "version": "3.11.8"
  }
 },
 "nbformat": 4,
 "nbformat_minor": 4
}
